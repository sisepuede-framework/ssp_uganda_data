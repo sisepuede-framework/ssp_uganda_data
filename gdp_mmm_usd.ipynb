{
 "cells": [
  {
   "cell_type": "code",
   "execution_count": 1,
   "id": "23829544",
   "metadata": {},
   "outputs": [],
   "source": [
    "# add path to sispeuede to sys.path in python and turn off warnings\n",
    "import os, os.path\n",
    "import pathlib\n",
    "import sys\n",
    "import warnings\n",
    "import pandas as pd\n",
    "\n",
    "warnings.filterwarnings(\"ignore\")\n",
    "\n",
    "##  I'M LAZY, SO I HAVEN'T INSTALLED \n",
    "\n",
    "path_git = pathlib.Path(\"/Users/fabianfuentes/git\")\n",
    "for subdir in [\n",
    "    \"sisepuede\", \n",
    "    \"sisepuede_data_pipeline\",\n",
    "    #\"sisepuede_juypyter\"\n",
    "]:\n",
    "    path_cur = path_git.joinpath(subdir)\n",
    "    if str(path_cur) not in sys.path:\n",
    "        sys.path.append(str(path_cur))\n",
    "        \n",
    "\n",
    "path_sisepuede_inputs_database = pathlib.Path(\"/Users/fabianfuentes/git/sisepuede_inputs.sqlite\")              # e.g., \"/Users/usuario/git/sisepuede_data_pipeline/sisepuede_inputs.sqlite\"\n",
    "\n",
    "import lib.sisepuede_data_constructs as dc             # from sisepuede_data_pipeline\n",
    "\n",
    "construct = dc.SISEPUEDEDataConstructs(path_output_database = path_sisepuede_inputs_database, )\n"
   ]
  },
  {
   "cell_type": "code",
   "execution_count": 2,
   "id": "71924d81",
   "metadata": {},
   "outputs": [],
   "source": [
    "dir_cur = pathlib.Path(os.getcwd())\n",
    "input_data = dir_cur.joinpath(\"input_data\")\n",
    "output_data = dir_cur.joinpath(\"output_data\")"
   ]
  },
  {
   "cell_type": "code",
   "execution_count": 3,
   "id": "f8d70489",
   "metadata": {},
   "outputs": [
    {
     "data": {
      "text/html": [
       "<div>\n",
       "<style scoped>\n",
       "    .dataframe tbody tr th:only-of-type {\n",
       "        vertical-align: middle;\n",
       "    }\n",
       "\n",
       "    .dataframe tbody tr th {\n",
       "        vertical-align: top;\n",
       "    }\n",
       "\n",
       "    .dataframe thead th {\n",
       "        text-align: right;\n",
       "    }\n",
       "</style>\n",
       "<table border=\"1\" class=\"dataframe\">\n",
       "  <thead>\n",
       "    <tr style=\"text-align: right;\">\n",
       "      <th></th>\n",
       "      <th>iso_alpha_3</th>\n",
       "      <th>year</th>\n",
       "      <th>gdp_mmm_usd</th>\n",
       "    </tr>\n",
       "  </thead>\n",
       "  <tbody>\n",
       "    <tr>\n",
       "      <th>0</th>\n",
       "      <td>ABW</td>\n",
       "      <td>1986</td>\n",
       "      <td>1.320771</td>\n",
       "    </tr>\n",
       "    <tr>\n",
       "      <th>1</th>\n",
       "      <td>ABW</td>\n",
       "      <td>1987</td>\n",
       "      <td>1.533138</td>\n",
       "    </tr>\n",
       "    <tr>\n",
       "      <th>2</th>\n",
       "      <td>ABW</td>\n",
       "      <td>1988</td>\n",
       "      <td>1.818915</td>\n",
       "    </tr>\n",
       "    <tr>\n",
       "      <th>3</th>\n",
       "      <td>ABW</td>\n",
       "      <td>1989</td>\n",
       "      <td>2.038912</td>\n",
       "    </tr>\n",
       "    <tr>\n",
       "      <th>4</th>\n",
       "      <td>ABW</td>\n",
       "      <td>1990</td>\n",
       "      <td>2.120000</td>\n",
       "    </tr>\n",
       "  </tbody>\n",
       "</table>\n",
       "</div>"
      ],
      "text/plain": [
       "  iso_alpha_3  year  gdp_mmm_usd\n",
       "0         ABW  1986     1.320771\n",
       "1         ABW  1987     1.533138\n",
       "2         ABW  1988     1.818915\n",
       "3         ABW  1989     2.038912\n",
       "4         ABW  1990     2.120000"
      ]
     },
     "execution_count": 3,
     "metadata": {},
     "output_type": "execute_result"
    }
   ],
   "source": [
    "gdp = construct.read_from_output_database(\n",
    "    \"GDP\",\n",
    "    table_type = \"historical\"\n",
    ")\n",
    "\n",
    "gdp.head()"
   ]
  },
  {
   "cell_type": "code",
   "execution_count": 4,
   "id": "48cb4c42",
   "metadata": {},
   "outputs": [
    {
     "data": {
      "text/html": [
       "<div>\n",
       "<style scoped>\n",
       "    .dataframe tbody tr th:only-of-type {\n",
       "        vertical-align: middle;\n",
       "    }\n",
       "\n",
       "    .dataframe tbody tr th {\n",
       "        vertical-align: top;\n",
       "    }\n",
       "\n",
       "    .dataframe thead th {\n",
       "        text-align: right;\n",
       "    }\n",
       "</style>\n",
       "<table border=\"1\" class=\"dataframe\">\n",
       "  <thead>\n",
       "    <tr style=\"text-align: right;\">\n",
       "      <th></th>\n",
       "      <th>year</th>\n",
       "      <th>gdp_mmm_usd</th>\n",
       "    </tr>\n",
       "  </thead>\n",
       "  <tbody>\n",
       "    <tr>\n",
       "      <th>count</th>\n",
       "      <td>44.000000</td>\n",
       "      <td>44.000000</td>\n",
       "    </tr>\n",
       "    <tr>\n",
       "      <th>mean</th>\n",
       "      <td>2000.500000</td>\n",
       "      <td>42.300549</td>\n",
       "    </tr>\n",
       "    <tr>\n",
       "      <th>std</th>\n",
       "      <td>12.845233</td>\n",
       "      <td>30.475254</td>\n",
       "    </tr>\n",
       "    <tr>\n",
       "      <th>min</th>\n",
       "      <td>1979.000000</td>\n",
       "      <td>11.098871</td>\n",
       "    </tr>\n",
       "    <tr>\n",
       "      <th>25%</th>\n",
       "      <td>1989.750000</td>\n",
       "      <td>15.618110</td>\n",
       "    </tr>\n",
       "    <tr>\n",
       "      <th>50%</th>\n",
       "      <td>2000.500000</td>\n",
       "      <td>30.595000</td>\n",
       "    </tr>\n",
       "    <tr>\n",
       "      <th>75%</th>\n",
       "      <td>2011.250000</td>\n",
       "      <td>67.097500</td>\n",
       "    </tr>\n",
       "    <tr>\n",
       "      <th>max</th>\n",
       "      <td>2022.000000</td>\n",
       "      <td>107.730000</td>\n",
       "    </tr>\n",
       "  </tbody>\n",
       "</table>\n",
       "</div>"
      ],
      "text/plain": [
       "              year  gdp_mmm_usd\n",
       "count    44.000000    44.000000\n",
       "mean   2000.500000    42.300549\n",
       "std      12.845233    30.475254\n",
       "min    1979.000000    11.098871\n",
       "25%    1989.750000    15.618110\n",
       "50%    2000.500000    30.595000\n",
       "75%    2011.250000    67.097500\n",
       "max    2022.000000   107.730000"
      ]
     },
     "execution_count": 4,
     "metadata": {},
     "output_type": "execute_result"
    }
   ],
   "source": [
    "#filter data for Uganda\n",
    "gdp = gdp[gdp['iso_alpha_3'] == 'UGA']\n",
    "gdp.describe()\n"
   ]
  },
  {
   "cell_type": "code",
   "execution_count": 5,
   "id": "3de87547",
   "metadata": {},
   "outputs": [
    {
     "data": {
      "text/html": [
       "<div>\n",
       "<style scoped>\n",
       "    .dataframe tbody tr th:only-of-type {\n",
       "        vertical-align: middle;\n",
       "    }\n",
       "\n",
       "    .dataframe tbody tr th {\n",
       "        vertical-align: top;\n",
       "    }\n",
       "\n",
       "    .dataframe thead th {\n",
       "        text-align: right;\n",
       "    }\n",
       "</style>\n",
       "<table border=\"1\" class=\"dataframe\">\n",
       "  <thead>\n",
       "    <tr style=\"text-align: right;\">\n",
       "      <th></th>\n",
       "      <th>iso_alpha_3</th>\n",
       "      <th>year</th>\n",
       "      <th>gdp_mmm_usd</th>\n",
       "    </tr>\n",
       "  </thead>\n",
       "  <tbody>\n",
       "    <tr>\n",
       "      <th>7392</th>\n",
       "      <td>UGA</td>\n",
       "      <td>2018</td>\n",
       "      <td>90.79</td>\n",
       "    </tr>\n",
       "    <tr>\n",
       "      <th>7393</th>\n",
       "      <td>UGA</td>\n",
       "      <td>2019</td>\n",
       "      <td>96.64</td>\n",
       "    </tr>\n",
       "    <tr>\n",
       "      <th>7394</th>\n",
       "      <td>UGA</td>\n",
       "      <td>2020</td>\n",
       "      <td>99.49</td>\n",
       "    </tr>\n",
       "    <tr>\n",
       "      <th>7395</th>\n",
       "      <td>UGA</td>\n",
       "      <td>2021</td>\n",
       "      <td>103.01</td>\n",
       "    </tr>\n",
       "    <tr>\n",
       "      <th>7396</th>\n",
       "      <td>UGA</td>\n",
       "      <td>2022</td>\n",
       "      <td>107.73</td>\n",
       "    </tr>\n",
       "  </tbody>\n",
       "</table>\n",
       "</div>"
      ],
      "text/plain": [
       "     iso_alpha_3  year  gdp_mmm_usd\n",
       "7392         UGA  2018        90.79\n",
       "7393         UGA  2019        96.64\n",
       "7394         UGA  2020        99.49\n",
       "7395         UGA  2021       103.01\n",
       "7396         UGA  2022       107.73"
      ]
     },
     "execution_count": 5,
     "metadata": {},
     "output_type": "execute_result"
    }
   ],
   "source": [
    "gdp = gdp[gdp['year'] <= 2023].copy() # Filter out future years\n",
    "gdp.tail()"
   ]
  },
  {
   "cell_type": "code",
   "execution_count": 6,
   "id": "eabbecdc",
   "metadata": {},
   "outputs": [],
   "source": [
    "# Define the growth rates for each period\n",
    "growth_rates = [\n",
    "    (2024, 2025, 8.35),   # 2021-2025 \n",
    "    (2026, 2030, 8.22),   # 2026-2030\n",
    "    (2031, 2035, 8.07),   # 2031-2035\n",
    "    (2036, 2040, 7.83),   # 2036-2040\n",
    "    (2041, 2050, 7.83)    # 2041-2050\n",
    "]"
   ]
  },
  {
   "cell_type": "code",
   "execution_count": 7,
   "id": "1275d477",
   "metadata": {},
   "outputs": [],
   "source": [
    "last_gdp = gdp.iloc[-1]['gdp_mmm_usd']\n",
    "projection = []"
   ]
  },
  {
   "cell_type": "code",
   "execution_count": 8,
   "id": "2a86ee1d",
   "metadata": {},
   "outputs": [],
   "source": [
    "# Generate projections based on the defined growth rates\n",
    "for start, end, rate in growth_rates:\n",
    "    for year in range(start, end+1):\n",
    "        last_gdp *= (1 + rate/100)\n",
    "        projection.append({'year': year, 'gdp_mmm_usd': last_gdp})\n",
    "\n",
    "# Combine the original GDP data with the projections        \n",
    "gdp_extended = pd.concat([gdp, pd.DataFrame(projection)], ignore_index=True)        "
   ]
  },
  {
   "cell_type": "code",
   "execution_count": 9,
   "id": "9198a512",
   "metadata": {},
   "outputs": [
    {
     "data": {
      "text/plain": [
       "<Axes: xlabel='year'>"
      ]
     },
     "execution_count": 9,
     "metadata": {},
     "output_type": "execute_result"
    },
    {
     "data": {
      "image/png": "[encoded data removed]",
      "text/plain": [
       "<Figure size 640x480 with 1 Axes>"
      ]
     },
     "metadata": {},
     "output_type": "display_data"
    }
   ],
   "source": [
    "gdp_extended.plot(x = 'year', y='gdp_mmm_usd')"
   ]
  },
  {
   "cell_type": "code",
   "execution_count": 10,
   "id": "3dace792",
   "metadata": {},
   "outputs": [
    {
     "data": {
      "text/html": [
       "<div>\n",
       "<style scoped>\n",
       "    .dataframe tbody tr th:only-of-type {\n",
       "        vertical-align: middle;\n",
       "    }\n",
       "\n",
       "    .dataframe tbody tr th {\n",
       "        vertical-align: top;\n",
       "    }\n",
       "\n",
       "    .dataframe thead th {\n",
       "        text-align: right;\n",
       "    }\n",
       "</style>\n",
       "<table border=\"1\" class=\"dataframe\">\n",
       "  <thead>\n",
       "    <tr style=\"text-align: right;\">\n",
       "      <th></th>\n",
       "      <th>year</th>\n",
       "      <th>gdp_mmm_usd</th>\n",
       "    </tr>\n",
       "  </thead>\n",
       "  <tbody>\n",
       "    <tr>\n",
       "      <th>0</th>\n",
       "      <td>1979</td>\n",
       "      <td>11.488563</td>\n",
       "    </tr>\n",
       "    <tr>\n",
       "      <th>1</th>\n",
       "      <td>1980</td>\n",
       "      <td>11.098871</td>\n",
       "    </tr>\n",
       "    <tr>\n",
       "      <th>2</th>\n",
       "      <td>1981</td>\n",
       "      <td>11.527176</td>\n",
       "    </tr>\n",
       "    <tr>\n",
       "      <th>3</th>\n",
       "      <td>1982</td>\n",
       "      <td>12.472981</td>\n",
       "    </tr>\n",
       "    <tr>\n",
       "      <th>4</th>\n",
       "      <td>1983</td>\n",
       "      <td>13.084033</td>\n",
       "    </tr>\n",
       "  </tbody>\n",
       "</table>\n",
       "</div>"
      ],
      "text/plain": [
       "   year  gdp_mmm_usd\n",
       "0  1979    11.488563\n",
       "1  1980    11.098871\n",
       "2  1981    11.527176\n",
       "3  1982    12.472981\n",
       "4  1983    13.084033"
      ]
     },
     "execution_count": 10,
     "metadata": {},
     "output_type": "execute_result"
    }
   ],
   "source": [
    "# Prepare the final DataFrame with the required columns\n",
    "gdp_extended = gdp_extended.drop(columns=['iso_alpha_3'])\n",
    "gdp_extended.head()"
   ]
  },
  {
   "cell_type": "code",
   "execution_count": 11,
   "id": "3ca6f2f9",
   "metadata": {},
   "outputs": [],
   "source": [
    "gdp_extended.to_csv(output_data.joinpath(\"gdp_mmm_usd.csv\"), index=False)"
   ]
  }
 ],
 "metadata": {
  "kernelspec": {
   "display_name": "ssp",
   "language": "python",
   "name": "python3"
  },
  "language_info": {
   "codemirror_mode": {
    "name": "ipython",
    "version": 3
   },
   "file_extension": ".py",
   "mimetype": "text/x-python",
   "name": "python",
   "nbconvert_exporter": "python",
   "pygments_lexer": "ipython3",
   "version": "3.11.13"
  }
 },
 "nbformat": 4,
 "nbformat_minor": 5
}
