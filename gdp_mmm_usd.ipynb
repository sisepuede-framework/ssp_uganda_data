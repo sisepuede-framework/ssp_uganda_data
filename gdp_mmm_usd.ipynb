{
 "cells": [
  {
   "cell_type": "code",
   "execution_count": 13,
   "id": "e730efce",
   "metadata": {},
   "outputs": [],
   "source": [
    "import pandas as pd\n",
    "import pathlib\n",
    "import os, os.path"
   ]
  },
  {
   "cell_type": "code",
   "execution_count": 14,
   "id": "71924d81",
   "metadata": {},
   "outputs": [],
   "source": [
    "dir_cur = pathlib.Path(os.getcwd())\n",
    "input_data = dir_cur.joinpath(\"input_data\")\n",
    "output_data = dir_cur.joinpath(\"output_data\")"
   ]
  },
  {
   "cell_type": "code",
   "execution_count": 15,
   "id": "48cb4c42",
   "metadata": {},
   "outputs": [
    {
     "data": {
      "text/html": [
       "<div>\n",
       "<style scoped>\n",
       "    .dataframe tbody tr th:only-of-type {\n",
       "        vertical-align: middle;\n",
       "    }\n",
       "\n",
       "    .dataframe tbody tr th {\n",
       "        vertical-align: top;\n",
       "    }\n",
       "\n",
       "    .dataframe thead th {\n",
       "        text-align: right;\n",
       "    }\n",
       "</style>\n",
       "<table border=\"1\" class=\"dataframe\">\n",
       "  <thead>\n",
       "    <tr style=\"text-align: right;\">\n",
       "      <th></th>\n",
       "      <th>year</th>\n",
       "      <th>NY.GDP.MKTP.KD</th>\n",
       "    </tr>\n",
       "  </thead>\n",
       "  <tbody>\n",
       "    <tr>\n",
       "      <th>0</th>\n",
       "      <td>1982</td>\n",
       "      <td>4.983495e+09</td>\n",
       "    </tr>\n",
       "    <tr>\n",
       "      <th>1</th>\n",
       "      <td>1983</td>\n",
       "      <td>5.269775e+09</td>\n",
       "    </tr>\n",
       "    <tr>\n",
       "      <th>2</th>\n",
       "      <td>1984</td>\n",
       "      <td>5.251612e+09</td>\n",
       "    </tr>\n",
       "    <tr>\n",
       "      <th>3</th>\n",
       "      <td>1985</td>\n",
       "      <td>5.077973e+09</td>\n",
       "    </tr>\n",
       "    <tr>\n",
       "      <th>4</th>\n",
       "      <td>1986</td>\n",
       "      <td>5.097782e+09</td>\n",
       "    </tr>\n",
       "  </tbody>\n",
       "</table>\n",
       "</div>"
      ],
      "text/plain": [
       "   year  NY.GDP.MKTP.KD\n",
       "0  1982    4.983495e+09\n",
       "1  1983    5.269775e+09\n",
       "2  1984    5.251612e+09\n",
       "3  1985    5.077973e+09\n",
       "4  1986    5.097782e+09"
      ]
     },
     "execution_count": 15,
     "metadata": {},
     "output_type": "execute_result"
    }
   ],
   "source": [
    "gdp = pd.read_csv(input_data.joinpath(\"NY.GDP.MKTP.KD.csv\")) \n",
    "gdp.head()"
   ]
  },
  {
   "cell_type": "code",
   "execution_count": 16,
   "id": "3de87547",
   "metadata": {},
   "outputs": [
    {
     "data": {
      "text/html": [
       "<div>\n",
       "<style scoped>\n",
       "    .dataframe tbody tr th:only-of-type {\n",
       "        vertical-align: middle;\n",
       "    }\n",
       "\n",
       "    .dataframe tbody tr th {\n",
       "        vertical-align: top;\n",
       "    }\n",
       "\n",
       "    .dataframe thead th {\n",
       "        text-align: right;\n",
       "    }\n",
       "</style>\n",
       "<table border=\"1\" class=\"dataframe\">\n",
       "  <thead>\n",
       "    <tr style=\"text-align: right;\">\n",
       "      <th></th>\n",
       "      <th>year</th>\n",
       "      <th>NY.GDP.MKTP.KD</th>\n",
       "      <th>gdp_mmm_usd</th>\n",
       "    </tr>\n",
       "  </thead>\n",
       "  <tbody>\n",
       "    <tr>\n",
       "      <th>37</th>\n",
       "      <td>2019</td>\n",
       "      <td>3.960005e+10</td>\n",
       "      <td>39.600047</td>\n",
       "    </tr>\n",
       "    <tr>\n",
       "      <th>38</th>\n",
       "      <td>2020</td>\n",
       "      <td>4.076877e+10</td>\n",
       "      <td>40.768766</td>\n",
       "    </tr>\n",
       "    <tr>\n",
       "      <th>39</th>\n",
       "      <td>2021</td>\n",
       "      <td>4.221059e+10</td>\n",
       "      <td>42.210586</td>\n",
       "    </tr>\n",
       "    <tr>\n",
       "      <th>40</th>\n",
       "      <td>2022</td>\n",
       "      <td>4.414722e+10</td>\n",
       "      <td>44.147217</td>\n",
       "    </tr>\n",
       "    <tr>\n",
       "      <th>41</th>\n",
       "      <td>2023</td>\n",
       "      <td>4.650334e+10</td>\n",
       "      <td>46.503342</td>\n",
       "    </tr>\n",
       "  </tbody>\n",
       "</table>\n",
       "</div>"
      ],
      "text/plain": [
       "    year  NY.GDP.MKTP.KD  gdp_mmm_usd\n",
       "37  2019    3.960005e+10    39.600047\n",
       "38  2020    4.076877e+10    40.768766\n",
       "39  2021    4.221059e+10    42.210586\n",
       "40  2022    4.414722e+10    44.147217\n",
       "41  2023    4.650334e+10    46.503342"
      ]
     },
     "execution_count": 16,
     "metadata": {},
     "output_type": "execute_result"
    }
   ],
   "source": [
    "gdp['gdp_mmm_usd'] = gdp['NY.GDP.MKTP.KD'] / 1000000000  # Convert to billions\n",
    "gdp = gdp[gdp['year'] <= 2023].copy() # Filter out future years\n",
    "gdp.tail()"
   ]
  },
  {
   "cell_type": "code",
   "execution_count": 17,
   "id": "eabbecdc",
   "metadata": {},
   "outputs": [],
   "source": [
    "# Define the growth rates for each period\n",
    "growth_rates = [\n",
    "    (2024, 2025, 8.35),   # 2021-2025 → usar para 2024 y 2025\n",
    "    (2026, 2030, 8.22),   # 2026-2030\n",
    "    (2031, 2035, 8.07),   # 2031-2035\n",
    "    (2036, 2040, 7.83),   # 2036-2040\n",
    "    (2041, 2050, 7.83)    # 2041-2050\n",
    "]"
   ]
  },
  {
   "cell_type": "code",
   "execution_count": 18,
   "id": "1275d477",
   "metadata": {},
   "outputs": [],
   "source": [
    "last_gdp = gdp.iloc[-1]['gdp_mmm_usd']\n",
    "projection = []"
   ]
  },
  {
   "cell_type": "code",
   "execution_count": 19,
   "id": "2a86ee1d",
   "metadata": {},
   "outputs": [],
   "source": [
    "# Generate projections based on the defined growth rates\n",
    "for start, end, rate in growth_rates:\n",
    "    for year in range(start, end+1):\n",
    "        last_gdp *= (1 + rate/100)\n",
    "        projection.append({'year': year, 'gdp_mmm_usd': last_gdp})\n",
    "\n",
    "# Combine the original GDP data with the projections        \n",
    "gdp_extended = pd.concat([gdp, pd.DataFrame(projection)], ignore_index=True)        "
   ]
  },
  {
   "cell_type": "code",
   "execution_count": 20,
   "id": "d6b1a745",
   "metadata": {},
   "outputs": [
    {
     "data": {
      "text/html": [
       "<div>\n",
       "<style scoped>\n",
       "    .dataframe tbody tr th:only-of-type {\n",
       "        vertical-align: middle;\n",
       "    }\n",
       "\n",
       "    .dataframe tbody tr th {\n",
       "        vertical-align: top;\n",
       "    }\n",
       "\n",
       "    .dataframe thead th {\n",
       "        text-align: right;\n",
       "    }\n",
       "</style>\n",
       "<table border=\"1\" class=\"dataframe\">\n",
       "  <thead>\n",
       "    <tr style=\"text-align: right;\">\n",
       "      <th></th>\n",
       "      <th>year</th>\n",
       "      <th>NY.GDP.MKTP.KD</th>\n",
       "      <th>gdp_mmm_usd</th>\n",
       "    </tr>\n",
       "  </thead>\n",
       "  <tbody>\n",
       "    <tr>\n",
       "      <th>0</th>\n",
       "      <td>1982</td>\n",
       "      <td>4.983495e+09</td>\n",
       "      <td>4.983495</td>\n",
       "    </tr>\n",
       "    <tr>\n",
       "      <th>1</th>\n",
       "      <td>1983</td>\n",
       "      <td>5.269775e+09</td>\n",
       "      <td>5.269775</td>\n",
       "    </tr>\n",
       "    <tr>\n",
       "      <th>2</th>\n",
       "      <td>1984</td>\n",
       "      <td>5.251612e+09</td>\n",
       "      <td>5.251612</td>\n",
       "    </tr>\n",
       "    <tr>\n",
       "      <th>3</th>\n",
       "      <td>1985</td>\n",
       "      <td>5.077973e+09</td>\n",
       "      <td>5.077973</td>\n",
       "    </tr>\n",
       "    <tr>\n",
       "      <th>4</th>\n",
       "      <td>1986</td>\n",
       "      <td>5.097782e+09</td>\n",
       "      <td>5.097782</td>\n",
       "    </tr>\n",
       "  </tbody>\n",
       "</table>\n",
       "</div>"
      ],
      "text/plain": [
       "   year  NY.GDP.MKTP.KD  gdp_mmm_usd\n",
       "0  1982    4.983495e+09     4.983495\n",
       "1  1983    5.269775e+09     5.269775\n",
       "2  1984    5.251612e+09     5.251612\n",
       "3  1985    5.077973e+09     5.077973\n",
       "4  1986    5.097782e+09     5.097782"
      ]
     },
     "execution_count": 20,
     "metadata": {},
     "output_type": "execute_result"
    }
   ],
   "source": [
    "# Display the first few rows of the extended GDP DataFrame\n",
    "gdp_extended.head()"
   ]
  },
  {
   "cell_type": "code",
   "execution_count": 21,
   "id": "4d99ca45",
   "metadata": {},
   "outputs": [
    {
     "data": {
      "text/html": [
       "<div>\n",
       "<style scoped>\n",
       "    .dataframe tbody tr th:only-of-type {\n",
       "        vertical-align: middle;\n",
       "    }\n",
       "\n",
       "    .dataframe tbody tr th {\n",
       "        vertical-align: top;\n",
       "    }\n",
       "\n",
       "    .dataframe thead th {\n",
       "        text-align: right;\n",
       "    }\n",
       "</style>\n",
       "<table border=\"1\" class=\"dataframe\">\n",
       "  <thead>\n",
       "    <tr style=\"text-align: right;\">\n",
       "      <th></th>\n",
       "      <th>year</th>\n",
       "      <th>NY.GDP.MKTP.KD</th>\n",
       "      <th>gdp_mmm_usd</th>\n",
       "    </tr>\n",
       "  </thead>\n",
       "  <tbody>\n",
       "    <tr>\n",
       "      <th>64</th>\n",
       "      <td>2046</td>\n",
       "      <td>NaN</td>\n",
       "      <td>273.741762</td>\n",
       "    </tr>\n",
       "    <tr>\n",
       "      <th>65</th>\n",
       "      <td>2047</td>\n",
       "      <td>NaN</td>\n",
       "      <td>295.175742</td>\n",
       "    </tr>\n",
       "    <tr>\n",
       "      <th>66</th>\n",
       "      <td>2048</td>\n",
       "      <td>NaN</td>\n",
       "      <td>318.288002</td>\n",
       "    </tr>\n",
       "    <tr>\n",
       "      <th>67</th>\n",
       "      <td>2049</td>\n",
       "      <td>NaN</td>\n",
       "      <td>343.209953</td>\n",
       "    </tr>\n",
       "    <tr>\n",
       "      <th>68</th>\n",
       "      <td>2050</td>\n",
       "      <td>NaN</td>\n",
       "      <td>370.083292</td>\n",
       "    </tr>\n",
       "  </tbody>\n",
       "</table>\n",
       "</div>"
      ],
      "text/plain": [
       "    year  NY.GDP.MKTP.KD  gdp_mmm_usd\n",
       "64  2046             NaN   273.741762\n",
       "65  2047             NaN   295.175742\n",
       "66  2048             NaN   318.288002\n",
       "67  2049             NaN   343.209953\n",
       "68  2050             NaN   370.083292"
      ]
     },
     "execution_count": 21,
     "metadata": {},
     "output_type": "execute_result"
    }
   ],
   "source": [
    "# Display the last few rows of the extended GDP DataFrame\n",
    "gdp_extended.tail()"
   ]
  },
  {
   "cell_type": "code",
   "execution_count": 22,
   "id": "3dace792",
   "metadata": {},
   "outputs": [
    {
     "data": {
      "text/html": [
       "<div>\n",
       "<style scoped>\n",
       "    .dataframe tbody tr th:only-of-type {\n",
       "        vertical-align: middle;\n",
       "    }\n",
       "\n",
       "    .dataframe tbody tr th {\n",
       "        vertical-align: top;\n",
       "    }\n",
       "\n",
       "    .dataframe thead th {\n",
       "        text-align: right;\n",
       "    }\n",
       "</style>\n",
       "<table border=\"1\" class=\"dataframe\">\n",
       "  <thead>\n",
       "    <tr style=\"text-align: right;\">\n",
       "      <th></th>\n",
       "      <th>year</th>\n",
       "      <th>gdp_mmm_usd</th>\n",
       "    </tr>\n",
       "  </thead>\n",
       "  <tbody>\n",
       "    <tr>\n",
       "      <th>0</th>\n",
       "      <td>1982</td>\n",
       "      <td>4.983495</td>\n",
       "    </tr>\n",
       "    <tr>\n",
       "      <th>1</th>\n",
       "      <td>1983</td>\n",
       "      <td>5.269775</td>\n",
       "    </tr>\n",
       "    <tr>\n",
       "      <th>2</th>\n",
       "      <td>1984</td>\n",
       "      <td>5.251612</td>\n",
       "    </tr>\n",
       "    <tr>\n",
       "      <th>3</th>\n",
       "      <td>1985</td>\n",
       "      <td>5.077973</td>\n",
       "    </tr>\n",
       "    <tr>\n",
       "      <th>4</th>\n",
       "      <td>1986</td>\n",
       "      <td>5.097782</td>\n",
       "    </tr>\n",
       "  </tbody>\n",
       "</table>\n",
       "</div>"
      ],
      "text/plain": [
       "   year  gdp_mmm_usd\n",
       "0  1982     4.983495\n",
       "1  1983     5.269775\n",
       "2  1984     5.251612\n",
       "3  1985     5.077973\n",
       "4  1986     5.097782"
      ]
     },
     "execution_count": 22,
     "metadata": {},
     "output_type": "execute_result"
    }
   ],
   "source": [
    "# Prepare the final DataFrame with the required columns\n",
    "gdp_extended = gdp_extended.drop(columns=['NY.GDP.MKTP.KD'])\n",
    "gdp_extended.head()"
   ]
  },
  {
   "cell_type": "code",
   "execution_count": 23,
   "id": "3ca6f2f9",
   "metadata": {},
   "outputs": [],
   "source": [
    "gdp_extended.to_csv(output_data.joinpath(\"gdp_mmm_usd.csv\"), index=False)"
   ]
  }
 ],
 "metadata": {
  "kernelspec": {
   "display_name": "uganda_data_env",
   "language": "python",
   "name": "python3"
  },
  "language_info": {
   "codemirror_mode": {
    "name": "ipython",
    "version": 3
   },
   "file_extension": ".py",
   "mimetype": "text/x-python",
   "name": "python",
   "nbconvert_exporter": "python",
   "pygments_lexer": "ipython3",
   "version": "3.11.13"
  }
 },
 "nbformat": 4,
 "nbformat_minor": 5
}
