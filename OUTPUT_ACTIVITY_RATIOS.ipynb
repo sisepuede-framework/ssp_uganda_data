{
 "cells": [
  {
   "cell_type": "markdown",
   "id": "b2b81627-79bc-47b4-bee6-c10b5eaf2a69",
   "metadata": {
    "scrolled": true
   },
   "source": [
    "# OutputActivityRatios\n",
    "- Calculate any needed output activity ratios, including for petroleum refinement"
   ]
  },
  {
   "cell_type": "code",
   "execution_count": null,
   "id": "5b62ccba-e09b-4893-9031-834089e531bc",
   "metadata": {},
   "outputs": [],
   "source": []
  },
  {
   "cell_type": "code",
   "execution_count": null,
   "id": "2cf1fcdd-a732-4b22-9916-d49411b0790e",
   "metadata": {},
   "outputs": [],
   "source": [
    "import importlib\n",
    "import matplotlib.pyplot as plt\n",
    "import numpy as np\n",
    "import os, os.path\n",
    "import pandas as pd\n",
    "import pathlib\n",
    "import sisepuede.core.support_classes as sc\n",
    "import sisepuede.manager.sisepuede_file_structure as sfs\n",
    "import sisepuede.manager.sisepuede_models as sm\n",
    "import sisepuede.utilities._toolbox as sf\n",
    "import utils.common_data_needs as cdn\n",
    "import warnings\n",
    "warnings.filterwarnings(\"ignore\")\n",
    "\n",
    "from typing import *\n",
    "\n",
    "plt.style.use(\"dark_background\", )\n",
    "\n"
   ]
  },
  {
   "cell_type": "code",
   "execution_count": 3,
   "id": "030001a4-70fc-495d-b0dc-2295a807807d",
   "metadata": {},
   "outputs": [],
   "source": [
    "dict_ssp = cdn._setup_sisepuede_elements()\n",
    "\n",
    "matt = dict_ssp.get(\"model_attributes\", )\n",
    "models = dict_ssp.get(\"models\", )\n",
    "regions = dict_ssp.get(\"regions\", )\n",
    "time_periods = dict_ssp.get(\"time_periods\", )\n",
    "\n",
    "# setup region\n",
    "_REGION_NAME = \"uganda\"\n",
    "_REGION_ISO = regions.return_region_or_iso(_REGION_NAME, return_type = \"iso\")\n",
    "\n",
    "\n",
    "\n",
    "# SET SOME GLOBALS\n",
    "\n",
    "# fields\n",
    "_FIELD_SSP_ENTC = matt.get_subsector_attribute(\"Energy Technology\", \"pycategory_primary_element\")\n",
    "_FIELD_PURCHASES_TOTAL = \"total_purchases_kwh\"\n",
    "_FIELD_QUARTER = \"Quarter\"\n",
    "_FIELD_SALES_TOTAL = \"total_sales_kwh\"\n",
    "_FIELD_YEAR = \"Year\"\n",
    "\n",
    "# flags\n",
    "_FLAG_DROP = \"_DROP\"\n",
    "\n",
    "# sheets in the table\n",
    "_SHEET_PURCHASES = \"Energy_Purchased_kWh\"\n",
    "_SHEET_SALES = \"Energy Sales_kWh\"\n",
    "\n",
    "# units associated with input data\n",
    "_UNITS_DATASET_ERA = \"kwh\"\n",
    "\n",
    "# year to build estimates out to\n",
    "_YEAR_TARGET = 2100"
   ]
  },
  {
   "attachments": {},
   "cell_type": "markdown",
   "id": "9c98b840-2aae-46eb-9904-dd023cefb883",
   "metadata": {},
   "source": [
    "# Load data we'll work with\n",
    "\n",
    "- The [2023 Uganda/IEA Energy Transition Plan](https://www.iea.org/reports/uganda-energy-transition-plan) describes a number of useful modeling assumptions that we seem to adopt\n",
    "- The fractional share of fuels by refinement is helpful\n",
    "\n",
    "![Refinery Output Fractions](./input_data/iea_etp/refinery_output_activity_ratio.png)"
   ]
  },
  {
   "cell_type": "code",
   "execution_count": 20,
   "id": "f0481131-e01c-4008-b6ba-82dbe442b1a3",
   "metadata": {},
   "outputs": [],
   "source": [
    "    \n",
    "# get some SISEPUEDE elements\n",
    "attr_entc = matt.get_attribute_table(\"Energy Technology\")\n",
    "modvar_tlf = matt.get_variable(\n",
    "    models.model_enerprod.modvar_enfu_transmission_loss_frac_electricity,\n",
    ")\n",
    "\n",
    "\n",
    "# base dataset\n",
    "df_uganda = cdn.get_raw_ssp_inputs()\n",
    "\n",
    "\n",
    "# set variables and category to adjust\n",
    "_DICT_MODVARS_TARGETS = {\n",
    "    \"Fuel Production NemoMod OutputActivityRatio Diesel\": 0.22,\n",
    "    \"Fuel Production NemoMod OutputActivityRatio Gasoline\": 0.46,\n",
    "    \"Fuel Production NemoMod OutputActivityRatio Hydrocarbon Gas Liquids\": 0.07,\n",
    "    \"Fuel Production NemoMod OutputActivityRatio Kerosene\": 0.04,\n",
    "    \"Fuel Production NemoMod OutputActivityRatio Oil\": 0.04,   \n",
    "}\n",
    "\n",
    "_SSP_CAT_ENTC = \"fp_petroleum_refinement\"\n",
    "\n",
    "# year to estimate out to\n",
    "_YEAR_TARGET = 2100"
   ]
  },
  {
   "cell_type": "code",
   "execution_count": 36,
   "id": "b0031efc-19bf-482b-9ac0-be0c06d879e1",
   "metadata": {},
   "outputs": [
    {
     "data": {
      "text/plain": [
       "'``nemomod_entc_output_activity_ratio_fuel_production_$CAT-TECHNOLOGY$_oil``'"
      ]
     },
     "execution_count": 36,
     "metadata": {},
     "output_type": "execute_result"
    }
   ],
   "source": [
    "modvar.schema.schema_raw"
   ]
  },
  {
   "cell_type": "code",
   "execution_count": 33,
   "id": "b65eb8f0-d332-4225-9b2a-981e9a674de0",
   "metadata": {},
   "outputs": [],
   "source": [
    "df_oar_refinement = pd.DataFrame(\n",
    "    {\n",
    "        time_periods.field_year: range(2015, _YEAR_TARGET + 1),\n",
    "    }\n",
    ")\n",
    "\n",
    "fields_oar = []\n",
    "\n",
    "for modvar, frac in _DICT_MODVARS_TARGETS.items():\n",
    "    modvar = matt.get_variable(modvar, )\n",
    "    field = modvar.build_fields(category_restrictions = _SSP_CAT_ENTC, )\n",
    "\n",
    "    fields_oar.append(field)\n",
    "    df_oar_refinement[field] = frac"
   ]
  },
  {
   "cell_type": "code",
   "execution_count": 43,
   "id": "b58cce9a-ec14-4846-937a-74b4f074ff19",
   "metadata": {},
   "outputs": [
    {
     "data": {
      "text/plain": [
       "([<matplotlib.patches.Wedge at 0x356c13d90>,\n",
       "  <matplotlib.patches.Wedge at 0x356c21010>,\n",
       "  <matplotlib.patches.Wedge at 0x356c225d0>,\n",
       "  <matplotlib.patches.Wedge at 0x356c23950>,\n",
       "  <matplotlib.patches.Wedge at 0x356c28e10>],\n",
       " [Text(0.7401597982753384, 0.8137342766634638, 'diesel (0.22%)'),\n",
       "  Text(-1.0616152260211367, -0.28805053702447997, 'gasoline (0.46%)'),\n",
       "  Text(0.7088366644911542, -0.8411602600414829, 'hydrocarbon_gas_liquids (0.07%)'),\n",
       "  Text(0.9884705050343366, -0.48262414017241595, 'kerosene (0.04%)'),\n",
       "  Text(1.0874166038341415, -0.16590699113003585, 'oil (0.04%)')])"
      ]
     },
     "execution_count": 43,
     "metadata": {},
     "output_type": "execute_result"
    },
    {
     "data": {
      "image/png": "[encoded data removed]",
      "text/plain": [
       "<Figure size 640x480 with 1 Axes>"
      ]
     },
     "metadata": {},
     "output_type": "display_data"
    }
   ],
   "source": [
    "vec = df_oar_refinement[fields_oar].iloc[0].to_numpy()\n",
    "\n",
    "\n",
    "plt.pie(\n",
    "    vec,\n",
    "    labels = [\n",
    "        x.replace(\"nemomod_entc_output_activity_ratio_fuel_production_fp_petroleum_refinement_\", \"\") + f\" ({vec[i]}%)\"\n",
    "        for i, x in enumerate(fields_oar)\n",
    "    ],\n",
    ")"
   ]
  },
  {
   "cell_type": "code",
   "execution_count": null,
   "id": "1ffa9813-1b2b-421b-b445-814b759b27ae",
   "metadata": {},
   "outputs": [],
   "source": []
  },
  {
   "cell_type": "code",
   "execution_count": 146,
   "id": "57270363-c08e-4b83-8acf-1730b7fc8d16",
   "metadata": {},
   "outputs": [],
   "source": []
  },
  {
   "cell_type": "markdown",
   "id": "11f64397-407f-4cf2-89d9-cfa6a137d076",
   "metadata": {},
   "source": [
    "# Write Output"
   ]
  },
  {
   "cell_type": "code",
   "execution_count": 44,
   "id": "ecb96bab-c98c-483e-9584-f4280841de17",
   "metadata": {},
   "outputs": [],
   "source": [
    "\n",
    "df_oar_refinement.to_csv(\n",
    "    cdn._PATH_OUTPUTS.joinpath(f\"OUTPUT_ACTIVITY_RATIOS_REFINEMENT.csv\"),\n",
    "    encoding = \"UTF-8\",\n",
    "    index = None,\n",
    ")"
   ]
  },
  {
   "cell_type": "code",
   "execution_count": null,
   "id": "ca25a0cb-9fff-45ee-b82f-fb8a142744e9",
   "metadata": {},
   "outputs": [],
   "source": []
  },
  {
   "cell_type": "code",
   "execution_count": null,
   "id": "a62acb08-6e08-4ba8-b457-ec23029396a2",
   "metadata": {},
   "outputs": [],
   "source": []
  }
 ],
 "metadata": {
  "kernelspec": {
   "display_name": "Python 3 (ipykernel)",
   "language": "python",
   "name": "python3"
  },
  "language_info": {
   "codemirror_mode": {
    "name": "ipython",
    "version": 3
   },
   "file_extension": ".py",
   "mimetype": "text/x-python",
   "name": "python",
   "nbconvert_exporter": "python",
   "pygments_lexer": "ipython3",
   "version": "3.11.13"
  }
 },
 "nbformat": 4,
 "nbformat_minor": 5
}
