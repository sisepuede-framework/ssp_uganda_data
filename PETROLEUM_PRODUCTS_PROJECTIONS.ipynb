{
 "cells": [
  {
   "cell_type": "code",
   "execution_count": 1,
   "id": "f6877d4f-5663-40b0-88cc-064236312713",
   "metadata": {
    "collapsed": true,
    "jupyter": {
     "outputs_hidden": true
    }
   },
   "outputs": [
    {
     "name": "stderr",
     "output_type": "stream",
     "text": [
      "/opt/miniconda3/envs/sisepuede/lib/python3.11/site-packages/sisepuede/core/model_attributes.py:6684: UserWarning: \n",
      "\n",
      "                        MISSIONSEARCHNOTE: As of 2023-10-06, there is a temporary solution \n",
      "                        implemeted in ModelAttributes.get_variable_to_simplex_group_dictionary() \n",
      "                        to ensure that transition probability rows are enforced on a simplex.\n",
      "                        \n",
      "                        \n",
      "                        FIX THIS ASAP TO DERIVE PROPERLY.\n",
      "                        \n",
      "                        \n",
      "  warnings.warn(\n",
      "/opt/miniconda3/envs/sisepuede/lib/python3.11/site-packages/sisepuede/utilities/_toolbox.py:2551: UserWarning: Warning passed from optional_log: Successfully archived self.model_attributes to pickle at '/opt/miniconda3/envs/sisepuede/lib/python3.11/site-packages/sisepuede/out/sisepuede_run_2025-07-10T14;33;42.722643/sisepuede_run_2025-07-10T14;33;42.722643_model_attributes.pkl'.\n",
      "  warnings.warn(f\"Warning passed from optional_log: {msg}.\")\n",
      "/opt/miniconda3/envs/sisepuede/lib/python3.11/site-packages/sisepuede/utilities/_toolbox.py:2551: UserWarning: Warning passed from optional_log: Set Julia directory for modules and environment to '/opt/miniconda3/envs/sisepuede/lib/python3.11/site-packages/sisepuede/julia'..\n",
      "  warnings.warn(f\"Warning passed from optional_log: {msg}.\")\n",
      "/opt/miniconda3/envs/sisepuede/lib/python3.11/site-packages/sisepuede/utilities/_toolbox.py:2551: UserWarning: Warning passed from optional_log: Importing Julia....\n",
      "  warnings.warn(f\"Warning passed from optional_log: {msg}.\")\n"
     ]
    },
    {
     "name": "stdout",
     "output_type": "stream",
     "text": [
      "[juliapkg] Found dependencies: /opt/miniconda3/envs/sisepuede/lib/python3.11/site-packages/juliapkg/juliapkg.json\n",
      "[juliapkg] Found dependencies: /opt/miniconda3/envs/sisepuede/lib/python3.11/site-packages/sisepuede/julia/pyjuliapkg/juliapkg.json\n",
      "[juliapkg] Found dependencies: /opt/miniconda3/envs/sisepuede/lib/python3.11/site-packages/juliacall/juliapkg.json\n",
      "[juliapkg] Locating Julia ^1.11.5\n",
      "[juliapkg] Using Julia 1.11.5 at /Users/usuario/.julia/juliaup/julia-1.11.5+0.aarch64.apple.darwin14/bin/julia\n",
      "[juliapkg] Using Julia project at /opt/miniconda3/envs/sisepuede/lib/python3.11/site-packages/sisepuede/julia\n",
      "[juliapkg] Installing packages:\n",
      "           julia> import Pkg\n",
      "           julia> Pkg.Registry.update()\n",
      "           julia> Pkg.add([Pkg.PackageSpec(name=\"Cbc\", uuid=\"9961bab8-2fa3-5c5a-9d89-47fab24efd76\"), Pkg.PackageSpec(name=\"Clp\", uuid=\"e2554f3b-3117-50c0-817c-e040a3ddf72d\"), Pkg.PackageSpec(name=\"DataFrames\", uuid=\"a93c6f00-e57d-5684-b7b6-d8193f3e46c0\"), Pkg.PackageSpec(name=\"GLPK\", uuid=\"60bf3e95-4087-53dc-ae20-288a0d20c6a6\"), Pkg.PackageSpec(name=\"HiGHS\", uuid=\"87dc4568-4c63-4d18-b0c0-bb2238e4078b\"), Pkg.PackageSpec(name=\"Ipopt\", uuid=\"b6b21f68-93f8-5de0-b562-5493be1d77c9\"), Pkg.PackageSpec(name=\"JuMP\", uuid=\"4076af6c-e467-56ae-b986-b466b2749572\"), Pkg.PackageSpec(name=\"NemoMod\", uuid=\"a3c327a0-d2f0-11e8-37fd-d12fd35c3c72\", url=raw\"https://github.com/sei-international/NemoMod.jl.git\", rev=raw\"61e63e0\"), Pkg.PackageSpec(name=\"SQLite\", uuid=\"0aa819cd-b072-5ff4-a722-6bc24af294d9\"), Pkg.PackageSpec(name=\"PythonCall\", uuid=\"6099a3de-0909-46bc-b1f4-468b9a2dfc0d\")])\n",
      "           julia> Pkg.resolve()\n",
      "           julia> Pkg.precompile()\n"
     ]
    },
    {
     "name": "stderr",
     "output_type": "stream",
     "text": [
      "    Updating registry at `~/.julia/registries/General.toml`\n",
      "   Resolving package versions...\n",
      "   Installed MathOptInterface ─ v1.42.0\n",
      "    Updating `/opt/miniconda3/envs/sisepuede/lib/python3.11/site-packages/sisepuede/julia/Project.toml`\n",
      "  [9961bab8] + Cbc v1.2.0\n",
      "  [e2554f3b] + Clp v1.2.2\n",
      "  [a93c6f00] + DataFrames v1.7.0\n",
      "  [60bf3e95] + GLPK v1.2.1\n",
      "  [87dc4568] + HiGHS v1.18.1\n",
      "  [b6b21f68] + Ipopt v1.10.6\n",
      "  [4076af6c] + JuMP v1.26.0\n",
      "  [a3c327a0] + NemoMod v2.0.0 `https://github.com/sei-international/NemoMod.jl.git#61e63e0`\n",
      "⌅ [6099a3de] + PythonCall v0.9.22\n",
      "  [0aa819cd] + SQLite v1.6.1\n",
      "    Updating `/opt/miniconda3/envs/sisepuede/lib/python3.11/site-packages/sisepuede/julia/Manifest.toml`\n",
      "  [6e4b80f9] + BenchmarkTools v1.6.0\n",
      "  [9961bab8] + Cbc v1.2.0\n",
      "  [e2554f3b] + Clp v1.2.2\n",
      "  [523fee87] + CodecBzip2 v0.8.5\n",
      "  [944b1d66] + CodecZlib v0.7.8\n",
      "  [bbf7d656] + CommonSubexpressions v0.3.1\n",
      "  [34da2185] + Compat v4.17.0\n",
      "  [992eb4ea] + CondaPkg v0.2.29\n",
      "  [88353bc9] + ConfParser v0.1.2\n",
      "  [a8cc5b0e] + Crayons v4.1.1\n",
      "  [a10d1c49] + DBInterface v2.6.1\n",
      "  [9a962f9c] + DataAPI v1.16.0\n",
      "  [a93c6f00] + DataFrames v1.7.0\n",
      "  [864edb3b] + DataStructures v0.18.22\n",
      "  [e2d170a0] + DataValueInterfaces v1.0.0\n",
      "  [163ba53b] + DiffResults v1.1.0\n",
      "  [b552c78f] + DiffRules v1.15.1\n",
      "  [ffbed154] + DocStringExtensions v0.9.5\n",
      "  [f6369f11] + ForwardDiff v1.0.1\n",
      "  [60bf3e95] + GLPK v1.2.1\n",
      "  [87dc4568] + HiGHS v1.18.1\n",
      "  [842dd82b] + InlineStrings v1.4.4\n",
      "  [41ab1584] + InvertedIndices v1.3.1\n",
      "  [b6b21f68] + Ipopt v1.10.6\n",
      "  [92d709cd] + IrrationalConstants v0.2.4\n",
      "  [82899510] + IteratorInterfaceExtensions v1.0.0\n",
      "  [692b3bcd] + JLLWrappers v1.7.0\n",
      "  [682c06a0] + JSON v0.21.4\n",
      "  [0f8b85d8] + JSON3 v1.14.3\n",
      "  [4076af6c] + JuMP v1.26.0\n",
      "  [b964fa9f] + LaTeXStrings v1.4.0\n",
      "  [2ab3a3ac] + LogExpFunctions v0.3.29\n",
      "  [1914dd2f] + MacroTools v0.5.16\n",
      "  [b8f27783] + MathOptInterface v1.42.0\n",
      "  [0b3b1443] + MicroMamba v0.1.14\n",
      "  [e1d29d7a] + Missings v1.2.0\n",
      "  [d8a4904e] + MutableArithmetics v1.6.4\n",
      "  [77ba4419] + NaNMath v1.1.3\n",
      "  [a3c327a0] + NemoMod v2.0.0 `https://github.com/sei-international/NemoMod.jl.git#61e63e0`\n",
      "  [bac558e1] + OrderedCollections v1.8.1\n",
      "  [69de0a69] + Parsers v2.8.3\n",
      "  [fa939f87] + Pidfile v1.3.0\n",
      "  [2dfb63ee] + PooledArrays v1.4.3\n",
      "⌅ [aea7be01] + PrecompileTools v1.2.1\n",
      "  [21216c6a] + Preferences v1.4.3\n",
      "  [08abe8d2] + PrettyTables v2.4.0\n",
      "⌅ [6099a3de] + PythonCall v0.9.22\n",
      "  [189a3867] + Reexport v1.2.2\n",
      "  [ae029012] + Requires v1.3.1\n",
      "  [0aa819cd] + SQLite v1.6.1\n",
      "  [6c6a2e73] + Scratch v1.3.0\n",
      "  [91c51154] + SentinelArrays v1.4.8\n",
      "  [a2af1166] + SortingAlgorithms v1.2.1\n",
      "  [276daf66] + SpecialFunctions v2.5.1\n",
      "  [1e83bf80] + StaticArraysCore v1.4.3\n",
      "  [10745b16] + Statistics v1.11.1\n",
      "  [892a3eda] + StringManipulation v0.4.1\n",
      "  [856f2bd8] + StructTypes v1.11.0\n",
      "  [3783bdb8] + TableTraits v1.0.1\n",
      "  [bd369af6] + Tables v1.12.1\n",
      "  [3bb67fe8] + TranscodingStreams v0.11.3\n",
      "  [e17b2a0c] + UnsafePointers v1.0.0\n",
      "  [ea10d353] + WeakRefStrings v1.4.2\n",
      "  [ae81ac8f] + ASL_jll v0.1.3+0\n",
      "  [6e34b625] + Bzip2_jll v1.0.9+0\n",
      "  [38041ee0] + Cbc_jll v200.1000.800+0\n",
      "  [3830e938] + Cgl_jll v0.6000.600+0\n",
      "⌅ [06985876] + Clp_jll v100.1700.700+1\n",
      "⌅ [be027038] + CoinUtils_jll v200.1100.600+0\n",
      "  [e8aa6df9] + GLPK_jll v5.0.1+1\n",
      "  [8fd58aa0] + HiGHS_jll v1.11.0+1\n",
      "  [e33a78d0] + Hwloc_jll v2.12.1+0\n",
      "  [9cc047cb] + Ipopt_jll v300.1400.1701+0\n",
      "  [d00139f3] + METIS_jll v5.1.3+0\n",
      "  [d7ed1dd3] + MUMPS_seq_jll v500.800.0+0\n",
      "  [656ef2d0] + OpenBLAS32_jll v0.3.29+0\n",
      "  [efe28fd5] + OpenSpecFun_jll v0.5.6+0\n",
      "⌅ [7da25872] + Osi_jll v0.10800.700+0\n",
      "  [319450e9] + SPRAL_jll v2025.5.20+0\n",
      "  [76ed43ae] + SQLite_jll v3.48.0+0\n",
      "  [f8abcde7] + micromamba_jll v1.5.8+0\n",
      "  [4d7b5844] + pixi_jll v0.41.3+0\n",
      "  [0dad84c5] + ArgTools v1.1.2\n",
      "  [56f22d72] + Artifacts v1.11.0\n",
      "  [2a0f44e3] + Base64 v1.11.0\n",
      "  [ade2ca70] + Dates v1.11.0\n",
      "  [f43a241f] + Downloads v1.6.0\n",
      "  [7b1f6079] + FileWatching v1.11.0\n",
      "  [9fa8497b] + Future v1.11.0\n",
      "  [b77e0a4c] + InteractiveUtils v1.11.0\n",
      "  [4af54fe1] + LazyArtifacts v1.11.0\n",
      "  [b27032c2] + LibCURL v0.6.4\n",
      "  [76f85450] + LibGit2 v1.11.0\n",
      "  [8f399da3] + Libdl v1.11.0\n",
      "  [37e2e46d] + LinearAlgebra v1.11.0\n",
      "  [56ddb016] + Logging v1.11.0\n",
      "  [d6f4376e] + Markdown v1.11.0\n",
      "  [a63ad114] + Mmap v1.11.0\n",
      "  [ca575930] + NetworkOptions v1.2.0\n",
      "  [44cfe95a] + Pkg v1.11.0\n",
      "  [de0858da] + Printf v1.11.0\n",
      "  [9abbd945] + Profile v1.11.0\n",
      "  [3fa0cd96] + REPL v1.11.0\n",
      "  [9a3f8284] + Random v1.11.0\n",
      "  [ea8e919c] + SHA v0.7.0\n",
      "  [9e88b42a] + Serialization v1.11.0\n",
      "  [6462fe0b] + Sockets v1.11.0\n",
      "  [2f01184e] + SparseArrays v1.11.0\n",
      "  [f489334b] + StyledStrings v1.11.0\n",
      "  [fa267f1f] + TOML v1.0.3\n",
      "  [a4e569a6] + Tar v1.10.0\n",
      "  [8dfed614] + Test v1.11.0\n",
      "  [cf7118a7] + UUIDs v1.11.0\n",
      "  [4ec0a83e] + Unicode v1.11.0\n",
      "  [e66e0078] + CompilerSupportLibraries_jll v1.1.1+0\n",
      "  [781609d7] + GMP_jll v6.3.0+0\n",
      "  [deac9b47] + LibCURL_jll v8.6.0+0\n",
      "  [e37daf67] + LibGit2_jll v1.7.2+0\n",
      "  [29816b5a] + LibSSH2_jll v1.11.0+1\n",
      "  [c8ffd9c3] + MbedTLS_jll v2.28.6+0\n",
      "  [14a3606d] + MozillaCACerts_jll v2023.12.12\n",
      "  [4536629a] + OpenBLAS_jll v0.3.27+1\n",
      "  [05823500] + OpenLibm_jll v0.8.5+0\n",
      "  [bea87d4a] + SuiteSparse_jll v7.7.0+0\n",
      "  [83775a58] + Zlib_jll v1.2.13+1\n",
      "  [8e850b90] + libblastrampoline_jll v5.11.0+0\n",
      "  [8e850ede] + nghttp2_jll v1.59.0+0\n",
      "  [3f19e933] + p7zip_jll v17.4.0+2\n",
      "        Info Packages marked with ⌅ have new versions available but compatibility constraints restrict them from upgrading. To see why use `status --outdated -m`\n",
      "Precompiling project...\n",
      "  16196.1 ms  ✓ MathOptInterface\n",
      "   1688.4 ms  ✓ Clp\n",
      "   1677.9 ms  ✓ Cbc\n",
      "   2427.7 ms  ✓ GLPK\n",
      "   6901.8 ms  ✓ HiGHS\n",
      "   8310.9 ms  ✓ JuMP\n",
      "   8811.2 ms  ✓ Ipopt → IpoptMathOptInterfaceExt\n",
      "   1781.2 ms  ? NemoMod\n",
      "  7 dependencies successfully precompiled in 27 seconds. 116 already precompiled.\n",
      "  1 dependencies failed but may be precompilable after restarting julia\n",
      "  1 dependency had output during precompilation:\n",
      "┌ NemoMod\n",
      "│  WARNING: Method definition parse_line(String) in module ConfParser at /Users/usuario/.julia/packages/ConfParser/b2fge/src/ConfParser.jl:95 overwritten in module NemoMod at /Users/usuario/.julia/packages/NemoMod/p49Bn/src/other_functions.jl:35.\n",
      "│  ERROR: Method overwriting is not permitted during Module precompilation. Use `__precompile__(false)` to opt-out of precompilation.\n",
      "└  \n",
      "  No Changes to `/opt/miniconda3/envs/sisepuede/lib/python3.11/site-packages/sisepuede/julia/Project.toml`\n",
      "  No Changes to `/opt/miniconda3/envs/sisepuede/lib/python3.11/site-packages/sisepuede/julia/Manifest.toml`\n",
      "Precompiling project...\n",
      "   1158.7 ms  ? NemoMod\n"
     ]
    },
    {
     "name": "stdout",
     "output_type": "stream",
     "text": [
      "Detected IPython. Loading juliacall extension. See https://juliapy.github.io/PythonCall.jl/stable/compat/#IPython\n"
     ]
    },
    {
     "name": "stderr",
     "output_type": "stream",
     "text": [
      "Precompiling NemoMod...\n",
      "Info Given NemoMod was explicitly requested, output will be shown live \u001b[0K\n",
      "\u001b[0KWARNING: Method definition parse_line(String) in module ConfParser at /Users/usuario/.julia/packages/ConfParser/b2fge/src/ConfParser.jl:95 overwritten in module NemoMod at /Users/usuario/.julia/packages/NemoMod/p49Bn/src/other_functions.jl:35.\n",
      "\u001b[0KERROR: Method overwriting is not permitted during Module precompilation. Use `__precompile__(false)` to opt-out of precompilation.\n",
      "   1236.9 ms  ? NemoMod\n",
      "[ Info: Precompiling NemoMod [a3c327a0-d2f0-11e8-37fd-d12fd35c3c72] \n",
      "WARNING: Method definition parse_line(String) in module ConfParser at /Users/usuario/.julia/packages/ConfParser/b2fge/src/ConfParser.jl:95 overwritten in module NemoMod at /Users/usuario/.julia/packages/NemoMod/p49Bn/src/other_functions.jl:35.\n",
      "ERROR: Method overwriting is not permitted during Module precompilation. Use `__precompile__(false)` to opt-out of precompilation.\n",
      "┌ Info: Skipping precompilation due to precompilable error. Importing NemoMod [a3c327a0-d2f0-11e8-37fd-d12fd35c3c72].\n",
      "└   exception = Error when precompiling module, potentially caused by a __precompile__(false) declaration in the module.\n",
      "/opt/miniconda3/envs/sisepuede/lib/python3.11/site-packages/sisepuede/utilities/_toolbox.py:2551: UserWarning: Warning passed from optional_log: Successfully initialized JuMP optimizer from solver module HiGHS..\n",
      "  warnings.warn(f\"Warning passed from optional_log: {msg}.\")\n"
     ]
    }
   ],
   "source": [
    "import importlib\n",
    "import matplotlib.pyplot as plt\n",
    "import numpy as np\n",
    "import os, os.path\n",
    "import pandas as pd\n",
    "import pathlib\n",
    "import sisepuede.core.support_classes as sc\n",
    "import sisepuede.manager.sisepuede_file_structure as sfs\n",
    "import sisepuede.manager.sisepuede_models as sm\n",
    "import sisepuede.utilities._toolbox as sf\n",
    "import utils.common_data_needs as cdn\n",
    "import warnings\n",
    "warnings.filterwarnings(\"ignore\")\n",
    "\n",
    "plt.style.use(\"dark_background\", )\n",
    "\n"
   ]
  },
  {
   "cell_type": "code",
   "execution_count": null,
   "id": "f2473cdf-a06f-46e0-a8c5-b9cf25db4adc",
   "metadata": {},
   "outputs": [],
   "source": []
  },
  {
   "cell_type": "markdown",
   "id": "5fff1b5a-8fa8-44a8-84b4-e48f9d5c1311",
   "metadata": {},
   "source": [
    "# Initialize some SISEPUEDE components"
   ]
  },
  {
   "cell_type": "code",
   "execution_count": 7,
   "id": "5e5a3e8d-8564-4dad-8cd8-6a20dd44f72c",
   "metadata": {},
   "outputs": [],
   "source": [
    "dict_ssp = cdn._setup_sisepuede_elements()\n",
    "\n",
    "matt = dict_ssp.get(\"model_attributes\", )\n",
    "models = dict_ssp.get(\"models\", )\n",
    "regions = dict_ssp.get(\"regions\", )\n",
    "time_periods = dict_ssp.get(\"time_periods\", )\n",
    "\n",
    "# setup region\n",
    "_REGION_NAME = \"uganda\"\n",
    "_REGION_ISO = regions.return_region_or_iso(_REGION_NAME, return_type = \"iso\")\n",
    "\n",
    "# base dataset\n",
    "df_uganda = cdn.get_raw_ssp_inputs()\n",
    "\n",
    "\n",
    "##  SOME GLOBALS\n",
    "\n",
    "_FIELD_DEMAND_CRUDE_KBD = \"demand_fuel_crude_kbd\"           # thousand barrels per day\n",
    "_FIELD_PRODUCTION_CRUDE_KBD = \"production_fuel_crude_kbd\"   # thousand barrels per day\n",
    "_FIELD_PRODUCTION_CRUDE_PJA = \"production_fuel_crude_pja\"   # pj/year\n",
    "\n",
    "# year to estimate out to\n",
    "_YEAR_TARGET = 2100\n",
    "\n"
   ]
  },
  {
   "cell_type": "code",
   "execution_count": null,
   "id": "4aa839c6-bd2f-4584-b6de-b1c8c0413839",
   "metadata": {},
   "outputs": [],
   "source": []
  },
  {
   "cell_type": "code",
   "execution_count": 9,
   "id": "efcc4236-9b3c-4c0c-a514-e90781f18bf6",
   "metadata": {},
   "outputs": [],
   "source": [
    "# build a dataframe with the universe of years\n",
    "df_space_years = pd.DataFrame(\n",
    "    {\n",
    "        time_periods.field_year: range(2015, _YEAR_TARGET + 1),\n",
    "    }\n",
    ")\n"
   ]
  },
  {
   "cell_type": "markdown",
   "id": "d6207c5c-e088-467b-bd76-d6769d696669",
   "metadata": {},
   "source": [
    "# Load data we'll work with\n",
    "\n",
    "- The [2023 Uganda/IEA Energy Transition Plan](https://www.iea.org/reports/uganda-energy-transition-plan) describes average annual production of Crude oilby decade in the Albertine Graben with estimates for total crude production  \n",
    "\n",
    "\n",
    "##  1. Crude Oil Exports and Import Fractions\n",
    "\n",
    "- Figure 2.26 shows estimates of production and oil demands\n",
    "- We combine these two to estimate the fraction of oil imported and total exports\n",
    "- Note that [IEA](https://www.iea.org/countries/uganda/oil) doesn't show any crude oil production in Uganda in 2025, so we estimate start date as 2026 (and 2026 will be 0 for interpolation)\n",
    "\n",
    "  \n",
    "![Crude Oil Production](./input_data/iea_etp/crude_oil_production_projection.png)"
   ]
  },
  {
   "cell_type": "markdown",
   "id": "120cbaae-77fe-4517-86d6-ea097c59fbe7",
   "metadata": {},
   "source": [
    "### First, build estimates of values shown in figure 2.26\n",
    "- Beyond 2050, use projection"
   ]
  },
  {
   "cell_type": "code",
   "execution_count": 10,
   "id": "0f082660-327f-4d41-8ad2-5c1b1ca79fbb",
   "metadata": {},
   "outputs": [],
   "source": [
    "\n",
    "# these are taken from visual estimates\n",
    "df_demand_crude = pd.DataFrame(\n",
    "    {\n",
    "        time_periods.field_year: [2021, 2030, 2040, 2050,],\n",
    "        _FIELD_DEMAND_CRUDE_KBD: [45, 105, 145, 125, ]\n",
    "    }\n",
    ")\n",
    "\n",
    "df_production_crude = pd.DataFrame(\n",
    "    {\n",
    "        time_periods.field_year: [2026, 2030, 2040, 2050],\n",
    "        _FIELD_PRODUCTION_CRUDE_KBD: [0, 220, 126, 65] \n",
    "    }\n",
    ")"
   ]
  },
  {
   "cell_type": "code",
   "execution_count": 11,
   "id": "03c08f76-065c-4533-84e8-223af6b61871",
   "metadata": {},
   "outputs": [
    {
     "data": {
      "text/html": [
       "<div>\n",
       "<style scoped>\n",
       "    .dataframe tbody tr th:only-of-type {\n",
       "        vertical-align: middle;\n",
       "    }\n",
       "\n",
       "    .dataframe tbody tr th {\n",
       "        vertical-align: top;\n",
       "    }\n",
       "\n",
       "    .dataframe thead th {\n",
       "        text-align: right;\n",
       "    }\n",
       "</style>\n",
       "<table border=\"1\" class=\"dataframe\">\n",
       "  <thead>\n",
       "    <tr style=\"text-align: right;\">\n",
       "      <th></th>\n",
       "      <th>year</th>\n",
       "      <th>production_fuel_crude_kbd</th>\n",
       "    </tr>\n",
       "  </thead>\n",
       "  <tbody>\n",
       "    <tr>\n",
       "      <th>0</th>\n",
       "      <td>2060</td>\n",
       "      <td>32.50000</td>\n",
       "    </tr>\n",
       "    <tr>\n",
       "      <th>1</th>\n",
       "      <td>2070</td>\n",
       "      <td>16.25000</td>\n",
       "    </tr>\n",
       "    <tr>\n",
       "      <th>2</th>\n",
       "      <td>2080</td>\n",
       "      <td>8.12500</td>\n",
       "    </tr>\n",
       "    <tr>\n",
       "      <th>3</th>\n",
       "      <td>2090</td>\n",
       "      <td>4.06250</td>\n",
       "    </tr>\n",
       "    <tr>\n",
       "      <th>4</th>\n",
       "      <td>2100</td>\n",
       "      <td>2.03125</td>\n",
       "    </tr>\n",
       "  </tbody>\n",
       "</table>\n",
       "</div>"
      ],
      "text/plain": [
       "   year  production_fuel_crude_kbd\n",
       "0  2060                   32.50000\n",
       "1  2070                   16.25000\n",
       "2  2080                    8.12500\n",
       "3  2090                    4.06250\n",
       "4  2100                    2.03125"
      ]
     },
     "execution_count": 11,
     "metadata": {},
     "output_type": "execute_result"
    }
   ],
   "source": [
    "##  PROJECT CRUDE (just to have something beyond 2050)\n",
    "\n",
    "\n",
    "arr = df_production_crude[[_FIELD_PRODUCTION_CRUDE_KBD]].to_numpy().copy()\n",
    "year_0 = df_production_crude[time_periods.field_year].max()\n",
    "delta_y = 10\n",
    "max_lookback_project = 3\n",
    "n_proj = int((_YEAR_TARGET - year_0)/delta_y)\n",
    "\n",
    "# lists that will be updated\n",
    "years = []\n",
    "vec_new = []\n",
    "\n",
    "# iteratively apply a constrained lookback regression\n",
    "for i in range(n_proj):\n",
    "    val_new = sf.project_from_array(\n",
    "        arr,\n",
    "        max_deviation_from_mean = 1.0,\n",
    "        max_lookback = max_lookback_project,\n",
    "    )\n",
    "\n",
    "    val_new[0] = max(val_new[0], arr[-1, 0]/2)\n",
    "    arr = np.concatenate([arr, np.array([val_new])])\n",
    "\n",
    "    \n",
    "    vec_new.append(val_new[0])\n",
    "    years.append(year_0 + (i + 1)*delta_y)\n",
    "\n",
    "# projection df\n",
    "df_production_crude_proj = pd.DataFrame(\n",
    "    {\n",
    "        time_periods.field_year: years,\n",
    "        _FIELD_PRODUCTION_CRUDE_KBD: vec_new,\n",
    "    }\n",
    ")\n",
    "\n",
    "df_production_crude_proj"
   ]
  },
  {
   "cell_type": "code",
   "execution_count": 12,
   "id": "2e6a4c62-9105-41ba-89ab-ef64c94c5ff5",
   "metadata": {},
   "outputs": [
    {
     "data": {
      "text/plain": [
       "<Axes: xlabel='year', ylabel='Production of oil in kbl/day'>"
      ]
     },
     "execution_count": 12,
     "metadata": {},
     "output_type": "execute_result"
    },
    {
     "data": {
      "image/png": "[encoded data removed]",
      "text/plain": [
       "<Figure size 1200x600 with 1 Axes>"
      ]
     },
     "metadata": {},
     "output_type": "display_data"
    }
   ],
   "source": [
    "fig, ax = plt.subplots(figsize = (12, 6))\n",
    "ax.set_ylabel(\"Production of oil in kbl/day\")\n",
    "ax.set_ylim(0, df_production_crude[_FIELD_PRODUCTION_CRUDE_KBD].max()*1.1)\n",
    "\n",
    "(\n",
    "    df_production_crude\n",
    "    .rename(\n",
    "        columns = {_FIELD_PRODUCTION_CRUDE_KBD: \"historical\", },\n",
    "    )\n",
    "    .plot(\n",
    "        x = time_periods.field_year, \n",
    "        ax = ax, \n",
    "        linewidth = 4, \n",
    "    )\n",
    ")\n",
    "\n",
    "(\n",
    "    df_production_crude_proj\n",
    "    .rename(\n",
    "        columns = {_FIELD_PRODUCTION_CRUDE_KBD: \"projected\", },\n",
    "    )\n",
    "    .plot(\n",
    "        x = time_periods.field_year, \n",
    "        ax = ax, \n",
    "        linewidth = 4, \n",
    "    )\n",
    ")\n",
    "\n"
   ]
  },
  {
   "cell_type": "code",
   "execution_count": 13,
   "id": "74dbc65b-4369-4784-9b10-8f9ff20ca7c8",
   "metadata": {},
   "outputs": [
    {
     "data": {
      "text/plain": [
       "<Axes: xlabel='year', ylabel='Production of oil in kbl/day'>"
      ]
     },
     "execution_count": 13,
     "metadata": {},
     "output_type": "execute_result"
    },
    {
     "data": {
      "image/png": "[encoded data removed]",
      "text/plain": [
       "<Figure size 1200x600 with 1 Axes>"
      ]
     },
     "metadata": {},
     "output_type": "display_data"
    }
   ],
   "source": [
    "df_production_crude_full = (\n",
    "    pd.merge(\n",
    "        df_space_years,\n",
    "        pd.concat([df_production_crude, df_production_crude_proj], axis = 0, ),\n",
    "        how = \"left\",\n",
    "    )\n",
    "    .interpolate(\"spline\", order = 4, )\n",
    "    .bfill()\n",
    ")\n",
    "\n",
    "fig, ax = plt.subplots(figsize = (12, 6))\n",
    "ax.set_ylabel(\"Production of oil in kbl/day\")\n",
    "df_production_crude_full.plot(\n",
    "    ax = ax,\n",
    "    linewidth = 4,\n",
    "    x = time_periods.field_year, \n",
    ")"
   ]
  },
  {
   "cell_type": "markdown",
   "id": "24669ca8-4139-402c-9ec7-32e7dfe13838",
   "metadata": {},
   "source": [
    "##  Note, Box 2.3 says 1.7 billion barrels are accessible\n",
    "\n",
    "- **Box 2.**: _The Albertine Graben is a 500 km long the rift valley in the Western Region of\n",
    "Uganda and neighbouring Democratic Republic of Congo. Oil deposits in the\n",
    "region around Lake Albert were first discovered in 2006, with total oil in place\n",
    "reserves estimated at 6.5 billion barrels, of which 1.7 billion barrels are deemed\n",
    "recoverable_\n",
    "- The estimate above gets close to this, with a total of 1.56 billion barrels produced from 2026 to 2100"
   ]
  },
  {
   "cell_type": "code",
   "execution_count": 15,
   "id": "a65c65fa-264c-414e-a213-6159f18c47d1",
   "metadata": {},
   "outputs": [
    {
     "name": "stdout",
     "output_type": "stream",
     "text": [
      "Estimate of total production from 2027 - 2100: 1.563 billion barrels\n"
     ]
    }
   ],
   "source": [
    "total_prod = df_production_crude_full[_FIELD_PRODUCTION_CRUDE_KBD].sum()*365*1000\n",
    "est = np.round(total_prod/10**9, decimals = 3)\n",
    "\n",
    "df = df_production_crude_full[r\n",
    "    df_production_crude_full[_FIELD_PRODUCTION_CRUDE_KBD] > 0\n",
    "]\n",
    "y0 = df[time_periods.field_year].min()\n",
    "y1 = df[time_periods.field_year].max()\n",
    "print(f\"Estimate of total production from {y0} - {y1}: {est} billion barrels\")"
   ]
  },
  {
   "cell_type": "code",
   "execution_count": null,
   "id": "da422c57-aef0-4da2-9ff2-7e441ecd61d2",
   "metadata": {},
   "outputs": [],
   "source": []
  },
  {
   "cell_type": "code",
   "execution_count": null,
   "id": "731456a4-6454-4c26-9587-4ba6d9d3b5dc",
   "metadata": {},
   "outputs": [],
   "source": []
  },
  {
   "cell_type": "code",
   "execution_count": null,
   "id": "7edf4e53-107e-49a9-b6b8-861cd86cbe89",
   "metadata": {},
   "outputs": [],
   "source": []
  },
  {
   "cell_type": "code",
   "execution_count": null,
   "id": "60154f57-05ac-4431-bb92-bab2ae4fd3a2",
   "metadata": {},
   "outputs": [],
   "source": []
  },
  {
   "cell_type": "code",
   "execution_count": null,
   "id": "aaad76b1-8785-4313-9e24-0161632e3b14",
   "metadata": {},
   "outputs": [],
   "source": []
  },
  {
   "cell_type": "markdown",
   "id": "39654cb3-4acc-4a91-9032-fc74602ac496",
   "metadata": {},
   "source": [
    "##  Get some conversion factors"
   ]
  },
  {
   "cell_type": "code",
   "execution_count": 50,
   "id": "b4e3c4a7-b880-4b9f-9c4d-b359580e40bc",
   "metadata": {},
   "outputs": [],
   "source": [
    "modvar_exports = matt.get_variable(models.model_enercons.modvar_enfu_exports_fuel)\n",
    "modvar_volumetric = matt.get_variable(models.model_enercons.modvar_enfu_energy_density_volumetric)\n",
    "\n",
    "\n",
    "field_ved = modvar_volumetric.build_fields(category_restrictions = \"fuel_crude\")\n",
    "\n",
    "# unit managers\n",
    "um_energy = matt.get_unit(\"energy\")\n",
    "um_volume = matt.get_unit(\"volume\")\n",
    "\n",
    "# units of volume for volumetric energy density\n",
    "units_volume_ved = modvar_volumetric.attribute(\"unit_volume\")\n",
    "scale_factor_volume = 1000*um_volume.convert(\"barrel\", units_volume_ved)\n",
    "\n",
    "scale_factor_energy = um_energy.convert(\n",
    "    modvar_volumetric.attribute(\"unit_energy\"), \n",
    "    modvar_exports.attribute(\"unit_energy\"),\n",
    ")\n",
    "\n",
    "# energy contained in 1000 barrels of oil in PJ\n",
    "energy_pj_per_kb = df_uganda[field_ved].iloc[0]*scale_factor_volume*scale_factor_energy\n"
   ]
  },
  {
   "cell_type": "markdown",
   "id": "70813252-ec16-4962-8912-9cadcfb852c5",
   "metadata": {},
   "source": [
    "###  Convert kb/d to pj/year"
   ]
  },
  {
   "cell_type": "code",
   "execution_count": 76,
   "id": "258edc3c-6e76-4cc3-a56c-920262d0106a",
   "metadata": {},
   "outputs": [],
   "source": [
    "# for production\n",
    "vec_days_per_year = np.array([\n",
    "    365 + int(x%4 == 0)\n",
    "    for x in list(df_production_crude_full[time_periods.field_year])\n",
    "])\n",
    "\n",
    "vec_production_crude_pja = vec_days_per_year*energy_pj_per_kb*df_production_crude_full[_FIELD_PRODUCTION_CRUDE_KBD].to_numpy()\n",
    "df_production_crude_full[_FIELD_PRODUCTION_CRUDE_PJA] = vec_production_crude_pja\n",
    "\n",
    "\n",
    "# for demand\n",
    "\n"
   ]
  },
  {
   "cell_type": "code",
   "execution_count": null,
   "id": "5f09de35-9182-481e-a7cc-0d6a641e512f",
   "metadata": {},
   "outputs": [],
   "source": [
    "\n"
   ]
  },
  {
   "cell_type": "code",
   "execution_count": null,
   "id": "ce51a50c-6535-4c91-a648-ab4151a55e82",
   "metadata": {},
   "outputs": [],
   "source": []
  },
  {
   "cell_type": "code",
   "execution_count": null,
   "id": "3cc8cd08-f7f3-4398-97f5-5a786ac31d8d",
   "metadata": {},
   "outputs": [],
   "source": []
  },
  {
   "cell_type": "markdown",
   "id": "6b6434bd-658d-46ec-9fb7-35c54aaabe41",
   "metadata": {},
   "source": [
    "\n",
    "##  1. Petroleum Product Import Fractions\n",
    "\n",
    "- Figure 2.26 shows estimates of production and oil demands\n",
    "- We combine these two to estimate the fraction of oil imported and total exports\n",
    "  \n",
    "![Petroleum Product Import Fractions](./input_data/iea_etp/petroleum_product_demands_over_time.png)"
   ]
  },
  {
   "cell_type": "markdown",
   "id": "350401be-3a10-4e98-9e44-643a945f219c",
   "metadata": {},
   "source": [
    "# Export"
   ]
  },
  {
   "cell_type": "code",
   "execution_count": 751,
   "id": "85fdb981-fbd7-492a-9288-c5c5d74411b9",
   "metadata": {},
   "outputs": [],
   "source": [
    "df_piv.to_csv(\n",
    "    cdn._PATH_OUTPUTS.joinpath(f\"{modvar_pop.name.upper()}.csv\"),\n",
    "    encoding = \"UTF-8\",\n",
    "    index = None, \n",
    ")"
   ]
  },
  {
   "cell_type": "code",
   "execution_count": null,
   "id": "033ad08d-5247-47d4-8647-cfcc51b544fc",
   "metadata": {},
   "outputs": [],
   "source": []
  },
  {
   "cell_type": "code",
   "execution_count": null,
   "id": "377f8833-eee7-484b-bec2-857f534c00c5",
   "metadata": {},
   "outputs": [],
   "source": []
  },
  {
   "cell_type": "code",
   "execution_count": null,
   "id": "9df6e86a-8cef-4734-a66f-6ed5ab873ef2",
   "metadata": {},
   "outputs": [],
   "source": []
  },
  {
   "cell_type": "code",
   "execution_count": null,
   "id": "157089d2-cb52-4dd1-a096-5a9e118994e9",
   "metadata": {},
   "outputs": [],
   "source": []
  }
 ],
 "metadata": {
  "kernelspec": {
   "display_name": "Python 3 (ipykernel)",
   "language": "python",
   "name": "python3"
  },
  "language_info": {
   "codemirror_mode": {
    "name": "ipython",
    "version": 3
   },
   "file_extension": ".py",
   "mimetype": "text/x-python",
   "name": "python",
   "nbconvert_exporter": "python",
   "pygments_lexer": "ipython3",
   "version": "3.11.13"
  }
 },
 "nbformat": 4,
 "nbformat_minor": 5
}
