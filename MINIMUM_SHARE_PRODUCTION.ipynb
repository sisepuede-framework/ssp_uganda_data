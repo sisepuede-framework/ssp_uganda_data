{
 "cells": [
  {
   "cell_type": "markdown",
   "id": "fac3d9ed-e308-44f7-b329-5393502786ea",
   "metadata": {},
   "source": [
    "# MinimumShareProduction\n",
    "\n",
    "- Use `NemoMod MinimumShareProduction` to capture planned energy mix\n",
    "- Note that there are some conflicting statements between sources:\n",
    "    - 2023 IEA Energy transition plan says (p. 13): _Uganda would need to accelerate domestic end-use electrification efforts and greatly expand electricity exports to realise prior ambitions of installing 52 GW of generating capacity by 2040. These efforts could include earlier adoption of carbon capture, utilisation and storage (CCUS) and electrolytic hydrogen._\n",
    "        - **NOTE** this is interpreted as _total capacity_ by 2040 as, on page 60, the report says: _The Energy Policy for Uganda 2023 states that by 2040 the country aims to have around 52 GW of installed capacity, which at healthy levels of utilisation would generate about 240 TWh annually_\n",
    "- However, the Vision 2040 document states (list formatting added):\n",
    "    - _The required capacity will be generated from different energy sources, namely_:\n",
    "        - _hydro power (4500MW)_\n",
    "        - _geo-thermal (1500 MW)_\n",
    "        - _nuclear (24000 MW)_\n",
    "        - _solar (5000 MW)_\n",
    "        - _biomass (1700 MW)_\n",
    "        - _peat (800 MW)_\n",
    "        - _thermal (4300)_\n",
    "    - Note that this totals 41.8 GW, ≈ 10.2 GW less than the ETP\n",
    "- Additionally, installed capacity can guide production share, but it cannot define it\n",
    "\n",
    "      "
   ]
  },
  {
   "cell_type": "code",
   "execution_count": 1,
   "id": "646a6961-fa23-4ac7-b8ce-0b031998bed2",
   "metadata": {
    "collapsed": true,
    "jupyter": {
     "outputs_hidden": true
    }
   },
   "outputs": [
    {
     "name": "stderr",
     "output_type": "stream",
     "text": [
      "/opt/miniconda3/envs/sisepuede/lib/python3.11/site-packages/sisepuede/core/model_attributes.py:6684: UserWarning: \n",
      "\n",
      "                        MISSIONSEARCHNOTE: As of 2023-10-06, there is a temporary solution \n",
      "                        implemeted in ModelAttributes.get_variable_to_simplex_group_dictionary() \n",
      "                        to ensure that transition probability rows are enforced on a simplex.\n",
      "                        \n",
      "                        \n",
      "                        FIX THIS ASAP TO DERIVE PROPERLY.\n",
      "                        \n",
      "                        \n",
      "  warnings.warn(\n",
      "/opt/miniconda3/envs/sisepuede/lib/python3.11/site-packages/sisepuede/utilities/_toolbox.py:2551: UserWarning: Warning passed from optional_log: Successfully archived self.model_attributes to pickle at '/opt/miniconda3/envs/sisepuede/lib/python3.11/site-packages/sisepuede/out/sisepuede_run_2025-07-14T19;11;14.011803/sisepuede_run_2025-07-14T19;11;14.011803_model_attributes.pkl'.\n",
      "  warnings.warn(f\"Warning passed from optional_log: {msg}.\")\n",
      "/opt/miniconda3/envs/sisepuede/lib/python3.11/site-packages/sisepuede/utilities/_toolbox.py:2551: UserWarning: Warning passed from optional_log: Set Julia directory for modules and environment to '/opt/miniconda3/envs/sisepuede/lib/python3.11/site-packages/sisepuede/julia'..\n",
      "  warnings.warn(f\"Warning passed from optional_log: {msg}.\")\n",
      "/opt/miniconda3/envs/sisepuede/lib/python3.11/site-packages/sisepuede/utilities/_toolbox.py:2551: UserWarning: Warning passed from optional_log: Importing Julia....\n",
      "  warnings.warn(f\"Warning passed from optional_log: {msg}.\")\n"
     ]
    },
    {
     "name": "stdout",
     "output_type": "stream",
     "text": [
      "Detected IPython. Loading juliacall extension. See https://juliapy.github.io/PythonCall.jl/stable/compat/#IPython\n"
     ]
    },
    {
     "name": "stderr",
     "output_type": "stream",
     "text": [
      "Precompiling NemoMod...\n",
      "Info Given NemoMod was explicitly requested, output will be shown live \u001b[0K\n",
      "\u001b[0KWARNING: Method definition parse_line(String) in module ConfParser at /Users/usuario/.julia/packages/ConfParser/b2fge/src/ConfParser.jl:95 overwritten in module NemoMod at /Users/usuario/.julia/packages/NemoMod/p49Bn/src/other_functions.jl:35.\n",
      "\u001b[0KERROR: Method overwriting is not permitted during Module precompilation. Use `__precompile__(false)` to opt-out of precompilation.\n",
      "   1198.4 ms  ? NemoMod\n",
      "[ Info: Precompiling NemoMod [a3c327a0-d2f0-11e8-37fd-d12fd35c3c72] \n",
      "WARNING: Method definition parse_line(String) in module ConfParser at /Users/usuario/.julia/packages/ConfParser/b2fge/src/ConfParser.jl:95 overwritten in module NemoMod at /Users/usuario/.julia/packages/NemoMod/p49Bn/src/other_functions.jl:35.\n",
      "ERROR: Method overwriting is not permitted during Module precompilation. Use `__precompile__(false)` to opt-out of precompilation.\n",
      "┌ Info: Skipping precompilation due to precompilable error. Importing NemoMod [a3c327a0-d2f0-11e8-37fd-d12fd35c3c72].\n",
      "└   exception = Error when precompiling module, potentially caused by a __precompile__(false) declaration in the module.\n",
      "/opt/miniconda3/envs/sisepuede/lib/python3.11/site-packages/sisepuede/utilities/_toolbox.py:2551: UserWarning: Warning passed from optional_log: Successfully initialized JuMP optimizer from solver module HiGHS..\n",
      "  warnings.warn(f\"Warning passed from optional_log: {msg}.\")\n"
     ]
    }
   ],
   "source": [
    "import importlib\n",
    "import matplotlib.pyplot as plt\n",
    "import numpy as np\n",
    "import os, os.path\n",
    "import pandas as pd\n",
    "import pathlib\n",
    "import sisepuede.core.support_classes as sc\n",
    "import sisepuede.manager.sisepuede_file_structure as sfs\n",
    "import sisepuede.manager.sisepuede_models as sm\n",
    "import sisepuede.utilities._toolbox as sf\n",
    "import utils.common_data_needs as cdn\n",
    "import warnings\n",
    "warnings.filterwarnings(\"ignore\")\n",
    "\n",
    "from typing import *\n",
    "\n",
    "plt.style.use(\"dark_background\", )\n",
    "\n"
   ]
  },
  {
   "cell_type": "code",
   "execution_count": 2,
   "id": "030001a4-70fc-495d-b0dc-2295a807807d",
   "metadata": {},
   "outputs": [],
   "source": [
    "dict_ssp = cdn._setup_sisepuede_elements()\n",
    "\n",
    "matt = dict_ssp.get(\"model_attributes\", )\n",
    "models = dict_ssp.get(\"models\", )\n",
    "regions = dict_ssp.get(\"regions\", )\n",
    "time_periods = dict_ssp.get(\"time_periods\", )\n",
    "\n",
    "# setup region\n",
    "_REGION_NAME = \"uganda\"\n",
    "_REGION_ISO = regions.return_region_or_iso(_REGION_NAME, return_type = \"iso\")\n",
    "\n",
    "\n",
    "\n",
    "# SET SOME GLOBALS\n",
    "\n",
    "# fields\n",
    "\n",
    "# year to build estimates out to\n",
    "_YEAR_TARGET = 2100"
   ]
  },
  {
   "attachments": {},
   "cell_type": "markdown",
   "id": "9c98b840-2aae-46eb-9904-dd023cefb883",
   "metadata": {},
   "source": [
    "# Load data we'll work with\n",
    "\n",
    "- `\n",
    "\n",
    "![screenshot_distribution_losses_20250709.png](./input_data/era/screenshot_distribution_losses_20250709.png)"
   ]
  },
  {
   "cell_type": "code",
   "execution_count": null,
   "id": "f2574795-36fc-43f7-b4af-c3c07f0374ee",
   "metadata": {},
   "outputs": [],
   "source": [
    "#\n"
   ]
  },
  {
   "cell_type": "code",
   "execution_count": 3,
   "id": "6fa21f99-1ff4-4aac-b4de-940ea5642912",
   "metadata": {},
   "outputs": [],
   "source": [
    "modvar_msp = matt.get_variable(\"NemoMod MinShareProduction\")"
   ]
  },
  {
   "cell_type": "code",
   "execution_count": null,
   "id": "deb4fac9-16d0-426a-8161-738d746ce79c",
   "metadata": {},
   "outputs": [],
   "source": []
  },
  {
   "cell_type": "code",
   "execution_count": null,
   "id": "3af7effa-ee65-4b1c-8d86-f7a61712c43c",
   "metadata": {},
   "outputs": [],
   "source": []
  },
  {
   "cell_type": "code",
   "execution_count": null,
   "id": "2e96e5a0-92bd-465e-b2f9-3f748843d697",
   "metadata": {},
   "outputs": [],
   "source": []
  },
  {
   "cell_type": "code",
   "execution_count": null,
   "id": "1ff59a38-11f4-4c60-9c2a-54d164ebfd3f",
   "metadata": {},
   "outputs": [],
   "source": []
  },
  {
   "cell_type": "code",
   "execution_count": null,
   "id": "52a11ea1-e1e7-4f80-a798-53137379c87f",
   "metadata": {},
   "outputs": [],
   "source": []
  },
  {
   "cell_type": "code",
   "execution_count": null,
   "id": "35da39da-1965-4cae-ae7f-39680c4e3824",
   "metadata": {},
   "outputs": [],
   "source": []
  },
  {
   "cell_type": "code",
   "execution_count": null,
   "id": "d2075da9-50c3-4450-ad9c-5bbd1200bae5",
   "metadata": {},
   "outputs": [],
   "source": []
  },
  {
   "cell_type": "code",
   "execution_count": null,
   "id": "abf289b7-a728-416f-b294-df0c9c71d828",
   "metadata": {},
   "outputs": [],
   "source": []
  },
  {
   "cell_type": "code",
   "execution_count": 165,
   "id": "ecb96bab-c98c-483e-9584-f4280841de17",
   "metadata": {},
   "outputs": [],
   "source": [
    "df_transmission_loss = (\n",
    "    pd.concat(\n",
    "        [df_loss, df_proj],\n",
    "        axis = 0,\n",
    "    )\n",
    "    .sort_values(by = [time_periods.field_year], )\n",
    "    .reset_index(drop = True, )\n",
    ")\n",
    "\n",
    "df_transmission_loss.to_csv(\n",
    "    cdn._PATH_OUTPUTS.joinpath(f\"{modvar_tlf.name_fs_safe.upper()}.csv\"),\n",
    "    encoding = \"UTF-8\",\n",
    "    index = None,\n",
    ")"
   ]
  },
  {
   "cell_type": "code",
   "execution_count": null,
   "id": "ca25a0cb-9fff-45ee-b82f-fb8a142744e9",
   "metadata": {},
   "outputs": [],
   "source": []
  },
  {
   "cell_type": "code",
   "execution_count": null,
   "id": "a62acb08-6e08-4ba8-b457-ec23029396a2",
   "metadata": {},
   "outputs": [],
   "source": []
  }
 ],
 "metadata": {
  "kernelspec": {
   "display_name": "Python 3 (ipykernel)",
   "language": "python",
   "name": "python3"
  },
  "language_info": {
   "codemirror_mode": {
    "name": "ipython",
    "version": 3
   },
   "file_extension": ".py",
   "mimetype": "text/x-python",
   "name": "python",
   "nbconvert_exporter": "python",
   "pygments_lexer": "ipython3",
   "version": "3.11.13"
  }
 },
 "nbformat": 4,
 "nbformat_minor": 5
}
