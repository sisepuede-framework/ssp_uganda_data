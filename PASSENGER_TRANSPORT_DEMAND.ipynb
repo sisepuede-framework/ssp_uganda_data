{
 "cells": [
  {
   "cell_type": "code",
   "execution_count": 27,
   "id": "99dccbe4",
   "metadata": {},
   "outputs": [],
   "source": [
    "import numpy as np\n",
    "import pandas as pd\n",
    "import os\n",
    "from utils.utils import EDAUtils"
   ]
  },
  {
   "cell_type": "code",
   "execution_count": 28,
   "id": "d3d41b58",
   "metadata": {},
   "outputs": [
    {
     "name": "stdout",
     "output_type": "stream",
     "text": [
      "The autoreload extension is already loaded. To reload it, use:\n",
      "  %reload_ext autoreload\n"
     ]
    }
   ],
   "source": [
    "%load_ext autoreload\n",
    "%autoreload 2"
   ]
  },
  {
   "cell_type": "code",
   "execution_count": 29,
   "id": "50fb22eb",
   "metadata": {},
   "outputs": [],
   "source": [
    "edau = EDAUtils()"
   ]
  },
  {
   "cell_type": "code",
   "execution_count": 30,
   "id": "ef5a17ce",
   "metadata": {},
   "outputs": [],
   "source": [
    "# Set up paths\n",
    "CURRENT_DIR_PATH = os.getcwd()\n",
    "OUTPUT_DATA_DIR_PATH = os.path.join(CURRENT_DIR_PATH, \"output_data\")\n",
    "INPUT_DATA_DIR_PATH = os.path.join(CURRENT_DIR_PATH, \"input_data\")"
   ]
  },
  {
   "cell_type": "code",
   "execution_count": 31,
   "id": "a8a639f4",
   "metadata": {},
   "outputs": [
    {
     "data": {
      "text/html": [
       "<div>\n",
       "<style scoped>\n",
       "    .dataframe tbody tr th:only-of-type {\n",
       "        vertical-align: middle;\n",
       "    }\n",
       "\n",
       "    .dataframe tbody tr th {\n",
       "        vertical-align: top;\n",
       "    }\n",
       "\n",
       "    .dataframe thead th {\n",
       "        text-align: right;\n",
       "    }\n",
       "</style>\n",
       "<table border=\"1\" class=\"dataframe\">\n",
       "  <thead>\n",
       "    <tr style=\"text-align: right;\">\n",
       "      <th></th>\n",
       "      <th>year</th>\n",
       "      <th>population_gnrl_rural</th>\n",
       "      <th>population_gnrl_urban</th>\n",
       "    </tr>\n",
       "  </thead>\n",
       "  <tbody>\n",
       "    <tr>\n",
       "      <th>0</th>\n",
       "      <td>2015</td>\n",
       "      <td>27415805</td>\n",
       "      <td>7922107</td>\n",
       "    </tr>\n",
       "    <tr>\n",
       "      <th>1</th>\n",
       "      <td>2016</td>\n",
       "      <td>28126956</td>\n",
       "      <td>8404570</td>\n",
       "    </tr>\n",
       "    <tr>\n",
       "      <th>2</th>\n",
       "      <td>2017</td>\n",
       "      <td>28903581</td>\n",
       "      <td>8925631</td>\n",
       "    </tr>\n",
       "    <tr>\n",
       "      <th>3</th>\n",
       "      <td>2018</td>\n",
       "      <td>29672226</td>\n",
       "      <td>9464281</td>\n",
       "    </tr>\n",
       "    <tr>\n",
       "      <th>4</th>\n",
       "      <td>2019</td>\n",
       "      <td>30457624</td>\n",
       "      <td>10028890</td>\n",
       "    </tr>\n",
       "  </tbody>\n",
       "</table>\n",
       "</div>"
      ],
      "text/plain": [
       "   year  population_gnrl_rural  population_gnrl_urban\n",
       "0  2015               27415805                7922107\n",
       "1  2016               28126956                8404570\n",
       "2  2017               28903581                8925631\n",
       "3  2018               29672226                9464281\n",
       "4  2019               30457624               10028890"
      ]
     },
     "execution_count": 31,
     "metadata": {},
     "output_type": "execute_result"
    }
   ],
   "source": [
    "# Load population data\n",
    "POPULATION_DATA_PATH = os.path.join(OUTPUT_DATA_DIR_PATH, \"POPULATION.csv\")\n",
    "pop_df = pd.read_csv(POPULATION_DATA_PATH)\n",
    "\n",
    "# Filter for the years 2015 to 2050\n",
    "pop_df = pop_df[(pop_df['year'] >= 2015) & (pop_df['year'] <= 2050)]\n",
    "pop_df = pop_df.reset_index(drop=True)\n",
    "pop_df.head()"
   ]
  },
  {
   "cell_type": "code",
   "execution_count": 32,
   "id": "a47ad195",
   "metadata": {},
   "outputs": [
    {
     "data": {
      "text/html": [
       "<div>\n",
       "<style scoped>\n",
       "    .dataframe tbody tr th:only-of-type {\n",
       "        vertical-align: middle;\n",
       "    }\n",
       "\n",
       "    .dataframe tbody tr th {\n",
       "        vertical-align: top;\n",
       "    }\n",
       "\n",
       "    .dataframe thead th {\n",
       "        text-align: right;\n",
       "    }\n",
       "</style>\n",
       "<table border=\"1\" class=\"dataframe\">\n",
       "  <thead>\n",
       "    <tr style=\"text-align: right;\">\n",
       "      <th></th>\n",
       "      <th>year</th>\n",
       "      <th>population_gnrl_rural</th>\n",
       "      <th>population_gnrl_urban</th>\n",
       "      <th>pop_total</th>\n",
       "    </tr>\n",
       "  </thead>\n",
       "  <tbody>\n",
       "    <tr>\n",
       "      <th>0</th>\n",
       "      <td>2015</td>\n",
       "      <td>27415805</td>\n",
       "      <td>7922107</td>\n",
       "      <td>35337912</td>\n",
       "    </tr>\n",
       "    <tr>\n",
       "      <th>1</th>\n",
       "      <td>2016</td>\n",
       "      <td>28126956</td>\n",
       "      <td>8404570</td>\n",
       "      <td>36531526</td>\n",
       "    </tr>\n",
       "    <tr>\n",
       "      <th>2</th>\n",
       "      <td>2017</td>\n",
       "      <td>28903581</td>\n",
       "      <td>8925631</td>\n",
       "      <td>37829212</td>\n",
       "    </tr>\n",
       "    <tr>\n",
       "      <th>3</th>\n",
       "      <td>2018</td>\n",
       "      <td>29672226</td>\n",
       "      <td>9464281</td>\n",
       "      <td>39136507</td>\n",
       "    </tr>\n",
       "    <tr>\n",
       "      <th>4</th>\n",
       "      <td>2019</td>\n",
       "      <td>30457624</td>\n",
       "      <td>10028890</td>\n",
       "      <td>40486514</td>\n",
       "    </tr>\n",
       "  </tbody>\n",
       "</table>\n",
       "</div>"
      ],
      "text/plain": [
       "   year  population_gnrl_rural  population_gnrl_urban  pop_total\n",
       "0  2015               27415805                7922107   35337912\n",
       "1  2016               28126956                8404570   36531526\n",
       "2  2017               28903581                8925631   37829212\n",
       "3  2018               29672226                9464281   39136507\n",
       "4  2019               30457624               10028890   40486514"
      ]
     },
     "execution_count": 32,
     "metadata": {},
     "output_type": "execute_result"
    }
   ],
   "source": [
    "# Create pop_total column\n",
    "pop_df['pop_total'] = pop_df['population_gnrl_rural'] + pop_df['population_gnrl_urban']\n",
    "pop_df.head()"
   ]
  },
  {
   "cell_type": "code",
   "execution_count": 33,
   "id": "3e906f9d",
   "metadata": {},
   "outputs": [
    {
     "data": {
      "text/html": [
       "<div>\n",
       "<style scoped>\n",
       "    .dataframe tbody tr th:only-of-type {\n",
       "        vertical-align: middle;\n",
       "    }\n",
       "\n",
       "    .dataframe tbody tr th {\n",
       "        vertical-align: top;\n",
       "    }\n",
       "\n",
       "    .dataframe thead th {\n",
       "        text-align: right;\n",
       "    }\n",
       "</style>\n",
       "<table border=\"1\" class=\"dataframe\">\n",
       "  <thead>\n",
       "    <tr style=\"text-align: right;\">\n",
       "      <th></th>\n",
       "      <th>year</th>\n",
       "      <th>population_gnrl_rural</th>\n",
       "      <th>population_gnrl_urban</th>\n",
       "      <th>pop_total</th>\n",
       "    </tr>\n",
       "  </thead>\n",
       "  <tbody>\n",
       "    <tr>\n",
       "      <th>31</th>\n",
       "      <td>2046</td>\n",
       "      <td>38769171</td>\n",
       "      <td>28301495</td>\n",
       "      <td>67070666</td>\n",
       "    </tr>\n",
       "    <tr>\n",
       "      <th>32</th>\n",
       "      <td>2047</td>\n",
       "      <td>38877625</td>\n",
       "      <td>29165895</td>\n",
       "      <td>68043520</td>\n",
       "    </tr>\n",
       "    <tr>\n",
       "      <th>33</th>\n",
       "      <td>2048</td>\n",
       "      <td>38966634</td>\n",
       "      <td>30038289</td>\n",
       "      <td>69004923</td>\n",
       "    </tr>\n",
       "    <tr>\n",
       "      <th>34</th>\n",
       "      <td>2049</td>\n",
       "      <td>39030689</td>\n",
       "      <td>30913903</td>\n",
       "      <td>69944592</td>\n",
       "    </tr>\n",
       "    <tr>\n",
       "      <th>35</th>\n",
       "      <td>2050</td>\n",
       "      <td>39070478</td>\n",
       "      <td>31792509</td>\n",
       "      <td>70862987</td>\n",
       "    </tr>\n",
       "  </tbody>\n",
       "</table>\n",
       "</div>"
      ],
      "text/plain": [
       "    year  population_gnrl_rural  population_gnrl_urban  pop_total\n",
       "31  2046               38769171               28301495   67070666\n",
       "32  2047               38877625               29165895   68043520\n",
       "33  2048               38966634               30038289   69004923\n",
       "34  2049               39030689               30913903   69944592\n",
       "35  2050               39070478               31792509   70862987"
      ]
     },
     "execution_count": 33,
     "metadata": {},
     "output_type": "execute_result"
    }
   ],
   "source": [
    "pop_df.tail()"
   ]
  },
  {
   "cell_type": "code",
   "execution_count": 34,
   "id": "a5d6033f",
   "metadata": {},
   "outputs": [
    {
     "data": {
      "text/html": [
       "<div>\n",
       "<style scoped>\n",
       "    .dataframe tbody tr th:only-of-type {\n",
       "        vertical-align: middle;\n",
       "    }\n",
       "\n",
       "    .dataframe tbody tr th {\n",
       "        vertical-align: top;\n",
       "    }\n",
       "\n",
       "    .dataframe thead th {\n",
       "        text-align: right;\n",
       "    }\n",
       "</style>\n",
       "<table border=\"1\" class=\"dataframe\">\n",
       "  <thead>\n",
       "    <tr style=\"text-align: right;\">\n",
       "      <th></th>\n",
       "      <th>year</th>\n",
       "      <th>pop_total</th>\n",
       "    </tr>\n",
       "  </thead>\n",
       "  <tbody>\n",
       "    <tr>\n",
       "      <th>0</th>\n",
       "      <td>2015</td>\n",
       "      <td>35337912</td>\n",
       "    </tr>\n",
       "    <tr>\n",
       "      <th>1</th>\n",
       "      <td>2016</td>\n",
       "      <td>36531526</td>\n",
       "    </tr>\n",
       "    <tr>\n",
       "      <th>2</th>\n",
       "      <td>2017</td>\n",
       "      <td>37829212</td>\n",
       "    </tr>\n",
       "    <tr>\n",
       "      <th>3</th>\n",
       "      <td>2018</td>\n",
       "      <td>39136507</td>\n",
       "    </tr>\n",
       "    <tr>\n",
       "      <th>4</th>\n",
       "      <td>2019</td>\n",
       "      <td>40486514</td>\n",
       "    </tr>\n",
       "  </tbody>\n",
       "</table>\n",
       "</div>"
      ],
      "text/plain": [
       "   year  pop_total\n",
       "0  2015   35337912\n",
       "1  2016   36531526\n",
       "2  2017   37829212\n",
       "3  2018   39136507\n",
       "4  2019   40486514"
      ]
     },
     "execution_count": 34,
     "metadata": {},
     "output_type": "execute_result"
    }
   ],
   "source": [
    "# Keep only pop_total col\n",
    "trde_passenger_df = pop_df[['year', 'pop_total']].copy()\n",
    "trde_passenger_df.head()"
   ]
  },
  {
   "cell_type": "code",
   "execution_count": 35,
   "id": "15660b91",
   "metadata": {},
   "outputs": [
    {
     "data": {
      "text/html": [
       "<div>\n",
       "<style scoped>\n",
       "    .dataframe tbody tr th:only-of-type {\n",
       "        vertical-align: middle;\n",
       "    }\n",
       "\n",
       "    .dataframe tbody tr th {\n",
       "        vertical-align: top;\n",
       "    }\n",
       "\n",
       "    .dataframe thead th {\n",
       "        text-align: right;\n",
       "    }\n",
       "</style>\n",
       "<table border=\"1\" class=\"dataframe\">\n",
       "  <thead>\n",
       "    <tr style=\"text-align: right;\">\n",
       "      <th></th>\n",
       "      <th>year</th>\n",
       "      <th>gdp_mmm_usd</th>\n",
       "    </tr>\n",
       "  </thead>\n",
       "  <tbody>\n",
       "    <tr>\n",
       "      <th>0</th>\n",
       "      <td>1982</td>\n",
       "      <td>4.983495</td>\n",
       "    </tr>\n",
       "    <tr>\n",
       "      <th>1</th>\n",
       "      <td>1983</td>\n",
       "      <td>5.269775</td>\n",
       "    </tr>\n",
       "    <tr>\n",
       "      <th>2</th>\n",
       "      <td>1984</td>\n",
       "      <td>5.251612</td>\n",
       "    </tr>\n",
       "    <tr>\n",
       "      <th>3</th>\n",
       "      <td>1985</td>\n",
       "      <td>5.077973</td>\n",
       "    </tr>\n",
       "    <tr>\n",
       "      <th>4</th>\n",
       "      <td>1986</td>\n",
       "      <td>5.097782</td>\n",
       "    </tr>\n",
       "  </tbody>\n",
       "</table>\n",
       "</div>"
      ],
      "text/plain": [
       "   year  gdp_mmm_usd\n",
       "0  1982     4.983495\n",
       "1  1983     5.269775\n",
       "2  1984     5.251612\n",
       "3  1985     5.077973\n",
       "4  1986     5.097782"
      ]
     },
     "execution_count": 35,
     "metadata": {},
     "output_type": "execute_result"
    }
   ],
   "source": [
    "# Load gdp data\n",
    "gdp_df = pd.read_csv(os.path.join(OUTPUT_DATA_DIR_PATH, \"gdp_mmm_usd.csv\"))\n",
    "gdp_df.head()"
   ]
  },
  {
   "cell_type": "code",
   "execution_count": 36,
   "id": "ee823c1a",
   "metadata": {},
   "outputs": [
    {
     "data": {
      "text/html": [
       "<div>\n",
       "<style scoped>\n",
       "    .dataframe tbody tr th:only-of-type {\n",
       "        vertical-align: middle;\n",
       "    }\n",
       "\n",
       "    .dataframe tbody tr th {\n",
       "        vertical-align: top;\n",
       "    }\n",
       "\n",
       "    .dataframe thead th {\n",
       "        text-align: right;\n",
       "    }\n",
       "</style>\n",
       "<table border=\"1\" class=\"dataframe\">\n",
       "  <thead>\n",
       "    <tr style=\"text-align: right;\">\n",
       "      <th></th>\n",
       "      <th>year</th>\n",
       "      <th>pop_total</th>\n",
       "      <th>gdp_mmm_usd</th>\n",
       "    </tr>\n",
       "  </thead>\n",
       "  <tbody>\n",
       "    <tr>\n",
       "      <th>0</th>\n",
       "      <td>2015</td>\n",
       "      <td>35337912</td>\n",
       "      <td>32.387184</td>\n",
       "    </tr>\n",
       "    <tr>\n",
       "      <th>1</th>\n",
       "      <td>2016</td>\n",
       "      <td>36531526</td>\n",
       "      <td>33.935615</td>\n",
       "    </tr>\n",
       "    <tr>\n",
       "      <th>2</th>\n",
       "      <td>2017</td>\n",
       "      <td>37829212</td>\n",
       "      <td>34.998277</td>\n",
       "    </tr>\n",
       "    <tr>\n",
       "      <th>3</th>\n",
       "      <td>2018</td>\n",
       "      <td>39136507</td>\n",
       "      <td>37.204541</td>\n",
       "    </tr>\n",
       "    <tr>\n",
       "      <th>4</th>\n",
       "      <td>2019</td>\n",
       "      <td>40486514</td>\n",
       "      <td>39.600047</td>\n",
       "    </tr>\n",
       "  </tbody>\n",
       "</table>\n",
       "</div>"
      ],
      "text/plain": [
       "   year  pop_total  gdp_mmm_usd\n",
       "0  2015   35337912    32.387184\n",
       "1  2016   36531526    33.935615\n",
       "2  2017   37829212    34.998277\n",
       "3  2018   39136507    37.204541\n",
       "4  2019   40486514    39.600047"
      ]
     },
     "execution_count": 36,
     "metadata": {},
     "output_type": "execute_result"
    }
   ],
   "source": [
    "trde_passenger_df = trde_passenger_df.merge(gdp_df[[\"year\", \"gdp_mmm_usd\"]], on='year', how='left')\n",
    "trde_passenger_df.head()"
   ]
  },
  {
   "cell_type": "code",
   "execution_count": 37,
   "id": "6dba1360",
   "metadata": {},
   "outputs": [],
   "source": [
    "# 1) your raw inputs\n",
    "private_passenger_trde = 41.81e9\n",
    "public_passenger_trde  = 69.36e9\n",
    "\n",
    "rail_passenger_trde = {\n",
    "    2016: 342_230,\n",
    "    2017: 174_824,\n",
    "    2018: 473_757,\n",
    "    2019: 437_398,\n",
    "    2020: 160_672\n",
    "}\n",
    "\n",
    "inland_water_passenger_trde = {2019: 17_252_769}\n",
    "\n",
    "aviation_passenger_trde = {\n",
    "    2015: 61_172_500,\n",
    "    2016: 62_557_500,\n",
    "    2017: 62_885_000,\n",
    "    2018: 67_670_000\n",
    "}"
   ]
  },
  {
   "cell_type": "code",
   "execution_count": 38,
   "id": "84ed35bb",
   "metadata": {},
   "outputs": [],
   "source": [
    "base_year = 2019\n",
    "\n",
    "# Get base population and PKMs\n",
    "base_pop = trde_passenger_df.loc[trde_passenger_df['year'] == base_year, 'pop_total'].values[0]\n",
    "base_private_pkms = private_passenger_trde\n",
    "base_public_pkms = public_passenger_trde\n",
    "base_regional_pkms = (\n",
    "    rail_passenger_trde.get(base_year, 0)\n",
    "    + inland_water_passenger_trde.get(base_year, 0)\n",
    "    + aviation_passenger_trde.get(2018, 0)\n",
    ")\n",
    "\n",
    "# Set GDP scaling factor\n",
    "gdp_scaling = trde_passenger_df.loc[trde_passenger_df['year'] == base_year, 'gdp_mmm_usd'].values[0]"
   ]
  },
  {
   "cell_type": "code",
   "execution_count": 39,
   "id": "73a9dbfb",
   "metadata": {},
   "outputs": [],
   "source": [
    "# Option 2: Scale by pop (and gdp placeholder)\n",
    "trde_passenger_df['deminit_trde_private_and_public_passenger_km'] = (\n",
    "    (base_private_pkms + base_public_pkms)\n",
    "    * (trde_passenger_df['pop_total'] / base_pop)\n",
    "    * (trde_passenger_df['gdp_mmm_usd'] / gdp_scaling)  # <-- This does nothing now, will work when you add GDP!\n",
    ")\n",
    "\n",
    "trde_passenger_df['deminit_trde_regional_passenger_km'] = (\n",
    "    base_regional_pkms\n",
    "    * (trde_passenger_df['pop_total'] / base_pop)\n",
    "    * (trde_passenger_df['gdp_mmm_usd'] / gdp_scaling)\n",
    ")"
   ]
  },
  {
   "cell_type": "code",
   "execution_count": 40,
   "id": "52187d7c",
   "metadata": {},
   "outputs": [
    {
     "data": {
      "text/html": [
       "<div>\n",
       "<style scoped>\n",
       "    .dataframe tbody tr th:only-of-type {\n",
       "        vertical-align: middle;\n",
       "    }\n",
       "\n",
       "    .dataframe tbody tr th {\n",
       "        vertical-align: top;\n",
       "    }\n",
       "\n",
       "    .dataframe thead th {\n",
       "        text-align: right;\n",
       "    }\n",
       "</style>\n",
       "<table border=\"1\" class=\"dataframe\">\n",
       "  <thead>\n",
       "    <tr style=\"text-align: right;\">\n",
       "      <th></th>\n",
       "      <th>year</th>\n",
       "      <th>pop_total</th>\n",
       "      <th>gdp_mmm_usd</th>\n",
       "      <th>deminit_trde_private_and_public_passenger_km</th>\n",
       "      <th>deminit_trde_regional_passenger_km</th>\n",
       "    </tr>\n",
       "  </thead>\n",
       "  <tbody>\n",
       "    <tr>\n",
       "      <th>0</th>\n",
       "      <td>2015</td>\n",
       "      <td>35337912</td>\n",
       "      <td>32.387184</td>\n",
       "      <td>7.935889e+10</td>\n",
       "      <td>6.093450e+07</td>\n",
       "    </tr>\n",
       "    <tr>\n",
       "      <th>1</th>\n",
       "      <td>2016</td>\n",
       "      <td>36531526</td>\n",
       "      <td>33.935615</td>\n",
       "      <td>8.596171e+10</td>\n",
       "      <td>6.600437e+07</td>\n",
       "    </tr>\n",
       "    <tr>\n",
       "      <th>2</th>\n",
       "      <td>2017</td>\n",
       "      <td>37829212</td>\n",
       "      <td>34.998277</td>\n",
       "      <td>9.180270e+10</td>\n",
       "      <td>7.048929e+07</td>\n",
       "    </tr>\n",
       "    <tr>\n",
       "      <th>3</th>\n",
       "      <td>2018</td>\n",
       "      <td>39136507</td>\n",
       "      <td>37.204541</td>\n",
       "      <td>1.009624e+11</td>\n",
       "      <td>7.752240e+07</td>\n",
       "    </tr>\n",
       "    <tr>\n",
       "      <th>4</th>\n",
       "      <td>2019</td>\n",
       "      <td>40486514</td>\n",
       "      <td>39.600047</td>\n",
       "      <td>1.111700e+11</td>\n",
       "      <td>8.536017e+07</td>\n",
       "    </tr>\n",
       "  </tbody>\n",
       "</table>\n",
       "</div>"
      ],
      "text/plain": [
       "   year  pop_total  gdp_mmm_usd  deminit_trde_private_and_public_passenger_km  \\\n",
       "0  2015   35337912    32.387184                                  7.935889e+10   \n",
       "1  2016   36531526    33.935615                                  8.596171e+10   \n",
       "2  2017   37829212    34.998277                                  9.180270e+10   \n",
       "3  2018   39136507    37.204541                                  1.009624e+11   \n",
       "4  2019   40486514    39.600047                                  1.111700e+11   \n",
       "\n",
       "   deminit_trde_regional_passenger_km  \n",
       "0                        6.093450e+07  \n",
       "1                        6.600437e+07  \n",
       "2                        7.048929e+07  \n",
       "3                        7.752240e+07  \n",
       "4                        8.536017e+07  "
      ]
     },
     "execution_count": 40,
     "metadata": {},
     "output_type": "execute_result"
    }
   ],
   "source": [
    "trde_passenger_df.head()"
   ]
  },
  {
   "cell_type": "code",
   "execution_count": 41,
   "id": "a18aab85",
   "metadata": {},
   "outputs": [
    {
     "data": {
      "text/html": [
       "<div>\n",
       "<style scoped>\n",
       "    .dataframe tbody tr th:only-of-type {\n",
       "        vertical-align: middle;\n",
       "    }\n",
       "\n",
       "    .dataframe tbody tr th {\n",
       "        vertical-align: top;\n",
       "    }\n",
       "\n",
       "    .dataframe thead th {\n",
       "        text-align: right;\n",
       "    }\n",
       "</style>\n",
       "<table border=\"1\" class=\"dataframe\">\n",
       "  <thead>\n",
       "    <tr style=\"text-align: right;\">\n",
       "      <th></th>\n",
       "      <th>year</th>\n",
       "      <th>pop_total</th>\n",
       "      <th>gdp_mmm_usd</th>\n",
       "      <th>deminit_trde_private_and_public_passenger_km</th>\n",
       "      <th>deminit_trde_regional_passenger_km</th>\n",
       "    </tr>\n",
       "  </thead>\n",
       "  <tbody>\n",
       "    <tr>\n",
       "      <th>31</th>\n",
       "      <td>2046</td>\n",
       "      <td>67070666</td>\n",
       "      <td>273.741762</td>\n",
       "      <td>1.273079e+12</td>\n",
       "      <td>9.775137e+08</td>\n",
       "    </tr>\n",
       "    <tr>\n",
       "      <th>32</th>\n",
       "      <td>2047</td>\n",
       "      <td>68043520</td>\n",
       "      <td>295.175742</td>\n",
       "      <td>1.392672e+12</td>\n",
       "      <td>1.069342e+09</td>\n",
       "    </tr>\n",
       "    <tr>\n",
       "      <th>33</th>\n",
       "      <td>2048</td>\n",
       "      <td>69004923</td>\n",
       "      <td>318.288002</td>\n",
       "      <td>1.522937e+12</td>\n",
       "      <td>1.169363e+09</td>\n",
       "    </tr>\n",
       "    <tr>\n",
       "      <th>34</th>\n",
       "      <td>2049</td>\n",
       "      <td>69944592</td>\n",
       "      <td>343.209953</td>\n",
       "      <td>1.664545e+12</td>\n",
       "      <td>1.278095e+09</td>\n",
       "    </tr>\n",
       "    <tr>\n",
       "      <th>35</th>\n",
       "      <td>2050</td>\n",
       "      <td>70862987</td>\n",
       "      <td>370.083292</td>\n",
       "      <td>1.818446e+12</td>\n",
       "      <td>1.396266e+09</td>\n",
       "    </tr>\n",
       "  </tbody>\n",
       "</table>\n",
       "</div>"
      ],
      "text/plain": [
       "    year  pop_total  gdp_mmm_usd  \\\n",
       "31  2046   67070666   273.741762   \n",
       "32  2047   68043520   295.175742   \n",
       "33  2048   69004923   318.288002   \n",
       "34  2049   69944592   343.209953   \n",
       "35  2050   70862987   370.083292   \n",
       "\n",
       "    deminit_trde_private_and_public_passenger_km  \\\n",
       "31                                  1.273079e+12   \n",
       "32                                  1.392672e+12   \n",
       "33                                  1.522937e+12   \n",
       "34                                  1.664545e+12   \n",
       "35                                  1.818446e+12   \n",
       "\n",
       "    deminit_trde_regional_passenger_km  \n",
       "31                        9.775137e+08  \n",
       "32                        1.069342e+09  \n",
       "33                        1.169363e+09  \n",
       "34                        1.278095e+09  \n",
       "35                        1.396266e+09  "
      ]
     },
     "execution_count": 41,
     "metadata": {},
     "output_type": "execute_result"
    }
   ],
   "source": [
    "trde_passenger_df.tail()"
   ]
  },
  {
   "cell_type": "code",
   "execution_count": 42,
   "id": "77b6d117",
   "metadata": {},
   "outputs": [
    {
     "data": {
      "text/plain": [
       "<Axes: >"
      ]
     },
     "execution_count": 42,
     "metadata": {},
     "output_type": "execute_result"
    },
    {
     "data": {
      "image/png": "[encoded data removed]",
      "text/plain": [
       "<Figure size 640x480 with 1 Axes>"
      ]
     },
     "metadata": {},
     "output_type": "display_data"
    }
   ],
   "source": [
    "trde_passenger_df.deminit_trde_private_and_public_passenger_km.plot()"
   ]
  },
  {
   "cell_type": "code",
   "execution_count": 43,
   "id": "90806e87",
   "metadata": {},
   "outputs": [
    {
     "data": {
      "text/plain": [
       "<Axes: >"
      ]
     },
     "execution_count": 43,
     "metadata": {},
     "output_type": "execute_result"
    },
    {
     "data": {
      "image/png": "[encoded data removed]",
      "text/plain": [
       "<Figure size 640x480 with 1 Axes>"
      ]
     },
     "metadata": {},
     "output_type": "display_data"
    }
   ],
   "source": [
    "trde_passenger_df.deminit_trde_regional_passenger_km.plot()"
   ]
  },
  {
   "cell_type": "code",
   "execution_count": 44,
   "id": "99c27dfa",
   "metadata": {},
   "outputs": [],
   "source": [
    "trde_passenger_df[\"deminit_trde_private_and_public_per_capita_passenger_km\"] = trde_passenger_df[\"deminit_trde_private_and_public_passenger_km\"] / trde_passenger_df[\"pop_total\"]\n",
    "trde_passenger_df[\"deminit_trde_regional_per_capita_passenger_km\"] = trde_passenger_df[\"deminit_trde_regional_passenger_km\"] / trde_passenger_df[\"pop_total\"]"
   ]
  },
  {
   "cell_type": "code",
   "execution_count": 45,
   "id": "af818d27",
   "metadata": {},
   "outputs": [],
   "source": [
    "# Keep only deminit columns and year columns\n",
    "trde_passenger_df = trde_passenger_df[[\"year\", \"deminit_trde_private_and_public_per_capita_passenger_km\", \n",
    "         \"deminit_trde_regional_per_capita_passenger_km\"]]"
   ]
  },
  {
   "cell_type": "code",
   "execution_count": 46,
   "id": "e565ed4f",
   "metadata": {},
   "outputs": [
    {
     "data": {
      "text/html": [
       "<div>\n",
       "<style scoped>\n",
       "    .dataframe tbody tr th:only-of-type {\n",
       "        vertical-align: middle;\n",
       "    }\n",
       "\n",
       "    .dataframe tbody tr th {\n",
       "        vertical-align: top;\n",
       "    }\n",
       "\n",
       "    .dataframe thead th {\n",
       "        text-align: right;\n",
       "    }\n",
       "</style>\n",
       "<table border=\"1\" class=\"dataframe\">\n",
       "  <thead>\n",
       "    <tr style=\"text-align: right;\">\n",
       "      <th></th>\n",
       "      <th>year</th>\n",
       "      <th>deminit_trde_private_and_public_per_capita_passenger_km</th>\n",
       "      <th>deminit_trde_regional_per_capita_passenger_km</th>\n",
       "    </tr>\n",
       "  </thead>\n",
       "  <tbody>\n",
       "    <tr>\n",
       "      <th>0</th>\n",
       "      <td>2015</td>\n",
       "      <td>2245.715333</td>\n",
       "      <td>1.724338</td>\n",
       "    </tr>\n",
       "    <tr>\n",
       "      <th>1</th>\n",
       "      <td>2016</td>\n",
       "      <td>2353.082989</td>\n",
       "      <td>1.806778</td>\n",
       "    </tr>\n",
       "    <tr>\n",
       "      <th>2</th>\n",
       "      <td>2017</td>\n",
       "      <td>2426.767560</td>\n",
       "      <td>1.863356</td>\n",
       "    </tr>\n",
       "    <tr>\n",
       "      <th>3</th>\n",
       "      <td>2018</td>\n",
       "      <td>2579.749137</td>\n",
       "      <td>1.980821</td>\n",
       "    </tr>\n",
       "    <tr>\n",
       "      <th>4</th>\n",
       "      <td>2019</td>\n",
       "      <td>2745.852607</td>\n",
       "      <td>2.108361</td>\n",
       "    </tr>\n",
       "  </tbody>\n",
       "</table>\n",
       "</div>"
      ],
      "text/plain": [
       "   year  deminit_trde_private_and_public_per_capita_passenger_km  \\\n",
       "0  2015                                        2245.715333         \n",
       "1  2016                                        2353.082989         \n",
       "2  2017                                        2426.767560         \n",
       "3  2018                                        2579.749137         \n",
       "4  2019                                        2745.852607         \n",
       "\n",
       "   deminit_trde_regional_per_capita_passenger_km  \n",
       "0                                       1.724338  \n",
       "1                                       1.806778  \n",
       "2                                       1.863356  \n",
       "3                                       1.980821  \n",
       "4                                       2.108361  "
      ]
     },
     "execution_count": 46,
     "metadata": {},
     "output_type": "execute_result"
    }
   ],
   "source": [
    "trde_passenger_df.head()"
   ]
  },
  {
   "cell_type": "code",
   "execution_count": 47,
   "id": "38c87786",
   "metadata": {},
   "outputs": [
    {
     "data": {
      "text/html": [
       "<div>\n",
       "<style scoped>\n",
       "    .dataframe tbody tr th:only-of-type {\n",
       "        vertical-align: middle;\n",
       "    }\n",
       "\n",
       "    .dataframe tbody tr th {\n",
       "        vertical-align: top;\n",
       "    }\n",
       "\n",
       "    .dataframe thead th {\n",
       "        text-align: right;\n",
       "    }\n",
       "</style>\n",
       "<table border=\"1\" class=\"dataframe\">\n",
       "  <thead>\n",
       "    <tr style=\"text-align: right;\">\n",
       "      <th></th>\n",
       "      <th>year</th>\n",
       "      <th>deminit_trde_private_and_public_per_capita_passenger_km</th>\n",
       "      <th>deminit_trde_regional_per_capita_passenger_km</th>\n",
       "    </tr>\n",
       "  </thead>\n",
       "  <tbody>\n",
       "    <tr>\n",
       "      <th>31</th>\n",
       "      <td>2046</td>\n",
       "      <td>18981.152447</td>\n",
       "      <td>14.574385</td>\n",
       "    </tr>\n",
       "    <tr>\n",
       "      <th>32</th>\n",
       "      <td>2047</td>\n",
       "      <td>20467.376684</td>\n",
       "      <td>15.715559</td>\n",
       "    </tr>\n",
       "    <tr>\n",
       "      <th>33</th>\n",
       "      <td>2048</td>\n",
       "      <td>22069.972278</td>\n",
       "      <td>16.946087</td>\n",
       "    </tr>\n",
       "    <tr>\n",
       "      <th>34</th>\n",
       "      <td>2049</td>\n",
       "      <td>23798.051107</td>\n",
       "      <td>18.272966</td>\n",
       "    </tr>\n",
       "    <tr>\n",
       "      <th>35</th>\n",
       "      <td>2050</td>\n",
       "      <td>25661.438509</td>\n",
       "      <td>19.703739</td>\n",
       "    </tr>\n",
       "  </tbody>\n",
       "</table>\n",
       "</div>"
      ],
      "text/plain": [
       "    year  deminit_trde_private_and_public_per_capita_passenger_km  \\\n",
       "31  2046                                       18981.152447         \n",
       "32  2047                                       20467.376684         \n",
       "33  2048                                       22069.972278         \n",
       "34  2049                                       23798.051107         \n",
       "35  2050                                       25661.438509         \n",
       "\n",
       "    deminit_trde_regional_per_capita_passenger_km  \n",
       "31                                      14.574385  \n",
       "32                                      15.715559  \n",
       "33                                      16.946087  \n",
       "34                                      18.272966  \n",
       "35                                      19.703739  "
      ]
     },
     "execution_count": 47,
     "metadata": {},
     "output_type": "execute_result"
    }
   ],
   "source": [
    "trde_passenger_df.tail()"
   ]
  },
  {
   "cell_type": "markdown",
   "id": "06e9c8ed",
   "metadata": {},
   "source": [
    "## Validation"
   ]
  },
  {
   "cell_type": "code",
   "execution_count": 48,
   "id": "e612cf99",
   "metadata": {},
   "outputs": [
    {
     "data": {
      "text/html": [
       "<div>\n",
       "<style scoped>\n",
       "    .dataframe tbody tr th:only-of-type {\n",
       "        vertical-align: middle;\n",
       "    }\n",
       "\n",
       "    .dataframe tbody tr th {\n",
       "        vertical-align: top;\n",
       "    }\n",
       "\n",
       "    .dataframe thead th {\n",
       "        text-align: right;\n",
       "    }\n",
       "</style>\n",
       "<table border=\"1\" class=\"dataframe\">\n",
       "  <thead>\n",
       "    <tr style=\"text-align: right;\">\n",
       "      <th></th>\n",
       "      <th>deminit_trde_private_and_public_per_capita_passenger_km</th>\n",
       "      <th>deminit_trde_regional_per_capita_passenger_km</th>\n",
       "    </tr>\n",
       "  </thead>\n",
       "  <tbody>\n",
       "    <tr>\n",
       "      <th>0</th>\n",
       "      <td>90.416780</td>\n",
       "      <td>13.224175</td>\n",
       "    </tr>\n",
       "    <tr>\n",
       "      <th>1</th>\n",
       "      <td>90.835038</td>\n",
       "      <td>13.124486</td>\n",
       "    </tr>\n",
       "    <tr>\n",
       "      <th>2</th>\n",
       "      <td>90.835038</td>\n",
       "      <td>13.124486</td>\n",
       "    </tr>\n",
       "    <tr>\n",
       "      <th>3</th>\n",
       "      <td>90.835038</td>\n",
       "      <td>13.124486</td>\n",
       "    </tr>\n",
       "    <tr>\n",
       "      <th>4</th>\n",
       "      <td>90.835038</td>\n",
       "      <td>13.124486</td>\n",
       "    </tr>\n",
       "  </tbody>\n",
       "</table>\n",
       "</div>"
      ],
      "text/plain": [
       "   deminit_trde_private_and_public_per_capita_passenger_km  \\\n",
       "0                                          90.416780         \n",
       "1                                          90.835038         \n",
       "2                                          90.835038         \n",
       "3                                          90.835038         \n",
       "4                                          90.835038         \n",
       "\n",
       "   deminit_trde_regional_per_capita_passenger_km  \n",
       "0                                      13.224175  \n",
       "1                                      13.124486  \n",
       "2                                      13.124486  \n",
       "3                                      13.124486  \n",
       "4                                      13.124486  "
      ]
     },
     "execution_count": 48,
     "metadata": {},
     "output_type": "execute_result"
    }
   ],
   "source": [
    "og_df = pd.read_csv(os.path.join(INPUT_DATA_DIR_PATH, \"sisepuede_raw_global_inputs_uganda.csv\"))\n",
    "og_df = og_df[[\"deminit_trde_private_and_public_per_capita_passenger_km\", \n",
    "         \"deminit_trde_regional_per_capita_passenger_km\"]]\n",
    "og_df.head()"
   ]
  },
  {
   "cell_type": "code",
   "execution_count": 49,
   "id": "da749b5f",
   "metadata": {},
   "outputs": [
    {
     "data": {
      "text/plain": [
       "<Axes: >"
      ]
     },
     "execution_count": 49,
     "metadata": {},
     "output_type": "execute_result"
    },
    {
     "data": {
      "image/png": "[encoded data removed]",
      "text/plain": [
       "<Figure size 640x480 with 1 Axes>"
      ]
     },
     "metadata": {},
     "output_type": "display_data"
    }
   ],
   "source": [
    "pop_df[\"pop_total\"].plot()"
   ]
  },
  {
   "cell_type": "code",
   "execution_count": 50,
   "id": "3c654604",
   "metadata": {},
   "outputs": [
    {
     "data": {
      "image/png": "[encoded data removed]",
      "text/plain": [
       "<Figure size 1200x500 with 2 Axes>"
      ]
     },
     "metadata": {},
     "output_type": "display_data"
    }
   ],
   "source": [
    "edau.compare_variables(trde_passenger_df,\n",
    "                       og_df,\n",
    "                       [\"deminit_trde_private_and_public_per_capita_passenger_km\",\n",
    "                        \"deminit_trde_regional_per_capita_passenger_km\"]\n",
    "                        )"
   ]
  },
  {
   "cell_type": "code",
   "execution_count": 51,
   "id": "69965aa6",
   "metadata": {},
   "outputs": [],
   "source": [
    "trde_passenger_df.to_csv(os.path.join(OUTPUT_DATA_DIR_PATH, \"deminit_trde_per_capita_passenger_km.csv\"), index=False)"
   ]
  }
 ],
 "metadata": {
  "kernelspec": {
   "display_name": "uganda_data_env",
   "language": "python",
   "name": "python3"
  },
  "language_info": {
   "codemirror_mode": {
    "name": "ipython",
    "version": 3
   },
   "file_extension": ".py",
   "mimetype": "text/x-python",
   "name": "python",
   "nbconvert_exporter": "python",
   "pygments_lexer": "ipython3",
   "version": "3.11.13"
  }
 },
 "nbformat": 4,
 "nbformat_minor": 5
}
