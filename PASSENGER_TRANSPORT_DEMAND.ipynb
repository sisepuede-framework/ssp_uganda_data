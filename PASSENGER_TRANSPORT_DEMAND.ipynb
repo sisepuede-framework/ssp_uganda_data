{
 "cells": [
  {
   "cell_type": "markdown",
   "id": "09752e28",
   "metadata": {},
   "source": [
    "## Source\n",
    "\n",
    "Analysis and Scenario Development in Uganda’s Transport Sector  \n",
    "- Private and public: Table 4-3, page 43.  \n",
    "- Rail: Table 5-2, page 48.  \n",
    "- Water: Table 6-2, page 52.  \n",
    "- Aviation: Table 7-1, page 55.\n",
    "\n",
    "### Aviation computation\n",
    "\n",
    "Estimated Passenger-Kilometers (PKM) for International Aviation Departures in Uganda (2015–2018).\n",
    "\n",
    "**Data Source:**  \n",
    "* Number of domestic departing and arriving passengers per year (Table 7-1).  \n",
    "* Number of international departing passengers per year (Table 7-1).  \n",
    "* Assumption: Each international flight has an average travel distance of 2,500 km.\n",
    "\n",
    "**Formula:**  \n",
    "* PKM = Number of passengers × Average Distance per Departure (km)\n"
   ]
  },
  {
   "cell_type": "code",
   "execution_count": 1,
   "id": "99dccbe4",
   "metadata": {},
   "outputs": [],
   "source": [
    "import numpy as np\n",
    "import pandas as pd\n",
    "import os\n",
    "from utils.utils import EDAUtils"
   ]
  },
  {
   "cell_type": "code",
   "execution_count": 2,
   "id": "d3d41b58",
   "metadata": {},
   "outputs": [],
   "source": [
    "%load_ext autoreload\n",
    "%autoreload 2"
   ]
  },
  {
   "cell_type": "code",
   "execution_count": 3,
   "id": "50fb22eb",
   "metadata": {},
   "outputs": [],
   "source": [
    "edau = EDAUtils()"
   ]
  },
  {
   "cell_type": "code",
   "execution_count": 4,
   "id": "ef5a17ce",
   "metadata": {},
   "outputs": [],
   "source": [
    "# Set up paths\n",
    "CURRENT_DIR_PATH = os.getcwd()\n",
    "OUTPUT_DATA_DIR_PATH = os.path.join(CURRENT_DIR_PATH, \"output_data\")\n",
    "INPUT_DATA_DIR_PATH = os.path.join(CURRENT_DIR_PATH, \"input_data\")"
   ]
  },
  {
   "cell_type": "code",
   "execution_count": 5,
   "id": "a8a639f4",
   "metadata": {},
   "outputs": [
    {
     "data": {
      "text/html": [
       "<div>\n",
       "<style scoped>\n",
       "    .dataframe tbody tr th:only-of-type {\n",
       "        vertical-align: middle;\n",
       "    }\n",
       "\n",
       "    .dataframe tbody tr th {\n",
       "        vertical-align: top;\n",
       "    }\n",
       "\n",
       "    .dataframe thead th {\n",
       "        text-align: right;\n",
       "    }\n",
       "</style>\n",
       "<table border=\"1\" class=\"dataframe\">\n",
       "  <thead>\n",
       "    <tr style=\"text-align: right;\">\n",
       "      <th></th>\n",
       "      <th>year</th>\n",
       "      <th>population_gnrl_rural</th>\n",
       "      <th>population_gnrl_urban</th>\n",
       "    </tr>\n",
       "  </thead>\n",
       "  <tbody>\n",
       "    <tr>\n",
       "      <th>0</th>\n",
       "      <td>2015</td>\n",
       "      <td>27415805</td>\n",
       "      <td>7922107</td>\n",
       "    </tr>\n",
       "    <tr>\n",
       "      <th>1</th>\n",
       "      <td>2016</td>\n",
       "      <td>28126956</td>\n",
       "      <td>8404570</td>\n",
       "    </tr>\n",
       "    <tr>\n",
       "      <th>2</th>\n",
       "      <td>2017</td>\n",
       "      <td>28903581</td>\n",
       "      <td>8925631</td>\n",
       "    </tr>\n",
       "    <tr>\n",
       "      <th>3</th>\n",
       "      <td>2018</td>\n",
       "      <td>29672226</td>\n",
       "      <td>9464281</td>\n",
       "    </tr>\n",
       "    <tr>\n",
       "      <th>4</th>\n",
       "      <td>2019</td>\n",
       "      <td>30457624</td>\n",
       "      <td>10028890</td>\n",
       "    </tr>\n",
       "  </tbody>\n",
       "</table>\n",
       "</div>"
      ],
      "text/plain": [
       "   year  population_gnrl_rural  population_gnrl_urban\n",
       "0  2015               27415805                7922107\n",
       "1  2016               28126956                8404570\n",
       "2  2017               28903581                8925631\n",
       "3  2018               29672226                9464281\n",
       "4  2019               30457624               10028890"
      ]
     },
     "execution_count": 5,
     "metadata": {},
     "output_type": "execute_result"
    }
   ],
   "source": [
    "# Load population data\n",
    "POPULATION_DATA_PATH = os.path.join(OUTPUT_DATA_DIR_PATH, \"POPULATION.csv\")\n",
    "pop_df = pd.read_csv(POPULATION_DATA_PATH)\n",
    "\n",
    "# Filter for the years 2015 to 2050\n",
    "pop_df = pop_df[(pop_df['year'] >= 2015) & (pop_df['year'] <= 2050)]\n",
    "pop_df = pop_df.reset_index(drop=True)\n",
    "pop_df.head()"
   ]
  },
  {
   "cell_type": "code",
   "execution_count": 6,
   "id": "a47ad195",
   "metadata": {},
   "outputs": [
    {
     "data": {
      "text/html": [
       "<div>\n",
       "<style scoped>\n",
       "    .dataframe tbody tr th:only-of-type {\n",
       "        vertical-align: middle;\n",
       "    }\n",
       "\n",
       "    .dataframe tbody tr th {\n",
       "        vertical-align: top;\n",
       "    }\n",
       "\n",
       "    .dataframe thead th {\n",
       "        text-align: right;\n",
       "    }\n",
       "</style>\n",
       "<table border=\"1\" class=\"dataframe\">\n",
       "  <thead>\n",
       "    <tr style=\"text-align: right;\">\n",
       "      <th></th>\n",
       "      <th>year</th>\n",
       "      <th>population_gnrl_rural</th>\n",
       "      <th>population_gnrl_urban</th>\n",
       "      <th>pop_total</th>\n",
       "    </tr>\n",
       "  </thead>\n",
       "  <tbody>\n",
       "    <tr>\n",
       "      <th>0</th>\n",
       "      <td>2015</td>\n",
       "      <td>27415805</td>\n",
       "      <td>7922107</td>\n",
       "      <td>35337912</td>\n",
       "    </tr>\n",
       "    <tr>\n",
       "      <th>1</th>\n",
       "      <td>2016</td>\n",
       "      <td>28126956</td>\n",
       "      <td>8404570</td>\n",
       "      <td>36531526</td>\n",
       "    </tr>\n",
       "    <tr>\n",
       "      <th>2</th>\n",
       "      <td>2017</td>\n",
       "      <td>28903581</td>\n",
       "      <td>8925631</td>\n",
       "      <td>37829212</td>\n",
       "    </tr>\n",
       "    <tr>\n",
       "      <th>3</th>\n",
       "      <td>2018</td>\n",
       "      <td>29672226</td>\n",
       "      <td>9464281</td>\n",
       "      <td>39136507</td>\n",
       "    </tr>\n",
       "    <tr>\n",
       "      <th>4</th>\n",
       "      <td>2019</td>\n",
       "      <td>30457624</td>\n",
       "      <td>10028890</td>\n",
       "      <td>40486514</td>\n",
       "    </tr>\n",
       "  </tbody>\n",
       "</table>\n",
       "</div>"
      ],
      "text/plain": [
       "   year  population_gnrl_rural  population_gnrl_urban  pop_total\n",
       "0  2015               27415805                7922107   35337912\n",
       "1  2016               28126956                8404570   36531526\n",
       "2  2017               28903581                8925631   37829212\n",
       "3  2018               29672226                9464281   39136507\n",
       "4  2019               30457624               10028890   40486514"
      ]
     },
     "execution_count": 6,
     "metadata": {},
     "output_type": "execute_result"
    }
   ],
   "source": [
    "# Create pop_total column\n",
    "pop_df['pop_total'] = pop_df['population_gnrl_rural'] + pop_df['population_gnrl_urban']\n",
    "pop_df.head()"
   ]
  },
  {
   "cell_type": "code",
   "execution_count": 7,
   "id": "3e906f9d",
   "metadata": {},
   "outputs": [
    {
     "data": {
      "text/html": [
       "<div>\n",
       "<style scoped>\n",
       "    .dataframe tbody tr th:only-of-type {\n",
       "        vertical-align: middle;\n",
       "    }\n",
       "\n",
       "    .dataframe tbody tr th {\n",
       "        vertical-align: top;\n",
       "    }\n",
       "\n",
       "    .dataframe thead th {\n",
       "        text-align: right;\n",
       "    }\n",
       "</style>\n",
       "<table border=\"1\" class=\"dataframe\">\n",
       "  <thead>\n",
       "    <tr style=\"text-align: right;\">\n",
       "      <th></th>\n",
       "      <th>year</th>\n",
       "      <th>population_gnrl_rural</th>\n",
       "      <th>population_gnrl_urban</th>\n",
       "      <th>pop_total</th>\n",
       "    </tr>\n",
       "  </thead>\n",
       "  <tbody>\n",
       "    <tr>\n",
       "      <th>31</th>\n",
       "      <td>2046</td>\n",
       "      <td>38769171</td>\n",
       "      <td>28301495</td>\n",
       "      <td>67070666</td>\n",
       "    </tr>\n",
       "    <tr>\n",
       "      <th>32</th>\n",
       "      <td>2047</td>\n",
       "      <td>38877625</td>\n",
       "      <td>29165895</td>\n",
       "      <td>68043520</td>\n",
       "    </tr>\n",
       "    <tr>\n",
       "      <th>33</th>\n",
       "      <td>2048</td>\n",
       "      <td>38966634</td>\n",
       "      <td>30038289</td>\n",
       "      <td>69004923</td>\n",
       "    </tr>\n",
       "    <tr>\n",
       "      <th>34</th>\n",
       "      <td>2049</td>\n",
       "      <td>39030689</td>\n",
       "      <td>30913903</td>\n",
       "      <td>69944592</td>\n",
       "    </tr>\n",
       "    <tr>\n",
       "      <th>35</th>\n",
       "      <td>2050</td>\n",
       "      <td>39070478</td>\n",
       "      <td>31792509</td>\n",
       "      <td>70862987</td>\n",
       "    </tr>\n",
       "  </tbody>\n",
       "</table>\n",
       "</div>"
      ],
      "text/plain": [
       "    year  population_gnrl_rural  population_gnrl_urban  pop_total\n",
       "31  2046               38769171               28301495   67070666\n",
       "32  2047               38877625               29165895   68043520\n",
       "33  2048               38966634               30038289   69004923\n",
       "34  2049               39030689               30913903   69944592\n",
       "35  2050               39070478               31792509   70862987"
      ]
     },
     "execution_count": 7,
     "metadata": {},
     "output_type": "execute_result"
    }
   ],
   "source": [
    "pop_df.tail()"
   ]
  },
  {
   "cell_type": "code",
   "execution_count": 8,
   "id": "a5d6033f",
   "metadata": {},
   "outputs": [
    {
     "data": {
      "text/html": [
       "<div>\n",
       "<style scoped>\n",
       "    .dataframe tbody tr th:only-of-type {\n",
       "        vertical-align: middle;\n",
       "    }\n",
       "\n",
       "    .dataframe tbody tr th {\n",
       "        vertical-align: top;\n",
       "    }\n",
       "\n",
       "    .dataframe thead th {\n",
       "        text-align: right;\n",
       "    }\n",
       "</style>\n",
       "<table border=\"1\" class=\"dataframe\">\n",
       "  <thead>\n",
       "    <tr style=\"text-align: right;\">\n",
       "      <th></th>\n",
       "      <th>year</th>\n",
       "      <th>pop_total</th>\n",
       "    </tr>\n",
       "  </thead>\n",
       "  <tbody>\n",
       "    <tr>\n",
       "      <th>0</th>\n",
       "      <td>2015</td>\n",
       "      <td>35337912</td>\n",
       "    </tr>\n",
       "    <tr>\n",
       "      <th>1</th>\n",
       "      <td>2016</td>\n",
       "      <td>36531526</td>\n",
       "    </tr>\n",
       "    <tr>\n",
       "      <th>2</th>\n",
       "      <td>2017</td>\n",
       "      <td>37829212</td>\n",
       "    </tr>\n",
       "    <tr>\n",
       "      <th>3</th>\n",
       "      <td>2018</td>\n",
       "      <td>39136507</td>\n",
       "    </tr>\n",
       "    <tr>\n",
       "      <th>4</th>\n",
       "      <td>2019</td>\n",
       "      <td>40486514</td>\n",
       "    </tr>\n",
       "  </tbody>\n",
       "</table>\n",
       "</div>"
      ],
      "text/plain": [
       "   year  pop_total\n",
       "0  2015   35337912\n",
       "1  2016   36531526\n",
       "2  2017   37829212\n",
       "3  2018   39136507\n",
       "4  2019   40486514"
      ]
     },
     "execution_count": 8,
     "metadata": {},
     "output_type": "execute_result"
    }
   ],
   "source": [
    "# Keep only pop_total col\n",
    "trde_passenger_df = pop_df[['year', 'pop_total']].copy()\n",
    "trde_passenger_df.head()"
   ]
  },
  {
   "cell_type": "code",
   "execution_count": 9,
   "id": "15660b91",
   "metadata": {},
   "outputs": [
    {
     "data": {
      "text/html": [
       "<div>\n",
       "<style scoped>\n",
       "    .dataframe tbody tr th:only-of-type {\n",
       "        vertical-align: middle;\n",
       "    }\n",
       "\n",
       "    .dataframe tbody tr th {\n",
       "        vertical-align: top;\n",
       "    }\n",
       "\n",
       "    .dataframe thead th {\n",
       "        text-align: right;\n",
       "    }\n",
       "</style>\n",
       "<table border=\"1\" class=\"dataframe\">\n",
       "  <thead>\n",
       "    <tr style=\"text-align: right;\">\n",
       "      <th></th>\n",
       "      <th>year</th>\n",
       "      <th>gdp_mmm_usd</th>\n",
       "    </tr>\n",
       "  </thead>\n",
       "  <tbody>\n",
       "    <tr>\n",
       "      <th>0</th>\n",
       "      <td>1982</td>\n",
       "      <td>4.983495</td>\n",
       "    </tr>\n",
       "    <tr>\n",
       "      <th>1</th>\n",
       "      <td>1983</td>\n",
       "      <td>5.269775</td>\n",
       "    </tr>\n",
       "    <tr>\n",
       "      <th>2</th>\n",
       "      <td>1984</td>\n",
       "      <td>5.251612</td>\n",
       "    </tr>\n",
       "    <tr>\n",
       "      <th>3</th>\n",
       "      <td>1985</td>\n",
       "      <td>5.077973</td>\n",
       "    </tr>\n",
       "    <tr>\n",
       "      <th>4</th>\n",
       "      <td>1986</td>\n",
       "      <td>5.097782</td>\n",
       "    </tr>\n",
       "  </tbody>\n",
       "</table>\n",
       "</div>"
      ],
      "text/plain": [
       "   year  gdp_mmm_usd\n",
       "0  1982     4.983495\n",
       "1  1983     5.269775\n",
       "2  1984     5.251612\n",
       "3  1985     5.077973\n",
       "4  1986     5.097782"
      ]
     },
     "execution_count": 9,
     "metadata": {},
     "output_type": "execute_result"
    }
   ],
   "source": [
    "# Load gdp data\n",
    "gdp_df = pd.read_csv(os.path.join(OUTPUT_DATA_DIR_PATH, \"gdp_mmm_usd.csv\"))\n",
    "gdp_df.head()"
   ]
  },
  {
   "cell_type": "code",
   "execution_count": 10,
   "id": "ee823c1a",
   "metadata": {},
   "outputs": [
    {
     "data": {
      "text/html": [
       "<div>\n",
       "<style scoped>\n",
       "    .dataframe tbody tr th:only-of-type {\n",
       "        vertical-align: middle;\n",
       "    }\n",
       "\n",
       "    .dataframe tbody tr th {\n",
       "        vertical-align: top;\n",
       "    }\n",
       "\n",
       "    .dataframe thead th {\n",
       "        text-align: right;\n",
       "    }\n",
       "</style>\n",
       "<table border=\"1\" class=\"dataframe\">\n",
       "  <thead>\n",
       "    <tr style=\"text-align: right;\">\n",
       "      <th></th>\n",
       "      <th>year</th>\n",
       "      <th>pop_total</th>\n",
       "      <th>gdp_mmm_usd</th>\n",
       "    </tr>\n",
       "  </thead>\n",
       "  <tbody>\n",
       "    <tr>\n",
       "      <th>0</th>\n",
       "      <td>2015</td>\n",
       "      <td>35337912</td>\n",
       "      <td>32.387184</td>\n",
       "    </tr>\n",
       "    <tr>\n",
       "      <th>1</th>\n",
       "      <td>2016</td>\n",
       "      <td>36531526</td>\n",
       "      <td>33.935615</td>\n",
       "    </tr>\n",
       "    <tr>\n",
       "      <th>2</th>\n",
       "      <td>2017</td>\n",
       "      <td>37829212</td>\n",
       "      <td>34.998277</td>\n",
       "    </tr>\n",
       "    <tr>\n",
       "      <th>3</th>\n",
       "      <td>2018</td>\n",
       "      <td>39136507</td>\n",
       "      <td>37.204541</td>\n",
       "    </tr>\n",
       "    <tr>\n",
       "      <th>4</th>\n",
       "      <td>2019</td>\n",
       "      <td>40486514</td>\n",
       "      <td>39.600047</td>\n",
       "    </tr>\n",
       "  </tbody>\n",
       "</table>\n",
       "</div>"
      ],
      "text/plain": [
       "   year  pop_total  gdp_mmm_usd\n",
       "0  2015   35337912    32.387184\n",
       "1  2016   36531526    33.935615\n",
       "2  2017   37829212    34.998277\n",
       "3  2018   39136507    37.204541\n",
       "4  2019   40486514    39.600047"
      ]
     },
     "execution_count": 10,
     "metadata": {},
     "output_type": "execute_result"
    }
   ],
   "source": [
    "trde_passenger_df = trde_passenger_df.merge(gdp_df[[\"year\", \"gdp_mmm_usd\"]], on='year', how='left')\n",
    "trde_passenger_df.head()"
   ]
  },
  {
   "cell_type": "code",
   "execution_count": 11,
   "id": "6dba1360",
   "metadata": {},
   "outputs": [],
   "source": [
    "# raw inputs\n",
    "private_passenger_trde = 41.81e9\n",
    "public_passenger_trde  = 69.36e9\n",
    "\n",
    "rail_passenger_trde = {\n",
    "    2016: 342_230,\n",
    "    2017: 174_824,\n",
    "    2018: 473_757,\n",
    "    2019: 437_398,\n",
    "    2020: 160_672\n",
    "}\n",
    "\n",
    "inland_water_passenger_trde = {2019: 17_252_769}"
   ]
  },
  {
   "cell_type": "code",
   "execution_count": 12,
   "id": "a15051f0",
   "metadata": {},
   "outputs": [
    {
     "data": {
      "text/plain": [
       "{2015: 1764740000, 2016: 1794537500, 2017: 1940460000, 2018: 2189535000}"
      ]
     },
     "execution_count": 12,
     "metadata": {},
     "output_type": "execute_result"
    }
   ],
   "source": [
    "# raw inputs\n",
    "\n",
    "def compute_passenger_km(domestic_arrivals, domestic_departures, international_departures, factor=2500):\n",
    "    \"\"\"\n",
    "    Sums the passenger numbers per year from the input dictionaries and multiplies by a factor.\n",
    "    \n",
    "    Args:\n",
    "        domestic_arrivals (dict): {year: passenger_count}\n",
    "        domestic_departures (dict): {year: passenger_count}\n",
    "        international_departures (dict): {year: passenger_count}\n",
    "        factor (int, optional): Multiplier (e.g., average trip length). Default is 2500.\n",
    "        \n",
    "    Returns:\n",
    "        dict: {year: total_passenger_km}\n",
    "    \"\"\"\n",
    "    # Get all years present in any dict\n",
    "    years = set(domestic_arrivals) | set(domestic_departures) | set(international_departures)\n",
    "    result = {}\n",
    "    for year in sorted(years):\n",
    "        total_passengers = (\n",
    "            domestic_arrivals.get(year, 0) +\n",
    "            domestic_departures.get(year, 0) +\n",
    "            international_departures.get(year, 0)\n",
    "        )\n",
    "        result[year] = total_passengers * factor\n",
    "    return result\n",
    "\n",
    "\n",
    "domestic_passengers_arrivals = {\n",
    "    2015: 7634,\n",
    "    2016: 7350,\n",
    "    2017: 9539,\n",
    "    2018: 13798\n",
    "}\n",
    "\n",
    "domestic_passengers_departures = {\n",
    "    2015: 7300,\n",
    "    2016: 6816,\n",
    "    2017: 9285,\n",
    "    2018: 12982\n",
    "}\n",
    "\n",
    "international_passengers_departures = {\n",
    "    2015: 690962,\n",
    "    2016: 703649,\n",
    "    2017: 757360,\n",
    "    2018: 849034\n",
    "}\n",
    "\n",
    "aviation_passenger_trde = compute_passenger_km(domestic_passengers_arrivals, domestic_passengers_departures, international_passengers_departures)\n",
    "aviation_passenger_trde"
   ]
  },
  {
   "cell_type": "code",
   "execution_count": 13,
   "id": "84ed35bb",
   "metadata": {},
   "outputs": [],
   "source": [
    "base_year = 2019\n",
    "\n",
    "# Get base population and PKMs\n",
    "base_pop = trde_passenger_df.loc[trde_passenger_df['year'] == base_year, 'pop_total'].values[0]\n",
    "base_private_pkms = private_passenger_trde\n",
    "base_public_pkms = public_passenger_trde\n",
    "base_regional_pkms = (\n",
    "    rail_passenger_trde.get(base_year, 0)\n",
    "    + inland_water_passenger_trde.get(base_year, 0)\n",
    "    + aviation_passenger_trde.get(2018, 0)\n",
    ")\n",
    "\n",
    "# Set GDP scaling factor\n",
    "gdp_scaling = trde_passenger_df.loc[trde_passenger_df['year'] == base_year, 'gdp_mmm_usd'].values[0]"
   ]
  },
  {
   "cell_type": "code",
   "execution_count": 14,
   "id": "73a9dbfb",
   "metadata": {},
   "outputs": [],
   "source": [
    "# Scale by pop and gdp\n",
    "trde_passenger_df['deminit_trde_private_and_public_passenger_km'] = (\n",
    "    (base_private_pkms + base_public_pkms)\n",
    "    * (trde_passenger_df['pop_total'] / base_pop)\n",
    "    * (trde_passenger_df['gdp_mmm_usd'] / gdp_scaling)\n",
    ")\n",
    "\n",
    "trde_passenger_df['deminit_trde_regional_passenger_km'] = (\n",
    "    base_regional_pkms\n",
    "    * (trde_passenger_df['pop_total'] / base_pop)\n",
    "    * (trde_passenger_df['gdp_mmm_usd'] / gdp_scaling)\n",
    ")"
   ]
  },
  {
   "cell_type": "code",
   "execution_count": 15,
   "id": "52187d7c",
   "metadata": {},
   "outputs": [
    {
     "data": {
      "text/html": [
       "<div>\n",
       "<style scoped>\n",
       "    .dataframe tbody tr th:only-of-type {\n",
       "        vertical-align: middle;\n",
       "    }\n",
       "\n",
       "    .dataframe tbody tr th {\n",
       "        vertical-align: top;\n",
       "    }\n",
       "\n",
       "    .dataframe thead th {\n",
       "        text-align: right;\n",
       "    }\n",
       "</style>\n",
       "<table border=\"1\" class=\"dataframe\">\n",
       "  <thead>\n",
       "    <tr style=\"text-align: right;\">\n",
       "      <th></th>\n",
       "      <th>year</th>\n",
       "      <th>pop_total</th>\n",
       "      <th>gdp_mmm_usd</th>\n",
       "      <th>deminit_trde_private_and_public_passenger_km</th>\n",
       "      <th>deminit_trde_regional_passenger_km</th>\n",
       "    </tr>\n",
       "  </thead>\n",
       "  <tbody>\n",
       "    <tr>\n",
       "      <th>0</th>\n",
       "      <td>2015</td>\n",
       "      <td>35337912</td>\n",
       "      <td>32.387184</td>\n",
       "      <td>7.935889e+10</td>\n",
       "      <td>1.575631e+09</td>\n",
       "    </tr>\n",
       "    <tr>\n",
       "      <th>1</th>\n",
       "      <td>2016</td>\n",
       "      <td>36531526</td>\n",
       "      <td>33.935615</td>\n",
       "      <td>8.596171e+10</td>\n",
       "      <td>1.706727e+09</td>\n",
       "    </tr>\n",
       "    <tr>\n",
       "      <th>2</th>\n",
       "      <td>2017</td>\n",
       "      <td>37829212</td>\n",
       "      <td>34.998277</td>\n",
       "      <td>9.180270e+10</td>\n",
       "      <td>1.822697e+09</td>\n",
       "    </tr>\n",
       "    <tr>\n",
       "      <th>3</th>\n",
       "      <td>2018</td>\n",
       "      <td>39136507</td>\n",
       "      <td>37.204541</td>\n",
       "      <td>1.009624e+11</td>\n",
       "      <td>2.004558e+09</td>\n",
       "    </tr>\n",
       "    <tr>\n",
       "      <th>4</th>\n",
       "      <td>2019</td>\n",
       "      <td>40486514</td>\n",
       "      <td>39.600047</td>\n",
       "      <td>1.111700e+11</td>\n",
       "      <td>2.207225e+09</td>\n",
       "    </tr>\n",
       "  </tbody>\n",
       "</table>\n",
       "</div>"
      ],
      "text/plain": [
       "   year  pop_total  gdp_mmm_usd  deminit_trde_private_and_public_passenger_km  \\\n",
       "0  2015   35337912    32.387184                                  7.935889e+10   \n",
       "1  2016   36531526    33.935615                                  8.596171e+10   \n",
       "2  2017   37829212    34.998277                                  9.180270e+10   \n",
       "3  2018   39136507    37.204541                                  1.009624e+11   \n",
       "4  2019   40486514    39.600047                                  1.111700e+11   \n",
       "\n",
       "   deminit_trde_regional_passenger_km  \n",
       "0                        1.575631e+09  \n",
       "1                        1.706727e+09  \n",
       "2                        1.822697e+09  \n",
       "3                        2.004558e+09  \n",
       "4                        2.207225e+09  "
      ]
     },
     "execution_count": 15,
     "metadata": {},
     "output_type": "execute_result"
    }
   ],
   "source": [
    "trde_passenger_df.head()"
   ]
  },
  {
   "cell_type": "code",
   "execution_count": 16,
   "id": "a18aab85",
   "metadata": {},
   "outputs": [
    {
     "data": {
      "text/html": [
       "<div>\n",
       "<style scoped>\n",
       "    .dataframe tbody tr th:only-of-type {\n",
       "        vertical-align: middle;\n",
       "    }\n",
       "\n",
       "    .dataframe tbody tr th {\n",
       "        vertical-align: top;\n",
       "    }\n",
       "\n",
       "    .dataframe thead th {\n",
       "        text-align: right;\n",
       "    }\n",
       "</style>\n",
       "<table border=\"1\" class=\"dataframe\">\n",
       "  <thead>\n",
       "    <tr style=\"text-align: right;\">\n",
       "      <th></th>\n",
       "      <th>year</th>\n",
       "      <th>pop_total</th>\n",
       "      <th>gdp_mmm_usd</th>\n",
       "      <th>deminit_trde_private_and_public_passenger_km</th>\n",
       "      <th>deminit_trde_regional_passenger_km</th>\n",
       "    </tr>\n",
       "  </thead>\n",
       "  <tbody>\n",
       "    <tr>\n",
       "      <th>31</th>\n",
       "      <td>2046</td>\n",
       "      <td>67070666</td>\n",
       "      <td>273.741762</td>\n",
       "      <td>1.273079e+12</td>\n",
       "      <td>2.527634e+10</td>\n",
       "    </tr>\n",
       "    <tr>\n",
       "      <th>32</th>\n",
       "      <td>2047</td>\n",
       "      <td>68043520</td>\n",
       "      <td>295.175742</td>\n",
       "      <td>1.392672e+12</td>\n",
       "      <td>2.765082e+10</td>\n",
       "    </tr>\n",
       "    <tr>\n",
       "      <th>33</th>\n",
       "      <td>2048</td>\n",
       "      <td>69004923</td>\n",
       "      <td>318.288002</td>\n",
       "      <td>1.522937e+12</td>\n",
       "      <td>3.023715e+10</td>\n",
       "    </tr>\n",
       "    <tr>\n",
       "      <th>34</th>\n",
       "      <td>2049</td>\n",
       "      <td>69944592</td>\n",
       "      <td>343.209953</td>\n",
       "      <td>1.664545e+12</td>\n",
       "      <td>3.304871e+10</td>\n",
       "    </tr>\n",
       "    <tr>\n",
       "      <th>35</th>\n",
       "      <td>2050</td>\n",
       "      <td>70862987</td>\n",
       "      <td>370.083292</td>\n",
       "      <td>1.818446e+12</td>\n",
       "      <td>3.610435e+10</td>\n",
       "    </tr>\n",
       "  </tbody>\n",
       "</table>\n",
       "</div>"
      ],
      "text/plain": [
       "    year  pop_total  gdp_mmm_usd  \\\n",
       "31  2046   67070666   273.741762   \n",
       "32  2047   68043520   295.175742   \n",
       "33  2048   69004923   318.288002   \n",
       "34  2049   69944592   343.209953   \n",
       "35  2050   70862987   370.083292   \n",
       "\n",
       "    deminit_trde_private_and_public_passenger_km  \\\n",
       "31                                  1.273079e+12   \n",
       "32                                  1.392672e+12   \n",
       "33                                  1.522937e+12   \n",
       "34                                  1.664545e+12   \n",
       "35                                  1.818446e+12   \n",
       "\n",
       "    deminit_trde_regional_passenger_km  \n",
       "31                        2.527634e+10  \n",
       "32                        2.765082e+10  \n",
       "33                        3.023715e+10  \n",
       "34                        3.304871e+10  \n",
       "35                        3.610435e+10  "
      ]
     },
     "execution_count": 16,
     "metadata": {},
     "output_type": "execute_result"
    }
   ],
   "source": [
    "trde_passenger_df.tail()"
   ]
  },
  {
   "cell_type": "code",
   "execution_count": 17,
   "id": "77b6d117",
   "metadata": {},
   "outputs": [
    {
     "data": {
      "text/plain": [
       "<Axes: >"
      ]
     },
     "execution_count": 17,
     "metadata": {},
     "output_type": "execute_result"
    },
    {
     "data": {
      "image/png": "[encoded data removed]",
      "text/plain": [
       "<Figure size 640x480 with 1 Axes>"
      ]
     },
     "metadata": {},
     "output_type": "display_data"
    }
   ],
   "source": [
    "trde_passenger_df.deminit_trde_private_and_public_passenger_km.plot()"
   ]
  },
  {
   "cell_type": "code",
   "execution_count": 18,
   "id": "90806e87",
   "metadata": {},
   "outputs": [
    {
     "data": {
      "text/plain": [
       "<Axes: >"
      ]
     },
     "execution_count": 18,
     "metadata": {},
     "output_type": "execute_result"
    },
    {
     "data": {
      "image/png": "[encoded data removed]",
      "text/plain": [
       "<Figure size 640x480 with 1 Axes>"
      ]
     },
     "metadata": {},
     "output_type": "display_data"
    }
   ],
   "source": [
    "trde_passenger_df.deminit_trde_regional_passenger_km.plot()"
   ]
  },
  {
   "cell_type": "code",
   "execution_count": 19,
   "id": "99c27dfa",
   "metadata": {},
   "outputs": [],
   "source": [
    "trde_passenger_df[\"deminit_trde_private_and_public_per_capita_passenger_km\"] = trde_passenger_df[\"deminit_trde_private_and_public_passenger_km\"] / trde_passenger_df[\"pop_total\"]\n",
    "trde_passenger_df[\"deminit_trde_regional_per_capita_passenger_km\"] = trde_passenger_df[\"deminit_trde_regional_passenger_km\"] / trde_passenger_df[\"pop_total\"]"
   ]
  },
  {
   "cell_type": "code",
   "execution_count": 20,
   "id": "af818d27",
   "metadata": {},
   "outputs": [],
   "source": [
    "# Keep only deminit columns and year columns\n",
    "trde_passenger_df = trde_passenger_df[[\"year\", \"deminit_trde_private_and_public_per_capita_passenger_km\", \n",
    "         \"deminit_trde_regional_per_capita_passenger_km\"]]"
   ]
  },
  {
   "cell_type": "code",
   "execution_count": 21,
   "id": "e565ed4f",
   "metadata": {},
   "outputs": [
    {
     "data": {
      "text/html": [
       "<div>\n",
       "<style scoped>\n",
       "    .dataframe tbody tr th:only-of-type {\n",
       "        vertical-align: middle;\n",
       "    }\n",
       "\n",
       "    .dataframe tbody tr th {\n",
       "        vertical-align: top;\n",
       "    }\n",
       "\n",
       "    .dataframe thead th {\n",
       "        text-align: right;\n",
       "    }\n",
       "</style>\n",
       "<table border=\"1\" class=\"dataframe\">\n",
       "  <thead>\n",
       "    <tr style=\"text-align: right;\">\n",
       "      <th></th>\n",
       "      <th>year</th>\n",
       "      <th>deminit_trde_private_and_public_per_capita_passenger_km</th>\n",
       "      <th>deminit_trde_regional_per_capita_passenger_km</th>\n",
       "    </tr>\n",
       "  </thead>\n",
       "  <tbody>\n",
       "    <tr>\n",
       "      <th>0</th>\n",
       "      <td>2015</td>\n",
       "      <td>2245.715333</td>\n",
       "      <td>44.587563</td>\n",
       "    </tr>\n",
       "    <tr>\n",
       "      <th>1</th>\n",
       "      <td>2016</td>\n",
       "      <td>2353.082989</td>\n",
       "      <td>46.719295</td>\n",
       "    </tr>\n",
       "    <tr>\n",
       "      <th>2</th>\n",
       "      <td>2017</td>\n",
       "      <td>2426.767560</td>\n",
       "      <td>48.182265</td>\n",
       "    </tr>\n",
       "    <tr>\n",
       "      <th>3</th>\n",
       "      <td>2018</td>\n",
       "      <td>2579.749137</td>\n",
       "      <td>51.219639</td>\n",
       "    </tr>\n",
       "    <tr>\n",
       "      <th>4</th>\n",
       "      <td>2019</td>\n",
       "      <td>2745.852607</td>\n",
       "      <td>54.517541</td>\n",
       "    </tr>\n",
       "  </tbody>\n",
       "</table>\n",
       "</div>"
      ],
      "text/plain": [
       "   year  deminit_trde_private_and_public_per_capita_passenger_km  \\\n",
       "0  2015                                        2245.715333         \n",
       "1  2016                                        2353.082989         \n",
       "2  2017                                        2426.767560         \n",
       "3  2018                                        2579.749137         \n",
       "4  2019                                        2745.852607         \n",
       "\n",
       "   deminit_trde_regional_per_capita_passenger_km  \n",
       "0                                      44.587563  \n",
       "1                                      46.719295  \n",
       "2                                      48.182265  \n",
       "3                                      51.219639  \n",
       "4                                      54.517541  "
      ]
     },
     "execution_count": 21,
     "metadata": {},
     "output_type": "execute_result"
    }
   ],
   "source": [
    "trde_passenger_df.head()"
   ]
  },
  {
   "cell_type": "code",
   "execution_count": 22,
   "id": "38c87786",
   "metadata": {},
   "outputs": [
    {
     "data": {
      "text/html": [
       "<div>\n",
       "<style scoped>\n",
       "    .dataframe tbody tr th:only-of-type {\n",
       "        vertical-align: middle;\n",
       "    }\n",
       "\n",
       "    .dataframe tbody tr th {\n",
       "        vertical-align: top;\n",
       "    }\n",
       "\n",
       "    .dataframe thead th {\n",
       "        text-align: right;\n",
       "    }\n",
       "</style>\n",
       "<table border=\"1\" class=\"dataframe\">\n",
       "  <thead>\n",
       "    <tr style=\"text-align: right;\">\n",
       "      <th></th>\n",
       "      <th>year</th>\n",
       "      <th>deminit_trde_private_and_public_per_capita_passenger_km</th>\n",
       "      <th>deminit_trde_regional_per_capita_passenger_km</th>\n",
       "    </tr>\n",
       "  </thead>\n",
       "  <tbody>\n",
       "    <tr>\n",
       "      <th>31</th>\n",
       "      <td>2046</td>\n",
       "      <td>18981.152447</td>\n",
       "      <td>376.861360</td>\n",
       "    </tr>\n",
       "    <tr>\n",
       "      <th>32</th>\n",
       "      <td>2047</td>\n",
       "      <td>20467.376684</td>\n",
       "      <td>406.369604</td>\n",
       "    </tr>\n",
       "    <tr>\n",
       "      <th>33</th>\n",
       "      <td>2048</td>\n",
       "      <td>22069.972278</td>\n",
       "      <td>438.188344</td>\n",
       "    </tr>\n",
       "    <tr>\n",
       "      <th>34</th>\n",
       "      <td>2049</td>\n",
       "      <td>23798.051107</td>\n",
       "      <td>472.498492</td>\n",
       "    </tr>\n",
       "    <tr>\n",
       "      <th>35</th>\n",
       "      <td>2050</td>\n",
       "      <td>25661.438509</td>\n",
       "      <td>509.495124</td>\n",
       "    </tr>\n",
       "  </tbody>\n",
       "</table>\n",
       "</div>"
      ],
      "text/plain": [
       "    year  deminit_trde_private_and_public_per_capita_passenger_km  \\\n",
       "31  2046                                       18981.152447         \n",
       "32  2047                                       20467.376684         \n",
       "33  2048                                       22069.972278         \n",
       "34  2049                                       23798.051107         \n",
       "35  2050                                       25661.438509         \n",
       "\n",
       "    deminit_trde_regional_per_capita_passenger_km  \n",
       "31                                     376.861360  \n",
       "32                                     406.369604  \n",
       "33                                     438.188344  \n",
       "34                                     472.498492  \n",
       "35                                     509.495124  "
      ]
     },
     "execution_count": 22,
     "metadata": {},
     "output_type": "execute_result"
    }
   ],
   "source": [
    "trde_passenger_df.tail()"
   ]
  },
  {
   "cell_type": "markdown",
   "id": "06e9c8ed",
   "metadata": {},
   "source": [
    "## Validation"
   ]
  },
  {
   "cell_type": "code",
   "execution_count": 23,
   "id": "e612cf99",
   "metadata": {},
   "outputs": [
    {
     "data": {
      "text/html": [
       "<div>\n",
       "<style scoped>\n",
       "    .dataframe tbody tr th:only-of-type {\n",
       "        vertical-align: middle;\n",
       "    }\n",
       "\n",
       "    .dataframe tbody tr th {\n",
       "        vertical-align: top;\n",
       "    }\n",
       "\n",
       "    .dataframe thead th {\n",
       "        text-align: right;\n",
       "    }\n",
       "</style>\n",
       "<table border=\"1\" class=\"dataframe\">\n",
       "  <thead>\n",
       "    <tr style=\"text-align: right;\">\n",
       "      <th></th>\n",
       "      <th>deminit_trde_private_and_public_per_capita_passenger_km</th>\n",
       "      <th>deminit_trde_regional_per_capita_passenger_km</th>\n",
       "    </tr>\n",
       "  </thead>\n",
       "  <tbody>\n",
       "    <tr>\n",
       "      <th>0</th>\n",
       "      <td>90.416780</td>\n",
       "      <td>13.224175</td>\n",
       "    </tr>\n",
       "    <tr>\n",
       "      <th>1</th>\n",
       "      <td>90.835038</td>\n",
       "      <td>13.124486</td>\n",
       "    </tr>\n",
       "    <tr>\n",
       "      <th>2</th>\n",
       "      <td>90.835038</td>\n",
       "      <td>13.124486</td>\n",
       "    </tr>\n",
       "    <tr>\n",
       "      <th>3</th>\n",
       "      <td>90.835038</td>\n",
       "      <td>13.124486</td>\n",
       "    </tr>\n",
       "    <tr>\n",
       "      <th>4</th>\n",
       "      <td>90.835038</td>\n",
       "      <td>13.124486</td>\n",
       "    </tr>\n",
       "  </tbody>\n",
       "</table>\n",
       "</div>"
      ],
      "text/plain": [
       "   deminit_trde_private_and_public_per_capita_passenger_km  \\\n",
       "0                                          90.416780         \n",
       "1                                          90.835038         \n",
       "2                                          90.835038         \n",
       "3                                          90.835038         \n",
       "4                                          90.835038         \n",
       "\n",
       "   deminit_trde_regional_per_capita_passenger_km  \n",
       "0                                      13.224175  \n",
       "1                                      13.124486  \n",
       "2                                      13.124486  \n",
       "3                                      13.124486  \n",
       "4                                      13.124486  "
      ]
     },
     "execution_count": 23,
     "metadata": {},
     "output_type": "execute_result"
    }
   ],
   "source": [
    "og_df = pd.read_csv(os.path.join(INPUT_DATA_DIR_PATH, \"sisepuede_raw_global_inputs_uganda.csv\"))\n",
    "og_df = og_df[[\"deminit_trde_private_and_public_per_capita_passenger_km\", \n",
    "         \"deminit_trde_regional_per_capita_passenger_km\"]]\n",
    "og_df.head()"
   ]
  },
  {
   "cell_type": "code",
   "execution_count": 24,
   "id": "da749b5f",
   "metadata": {},
   "outputs": [
    {
     "data": {
      "text/plain": [
       "<Axes: >"
      ]
     },
     "execution_count": 24,
     "metadata": {},
     "output_type": "execute_result"
    },
    {
     "data": {
      "image/png": "[encoded data removed]",
      "text/plain": [
       "<Figure size 640x480 with 1 Axes>"
      ]
     },
     "metadata": {},
     "output_type": "display_data"
    }
   ],
   "source": [
    "pop_df[\"pop_total\"].plot()"
   ]
  },
  {
   "cell_type": "code",
   "execution_count": 25,
   "id": "3c654604",
   "metadata": {},
   "outputs": [
    {
     "data": {
      "image/png": "[encoded data removed]",
      "text/plain": [
       "<Figure size 1200x500 with 2 Axes>"
      ]
     },
     "metadata": {},
     "output_type": "display_data"
    }
   ],
   "source": [
    "edau.compare_variables(trde_passenger_df,\n",
    "                       og_df,\n",
    "                       [\"deminit_trde_private_and_public_per_capita_passenger_km\",\n",
    "                        \"deminit_trde_regional_per_capita_passenger_km\"]\n",
    "                        )"
   ]
  },
  {
   "cell_type": "code",
   "execution_count": 26,
   "id": "69965aa6",
   "metadata": {},
   "outputs": [],
   "source": [
    "trde_passenger_df.to_csv(os.path.join(OUTPUT_DATA_DIR_PATH, \"deminit_trde_per_capita_passenger_km.csv\"), index=False)"
   ]
  }
 ],
 "metadata": {
  "kernelspec": {
   "display_name": "uganda_data_env",
   "language": "python",
   "name": "python3"
  },
  "language_info": {
   "codemirror_mode": {
    "name": "ipython",
    "version": 3
   },
   "file_extension": ".py",
   "mimetype": "text/x-python",
   "name": "python",
   "nbconvert_exporter": "python",
   "pygments_lexer": "ipython3",
   "version": "3.11.13"
  }
 },
 "nbformat": 4,
 "nbformat_minor": 5
}
