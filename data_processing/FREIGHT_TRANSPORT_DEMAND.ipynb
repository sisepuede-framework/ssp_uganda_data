{
 "cells": [
  {
   "cell_type": "markdown",
   "id": "30eacf30",
   "metadata": {},
   "source": [
    "## Source\n",
    "\n",
    "**Analysis and Scenario Development in Uganda’s Transport Sector**\n",
    "\n",
    "* Road: Table 4-4, page 44\n",
    "* Rail: Table 5-1, page 47\n",
    "* Water: Table 6-2, page 52\n",
    "* Aviation: Table 7-1, page 55\n",
    "\n",
    "### Aviation Freight Estimation\n",
    "\n",
    "Total freight activity in million tonne-kilometers (mtkm) for aviation is estimated by combining domestic cargo and international exports, each multiplied by a representative average distance:\n",
    "\n",
    "* **300 km** for domestic cargo\n",
    "* **2,500 km** for international exports\n",
    "\n",
    "The resulting tonne-kilometers are summed and converted to **million tonne-kilometers** on a yearly basis.\n",
    "\n",
    "### Assumptions\n",
    "\n",
    "* **Fixed average distances** are applied uniformly across all years, reflecting typical domestic and international flight lengths.\n",
    "* **Domestic and international cargo are treated separately** and assumed not to overlap.\n",
    "* **Years with missing cargo data are assumed to have zero activity** for that segment.\n"
   ]
  },
  {
   "cell_type": "code",
   "execution_count": 1,
   "id": "99dccbe4",
   "metadata": {},
   "outputs": [],
   "source": [
    "import numpy as np\n",
    "import pandas as pd\n",
    "import os\n",
    "from utils.utils import EDAUtils, TransportUtils, GeneralUtils"
   ]
  },
  {
   "cell_type": "code",
   "execution_count": 2,
   "id": "d3d41b58",
   "metadata": {},
   "outputs": [],
   "source": [
    "%load_ext autoreload\n",
    "%autoreload 2"
   ]
  },
  {
   "cell_type": "code",
   "execution_count": 3,
   "id": "50fb22eb",
   "metadata": {},
   "outputs": [],
   "source": [
    "edau = EDAUtils()\n",
    "tu = TransportUtils()\n",
    "gu = GeneralUtils()"
   ]
  },
  {
   "cell_type": "code",
   "execution_count": 4,
   "id": "ef5a17ce",
   "metadata": {},
   "outputs": [],
   "source": [
    "# Set up paths\n",
    "CURRENT_DIR_PATH = os.getcwd()\n",
    "OUTPUT_DATA_DIR_PATH = os.path.join(CURRENT_DIR_PATH, \"output_data\")\n",
    "INPUT_DATA_DIR_PATH = os.path.join(CURRENT_DIR_PATH, \"input_data\")"
   ]
  },
  {
   "cell_type": "code",
   "execution_count": 6,
   "id": "15660b91",
   "metadata": {},
   "outputs": [
    {
     "data": {
      "text/html": [
       "<div>\n",
       "<style scoped>\n",
       "    .dataframe tbody tr th:only-of-type {\n",
       "        vertical-align: middle;\n",
       "    }\n",
       "\n",
       "    .dataframe tbody tr th {\n",
       "        vertical-align: top;\n",
       "    }\n",
       "\n",
       "    .dataframe thead th {\n",
       "        text-align: right;\n",
       "    }\n",
       "</style>\n",
       "<table border=\"1\" class=\"dataframe\">\n",
       "  <thead>\n",
       "    <tr style=\"text-align: right;\">\n",
       "      <th></th>\n",
       "      <th>year</th>\n",
       "      <th>gdp_mmm_usd</th>\n",
       "    </tr>\n",
       "  </thead>\n",
       "  <tbody>\n",
       "    <tr>\n",
       "      <th>0</th>\n",
       "      <td>2015</td>\n",
       "      <td>79.03</td>\n",
       "    </tr>\n",
       "    <tr>\n",
       "      <th>1</th>\n",
       "      <td>2016</td>\n",
       "      <td>82.81</td>\n",
       "    </tr>\n",
       "    <tr>\n",
       "      <th>2</th>\n",
       "      <td>2017</td>\n",
       "      <td>85.41</td>\n",
       "    </tr>\n",
       "    <tr>\n",
       "      <th>3</th>\n",
       "      <td>2018</td>\n",
       "      <td>90.79</td>\n",
       "    </tr>\n",
       "    <tr>\n",
       "      <th>4</th>\n",
       "      <td>2019</td>\n",
       "      <td>96.64</td>\n",
       "    </tr>\n",
       "  </tbody>\n",
       "</table>\n",
       "</div>"
      ],
      "text/plain": [
       "   year  gdp_mmm_usd\n",
       "0  2015        79.03\n",
       "1  2016        82.81\n",
       "2  2017        85.41\n",
       "3  2018        90.79\n",
       "4  2019        96.64"
      ]
     },
     "execution_count": 6,
     "metadata": {},
     "output_type": "execute_result"
    }
   ],
   "source": [
    "# Load gdp data\n",
    "trde_freight_df = pd.read_csv(os.path.join(OUTPUT_DATA_DIR_PATH, \"GDP.csv\"))\n",
    "# Filter to 2015 and onwards\n",
    "trde_freight_df = trde_freight_df[trde_freight_df['year'] >= 2015].reset_index(drop=True)\n",
    "\n",
    "\n",
    "trde_freight_df.head()"
   ]
  },
  {
   "cell_type": "code",
   "execution_count": 7,
   "id": "dd954968",
   "metadata": {},
   "outputs": [
    {
     "data": {
      "text/html": [
       "<div>\n",
       "<style scoped>\n",
       "    .dataframe tbody tr th:only-of-type {\n",
       "        vertical-align: middle;\n",
       "    }\n",
       "\n",
       "    .dataframe tbody tr th {\n",
       "        vertical-align: top;\n",
       "    }\n",
       "\n",
       "    .dataframe thead th {\n",
       "        text-align: right;\n",
       "    }\n",
       "</style>\n",
       "<table border=\"1\" class=\"dataframe\">\n",
       "  <thead>\n",
       "    <tr style=\"text-align: right;\">\n",
       "      <th></th>\n",
       "      <th>year</th>\n",
       "      <th>gdp_mmm_usd</th>\n",
       "    </tr>\n",
       "  </thead>\n",
       "  <tbody>\n",
       "    <tr>\n",
       "      <th>81</th>\n",
       "      <td>2096</td>\n",
       "      <td>1683.328131</td>\n",
       "    </tr>\n",
       "    <tr>\n",
       "      <th>82</th>\n",
       "      <td>2097</td>\n",
       "      <td>1716.994694</td>\n",
       "    </tr>\n",
       "    <tr>\n",
       "      <th>83</th>\n",
       "      <td>2098</td>\n",
       "      <td>1751.334588</td>\n",
       "    </tr>\n",
       "    <tr>\n",
       "      <th>84</th>\n",
       "      <td>2099</td>\n",
       "      <td>1786.361280</td>\n",
       "    </tr>\n",
       "    <tr>\n",
       "      <th>85</th>\n",
       "      <td>2100</td>\n",
       "      <td>1822.088505</td>\n",
       "    </tr>\n",
       "  </tbody>\n",
       "</table>\n",
       "</div>"
      ],
      "text/plain": [
       "    year  gdp_mmm_usd\n",
       "81  2096  1683.328131\n",
       "82  2097  1716.994694\n",
       "83  2098  1751.334588\n",
       "84  2099  1786.361280\n",
       "85  2100  1822.088505"
      ]
     },
     "execution_count": 7,
     "metadata": {},
     "output_type": "execute_result"
    }
   ],
   "source": [
    "trde_freight_df.tail()"
   ]
  },
  {
   "cell_type": "code",
   "execution_count": 8,
   "id": "6dba1360",
   "metadata": {},
   "outputs": [
    {
     "data": {
      "text/plain": [
       "{2009: 0.0024,\n",
       " 2010: 0.000174,\n",
       " 2012: 0.000285,\n",
       " 2013: 0.00037949999999999995,\n",
       " 2014: 0.00037949999999999995,\n",
       " 2015: 81.6503795,\n",
       " 2016: 98.44037949999999,\n",
       " 2017: 119.2803795,\n",
       " 2018: 104.1678795,\n",
       " 2019: 104.1678795}"
      ]
     },
     "execution_count": 8,
     "metadata": {},
     "output_type": "execute_result"
    }
   ],
   "source": [
    "# raw inputs\n",
    "road_freight_trde = 45.1e9 / 1_000_000 # mtkm 2019 data\n",
    "rail_freight_trde = {\n",
    "    2015: 166.17e6 / 1_000_000,  # mtkm\n",
    "    2016: 125.6e6 / 1_000_000,\n",
    "    2017: 70.05e6 / 1_000_000,\n",
    "    2018: -87.28e6 / 1_000_000,\n",
    "    2019: 77.54e6 / 1_000_000,\n",
    "    2020: 98.7e6 / 1_000_000,\n",
    "}\n",
    "\n",
    "inland_water_freight_trde = 6571e6 / 1_000_000  # mtkm 2019 data\n",
    "\n",
    "\n",
    "# raw inputs\n",
    "international_cargo_exports = {\n",
    "    2015: 32660,\n",
    "    2016: 39376,\n",
    "    2017: 47712,\n",
    "    2018: 41667,\n",
    "    2019: 41667 # NOTE: 2019 data is not available, using 2018 value\n",
    "} # in tonnes\n",
    "\n",
    "# NOTE: We assume that the domestic cargo is the same from 2013 to 2019 \n",
    "# as the data is not available for these years.\n",
    "domestic_cargo = {\n",
    "    2009: 8.0,\n",
    "    2010: 0.580, \n",
    "    2012: 0.950,\n",
    "    2013: 1.265, \n",
    "    2014: 1.265, \n",
    "    2015: 1.265, \n",
    "    2016: 1.265, \n",
    "    2017: 1.265, \n",
    "    2018: 1.265, \n",
    "    2019: 1.265 \n",
    "} # in tonnes\n",
    "\n",
    "\n",
    "aviation_freight_trde = tu.compute_freight_mtkm(domestic_cargo, international_cargo_exports)\n",
    "aviation_freight_trde\n"
   ]
  },
  {
   "cell_type": "code",
   "execution_count": 9,
   "id": "84ed35bb",
   "metadata": {},
   "outputs": [],
   "source": [
    "base_year = 2019\n",
    "\n",
    "base_road_freight_mtkm = road_freight_trde\n",
    "base_rail_freight_mtkm = rail_freight_trde.get(base_year, 0)\n",
    "base_inland_water_freight_mtkm = inland_water_freight_trde\n",
    "base_aviation_freight_mtkm = aviation_freight_trde.get(base_year, 0)\n",
    "\n",
    "base_freight_mtkm = (\n",
    "    base_road_freight_mtkm\n",
    "    + base_rail_freight_mtkm\n",
    "    + base_inland_water_freight_mtkm\n",
    "    + base_aviation_freight_mtkm\n",
    ")\n",
    "\n",
    "# Set GDP scaling factor\n",
    "gdp_scaling = trde_freight_df.loc[trde_freight_df['year'] == base_year, 'gdp_mmm_usd'].values[0]"
   ]
  },
  {
   "cell_type": "code",
   "execution_count": 10,
   "id": "476b1aa9",
   "metadata": {},
   "outputs": [
    {
     "data": {
      "text/html": [
       "<div>\n",
       "<style scoped>\n",
       "    .dataframe tbody tr th:only-of-type {\n",
       "        vertical-align: middle;\n",
       "    }\n",
       "\n",
       "    .dataframe tbody tr th {\n",
       "        vertical-align: top;\n",
       "    }\n",
       "\n",
       "    .dataframe thead th {\n",
       "        text-align: right;\n",
       "    }\n",
       "</style>\n",
       "<table border=\"1\" class=\"dataframe\">\n",
       "  <thead>\n",
       "    <tr style=\"text-align: right;\">\n",
       "      <th></th>\n",
       "      <th>year</th>\n",
       "      <th>gdp_mmm_usd</th>\n",
       "    </tr>\n",
       "  </thead>\n",
       "  <tbody>\n",
       "    <tr>\n",
       "      <th>0</th>\n",
       "      <td>2015</td>\n",
       "      <td>79.03</td>\n",
       "    </tr>\n",
       "    <tr>\n",
       "      <th>1</th>\n",
       "      <td>2016</td>\n",
       "      <td>82.81</td>\n",
       "    </tr>\n",
       "    <tr>\n",
       "      <th>2</th>\n",
       "      <td>2017</td>\n",
       "      <td>85.41</td>\n",
       "    </tr>\n",
       "    <tr>\n",
       "      <th>3</th>\n",
       "      <td>2018</td>\n",
       "      <td>90.79</td>\n",
       "    </tr>\n",
       "    <tr>\n",
       "      <th>4</th>\n",
       "      <td>2019</td>\n",
       "      <td>96.64</td>\n",
       "    </tr>\n",
       "  </tbody>\n",
       "</table>\n",
       "</div>"
      ],
      "text/plain": [
       "   year  gdp_mmm_usd\n",
       "0  2015        79.03\n",
       "1  2016        82.81\n",
       "2  2017        85.41\n",
       "3  2018        90.79\n",
       "4  2019        96.64"
      ]
     },
     "execution_count": 10,
     "metadata": {},
     "output_type": "execute_result"
    }
   ],
   "source": [
    "# Filter the trde_freight_df to only include <= base_year\n",
    "trde_freight_df = trde_freight_df[trde_freight_df['year'] <= base_year].reset_index(drop=True)\n",
    "trde_freight_df"
   ]
  },
  {
   "cell_type": "code",
   "execution_count": 11,
   "id": "73a9dbfb",
   "metadata": {},
   "outputs": [],
   "source": [
    "# Scale by gdp\n",
    "trde_freight_df['deminit_trde_freight_mt_km'] = (\n",
    "    (base_freight_mtkm)\n",
    "    * (trde_freight_df['gdp_mmm_usd'] / gdp_scaling)\n",
    ")"
   ]
  },
  {
   "cell_type": "code",
   "execution_count": 12,
   "id": "52187d7c",
   "metadata": {},
   "outputs": [
    {
     "data": {
      "text/html": [
       "<div>\n",
       "<style scoped>\n",
       "    .dataframe tbody tr th:only-of-type {\n",
       "        vertical-align: middle;\n",
       "    }\n",
       "\n",
       "    .dataframe tbody tr th {\n",
       "        vertical-align: top;\n",
       "    }\n",
       "\n",
       "    .dataframe thead th {\n",
       "        text-align: right;\n",
       "    }\n",
       "</style>\n",
       "<table border=\"1\" class=\"dataframe\">\n",
       "  <thead>\n",
       "    <tr style=\"text-align: right;\">\n",
       "      <th></th>\n",
       "      <th>year</th>\n",
       "      <th>gdp_mmm_usd</th>\n",
       "      <th>deminit_trde_freight_mt_km</th>\n",
       "    </tr>\n",
       "  </thead>\n",
       "  <tbody>\n",
       "    <tr>\n",
       "      <th>0</th>\n",
       "      <td>2015</td>\n",
       "      <td>79.03</td>\n",
       "      <td>42403.968375</td>\n",
       "    </tr>\n",
       "    <tr>\n",
       "      <th>1</th>\n",
       "      <td>2016</td>\n",
       "      <td>82.81</td>\n",
       "      <td>44432.147553</td>\n",
       "    </tr>\n",
       "    <tr>\n",
       "      <th>2</th>\n",
       "      <td>2017</td>\n",
       "      <td>85.41</td>\n",
       "      <td>45827.191432</td>\n",
       "    </tr>\n",
       "    <tr>\n",
       "      <th>3</th>\n",
       "      <td>2018</td>\n",
       "      <td>90.79</td>\n",
       "      <td>48713.859151</td>\n",
       "    </tr>\n",
       "    <tr>\n",
       "      <th>4</th>\n",
       "      <td>2019</td>\n",
       "      <td>96.64</td>\n",
       "      <td>51852.707879</td>\n",
       "    </tr>\n",
       "  </tbody>\n",
       "</table>\n",
       "</div>"
      ],
      "text/plain": [
       "   year  gdp_mmm_usd  deminit_trde_freight_mt_km\n",
       "0  2015        79.03                42403.968375\n",
       "1  2016        82.81                44432.147553\n",
       "2  2017        85.41                45827.191432\n",
       "3  2018        90.79                48713.859151\n",
       "4  2019        96.64                51852.707879"
      ]
     },
     "execution_count": 12,
     "metadata": {},
     "output_type": "execute_result"
    }
   ],
   "source": [
    "trde_freight_df.head()"
   ]
  },
  {
   "cell_type": "code",
   "execution_count": 13,
   "id": "77b6d117",
   "metadata": {},
   "outputs": [
    {
     "data": {
      "text/plain": [
       "<Axes: >"
      ]
     },
     "execution_count": 13,
     "metadata": {},
     "output_type": "execute_result"
    },
    {
     "data": {
      "image/png": "[encoded data removed]",
      "text/plain": [
       "<Figure size 640x480 with 1 Axes>"
      ]
     },
     "metadata": {},
     "output_type": "display_data"
    }
   ],
   "source": [
    "trde_freight_df.deminit_trde_freight_mt_km.plot()"
   ]
  },
  {
   "cell_type": "code",
   "execution_count": 14,
   "id": "e565ed4f",
   "metadata": {},
   "outputs": [
    {
     "data": {
      "text/html": [
       "<div>\n",
       "<style scoped>\n",
       "    .dataframe tbody tr th:only-of-type {\n",
       "        vertical-align: middle;\n",
       "    }\n",
       "\n",
       "    .dataframe tbody tr th {\n",
       "        vertical-align: top;\n",
       "    }\n",
       "\n",
       "    .dataframe thead th {\n",
       "        text-align: right;\n",
       "    }\n",
       "</style>\n",
       "<table border=\"1\" class=\"dataframe\">\n",
       "  <thead>\n",
       "    <tr style=\"text-align: right;\">\n",
       "      <th></th>\n",
       "      <th>year</th>\n",
       "      <th>deminit_trde_freight_mt_km</th>\n",
       "    </tr>\n",
       "  </thead>\n",
       "  <tbody>\n",
       "    <tr>\n",
       "      <th>0</th>\n",
       "      <td>2015</td>\n",
       "      <td>42403.968375</td>\n",
       "    </tr>\n",
       "    <tr>\n",
       "      <th>1</th>\n",
       "      <td>2016</td>\n",
       "      <td>44432.147553</td>\n",
       "    </tr>\n",
       "    <tr>\n",
       "      <th>2</th>\n",
       "      <td>2017</td>\n",
       "      <td>45827.191432</td>\n",
       "    </tr>\n",
       "    <tr>\n",
       "      <th>3</th>\n",
       "      <td>2018</td>\n",
       "      <td>48713.859151</td>\n",
       "    </tr>\n",
       "    <tr>\n",
       "      <th>4</th>\n",
       "      <td>2019</td>\n",
       "      <td>51852.707879</td>\n",
       "    </tr>\n",
       "  </tbody>\n",
       "</table>\n",
       "</div>"
      ],
      "text/plain": [
       "   year  deminit_trde_freight_mt_km\n",
       "0  2015                42403.968375\n",
       "1  2016                44432.147553\n",
       "2  2017                45827.191432\n",
       "3  2018                48713.859151\n",
       "4  2019                51852.707879"
      ]
     },
     "execution_count": 14,
     "metadata": {},
     "output_type": "execute_result"
    }
   ],
   "source": [
    "# Drop gdp column as it is no longer needed\n",
    "trde_freight_df.drop(columns=['gdp_mmm_usd'], inplace=True)\n",
    "trde_freight_df.head()"
   ]
  },
  {
   "cell_type": "code",
   "execution_count": 15,
   "id": "f4d18ebb",
   "metadata": {},
   "outputs": [
    {
     "data": {
      "text/html": [
       "<div>\n",
       "<style scoped>\n",
       "    .dataframe tbody tr th:only-of-type {\n",
       "        vertical-align: middle;\n",
       "    }\n",
       "\n",
       "    .dataframe tbody tr th {\n",
       "        vertical-align: top;\n",
       "    }\n",
       "\n",
       "    .dataframe thead th {\n",
       "        text-align: right;\n",
       "    }\n",
       "</style>\n",
       "<table border=\"1\" class=\"dataframe\">\n",
       "  <thead>\n",
       "    <tr style=\"text-align: right;\">\n",
       "      <th></th>\n",
       "      <th>year</th>\n",
       "      <th>deminit_trde_freight_mt_km</th>\n",
       "    </tr>\n",
       "  </thead>\n",
       "  <tbody>\n",
       "    <tr>\n",
       "      <th>0</th>\n",
       "      <td>2015</td>\n",
       "      <td>42403.968375</td>\n",
       "    </tr>\n",
       "    <tr>\n",
       "      <th>1</th>\n",
       "      <td>2016</td>\n",
       "      <td>44432.147553</td>\n",
       "    </tr>\n",
       "    <tr>\n",
       "      <th>2</th>\n",
       "      <td>2017</td>\n",
       "      <td>45827.191432</td>\n",
       "    </tr>\n",
       "    <tr>\n",
       "      <th>3</th>\n",
       "      <td>2018</td>\n",
       "      <td>48713.859151</td>\n",
       "    </tr>\n",
       "    <tr>\n",
       "      <th>4</th>\n",
       "      <td>2019</td>\n",
       "      <td>51852.707879</td>\n",
       "    </tr>\n",
       "    <tr>\n",
       "      <th>...</th>\n",
       "      <td>...</td>\n",
       "      <td>...</td>\n",
       "    </tr>\n",
       "    <tr>\n",
       "      <th>81</th>\n",
       "      <td>2096</td>\n",
       "      <td>51852.707879</td>\n",
       "    </tr>\n",
       "    <tr>\n",
       "      <th>82</th>\n",
       "      <td>2097</td>\n",
       "      <td>51852.707879</td>\n",
       "    </tr>\n",
       "    <tr>\n",
       "      <th>83</th>\n",
       "      <td>2098</td>\n",
       "      <td>51852.707879</td>\n",
       "    </tr>\n",
       "    <tr>\n",
       "      <th>84</th>\n",
       "      <td>2099</td>\n",
       "      <td>51852.707879</td>\n",
       "    </tr>\n",
       "    <tr>\n",
       "      <th>85</th>\n",
       "      <td>2100</td>\n",
       "      <td>51852.707879</td>\n",
       "    </tr>\n",
       "  </tbody>\n",
       "</table>\n",
       "<p>86 rows × 2 columns</p>\n",
       "</div>"
      ],
      "text/plain": [
       "    year  deminit_trde_freight_mt_km\n",
       "0   2015                42403.968375\n",
       "1   2016                44432.147553\n",
       "2   2017                45827.191432\n",
       "3   2018                48713.859151\n",
       "4   2019                51852.707879\n",
       "..   ...                         ...\n",
       "81  2096                51852.707879\n",
       "82  2097                51852.707879\n",
       "83  2098                51852.707879\n",
       "84  2099                51852.707879\n",
       "85  2100                51852.707879\n",
       "\n",
       "[86 rows x 2 columns]"
      ]
     },
     "execution_count": 15,
     "metadata": {},
     "output_type": "execute_result"
    }
   ],
   "source": [
    "# project to 2100\n",
    "trde_freight_df_extended = gu.extend_projection(trde_freight_df, base_year + 1, 2100)\n",
    "trde_freight_df_extended\n"
   ]
  },
  {
   "cell_type": "markdown",
   "id": "06e9c8ed",
   "metadata": {},
   "source": [
    "## Validation"
   ]
  },
  {
   "cell_type": "code",
   "execution_count": 16,
   "id": "72c30550",
   "metadata": {},
   "outputs": [
    {
     "name": "stdout",
     "output_type": "stream",
     "text": [
      "No duplicated years found in the DataFrame.\n",
      "No duplicated rows found in the DataFrame.\n"
     ]
    }
   ],
   "source": [
    "# Check for duplicates\n",
    "gu.check_duplicates(trde_freight_df_extended)"
   ]
  },
  {
   "cell_type": "code",
   "execution_count": 17,
   "id": "e612cf99",
   "metadata": {},
   "outputs": [
    {
     "data": {
      "text/html": [
       "<div>\n",
       "<style scoped>\n",
       "    .dataframe tbody tr th:only-of-type {\n",
       "        vertical-align: middle;\n",
       "    }\n",
       "\n",
       "    .dataframe tbody tr th {\n",
       "        vertical-align: top;\n",
       "    }\n",
       "\n",
       "    .dataframe thead th {\n",
       "        text-align: right;\n",
       "    }\n",
       "</style>\n",
       "<table border=\"1\" class=\"dataframe\">\n",
       "  <thead>\n",
       "    <tr style=\"text-align: right;\">\n",
       "      <th></th>\n",
       "      <th>deminit_trde_freight_mt_km</th>\n",
       "    </tr>\n",
       "  </thead>\n",
       "  <tbody>\n",
       "    <tr>\n",
       "      <th>0</th>\n",
       "      <td>77043.00876</td>\n",
       "    </tr>\n",
       "    <tr>\n",
       "      <th>1</th>\n",
       "      <td>76763.27285</td>\n",
       "    </tr>\n",
       "    <tr>\n",
       "      <th>2</th>\n",
       "      <td>76374.47397</td>\n",
       "    </tr>\n",
       "    <tr>\n",
       "      <th>3</th>\n",
       "      <td>75903.71869</td>\n",
       "    </tr>\n",
       "    <tr>\n",
       "      <th>4</th>\n",
       "      <td>75388.09546</td>\n",
       "    </tr>\n",
       "  </tbody>\n",
       "</table>\n",
       "</div>"
      ],
      "text/plain": [
       "   deminit_trde_freight_mt_km\n",
       "0                 77043.00876\n",
       "1                 76763.27285\n",
       "2                 76374.47397\n",
       "3                 75903.71869\n",
       "4                 75388.09546"
      ]
     },
     "execution_count": 17,
     "metadata": {},
     "output_type": "execute_result"
    }
   ],
   "source": [
    "og_df = pd.read_csv(os.path.join(INPUT_DATA_DIR_PATH, \"sisepuede_raw_global_inputs_uganda.csv\"))\n",
    "og_df = og_df[[\"deminit_trde_freight_mt_km\"]]\n",
    "og_df.head()"
   ]
  },
  {
   "cell_type": "code",
   "execution_count": 18,
   "id": "3c654604",
   "metadata": {},
   "outputs": [
    {
     "data": {
      "image/png": "[encoded data removed]",
      "text/plain": [
       "<Figure size 600x500 with 1 Axes>"
      ]
     },
     "metadata": {},
     "output_type": "display_data"
    }
   ],
   "source": [
    "edau.compare_variables(trde_freight_df_extended,\n",
    "                       og_df,\n",
    "                       [\"deminit_trde_freight_mt_km\"]\n",
    "                        )"
   ]
  },
  {
   "cell_type": "code",
   "execution_count": 19,
   "id": "69965aa6",
   "metadata": {},
   "outputs": [],
   "source": [
    "trde_freight_df_extended.to_csv(os.path.join(OUTPUT_DATA_DIR_PATH, \"deminit_trde_freight_mt_km.csv\"), index=False)"
   ]
  }
 ],
 "metadata": {
  "kernelspec": {
   "display_name": "ssp_uganda_env",
   "language": "python",
   "name": "python3"
  },
  "language_info": {
   "codemirror_mode": {
    "name": "ipython",
    "version": 3
   },
   "file_extension": ".py",
   "mimetype": "text/x-python",
   "name": "python",
   "nbconvert_exporter": "python",
   "pygments_lexer": "ipython3",
   "version": "3.11.13"
  }
 },
 "nbformat": 4,
 "nbformat_minor": 5
}
