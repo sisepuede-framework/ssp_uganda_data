{
 "cells": [
  {
   "cell_type": "code",
   "execution_count": 44,
   "id": "e730efce",
   "metadata": {},
   "outputs": [],
   "source": [
    "import pandas as pd\n",
    "import pathlib\n",
    "import os, os.path"
   ]
  },
  {
   "cell_type": "code",
   "execution_count": 45,
   "id": "71924d81",
   "metadata": {},
   "outputs": [],
   "source": [
    "dir_cur = pathlib.Path(os.getcwd())\n",
    "input_data = dir_cur.joinpath(\"input_data\")\n",
    "output_data = dir_cur.joinpath(\"output_data\")"
   ]
  },
  {
   "cell_type": "markdown",
   "id": "5d1f9c3b",
   "metadata": {},
   "source": [
    "# Census Households counts (2014) by Region, District and Mid-Year Projected Households (2015-2021) "
   ]
  },
  {
   "cell_type": "code",
   "execution_count": 46,
   "id": "48cb4c42",
   "metadata": {},
   "outputs": [
    {
     "data": {
      "text/html": [
       "<div>\n",
       "<style scoped>\n",
       "    .dataframe tbody tr th:only-of-type {\n",
       "        vertical-align: middle;\n",
       "    }\n",
       "\n",
       "    .dataframe tbody tr th {\n",
       "        vertical-align: top;\n",
       "    }\n",
       "\n",
       "    .dataframe thead th {\n",
       "        text-align: right;\n",
       "    }\n",
       "</style>\n",
       "<table border=\"1\" class=\"dataframe\">\n",
       "  <thead>\n",
       "    <tr style=\"text-align: right;\">\n",
       "      <th></th>\n",
       "      <th>year</th>\n",
       "      <th>households</th>\n",
       "    </tr>\n",
       "  </thead>\n",
       "  <tbody>\n",
       "    <tr>\n",
       "      <th>0</th>\n",
       "      <td>2015</td>\n",
       "      <td>7476700</td>\n",
       "    </tr>\n",
       "    <tr>\n",
       "      <th>1</th>\n",
       "      <td>2016</td>\n",
       "      <td>7747300</td>\n",
       "    </tr>\n",
       "    <tr>\n",
       "      <th>2</th>\n",
       "      <td>2017</td>\n",
       "      <td>8032200</td>\n",
       "    </tr>\n",
       "    <tr>\n",
       "      <th>3</th>\n",
       "      <td>2018</td>\n",
       "      <td>8333900</td>\n",
       "    </tr>\n",
       "    <tr>\n",
       "      <th>4</th>\n",
       "      <td>2019</td>\n",
       "      <td>8647400</td>\n",
       "    </tr>\n",
       "    <tr>\n",
       "      <th>5</th>\n",
       "      <td>2020</td>\n",
       "      <td>8975900</td>\n",
       "    </tr>\n",
       "    <tr>\n",
       "      <th>6</th>\n",
       "      <td>2021</td>\n",
       "      <td>9813500</td>\n",
       "    </tr>\n",
       "  </tbody>\n",
       "</table>\n",
       "</div>"
      ],
      "text/plain": [
       "   year  households\n",
       "0  2015     7476700\n",
       "1  2016     7747300\n",
       "2  2017     8032200\n",
       "3  2018     8333900\n",
       "4  2019     8647400\n",
       "5  2020     8975900\n",
       "6  2021     9813500"
      ]
     },
     "execution_count": 46,
     "metadata": {},
     "output_type": "execute_result"
    }
   ],
   "source": [
    "# Load the house data\n",
    "house = pd.read_csv(input_data.joinpath(\"households.csv\")) \n",
    "house.head(20)"
   ]
  },
  {
   "cell_type": "code",
   "execution_count": 47,
   "id": "2b284a71",
   "metadata": {},
   "outputs": [
    {
     "data": {
      "text/html": [
       "<div>\n",
       "<style scoped>\n",
       "    .dataframe tbody tr th:only-of-type {\n",
       "        vertical-align: middle;\n",
       "    }\n",
       "\n",
       "    .dataframe tbody tr th {\n",
       "        vertical-align: top;\n",
       "    }\n",
       "\n",
       "    .dataframe thead th {\n",
       "        text-align: right;\n",
       "    }\n",
       "</style>\n",
       "<table border=\"1\" class=\"dataframe\">\n",
       "  <thead>\n",
       "    <tr style=\"text-align: right;\">\n",
       "      <th></th>\n",
       "      <th>year</th>\n",
       "      <th>population_gnrl_rural</th>\n",
       "      <th>population_gnrl_urban</th>\n",
       "    </tr>\n",
       "  </thead>\n",
       "  <tbody>\n",
       "    <tr>\n",
       "      <th>0</th>\n",
       "      <td>1950</td>\n",
       "      <td>5259623</td>\n",
       "      <td>155176</td>\n",
       "    </tr>\n",
       "    <tr>\n",
       "      <th>1</th>\n",
       "      <td>1951</td>\n",
       "      <td>5398130</td>\n",
       "      <td>167554</td>\n",
       "    </tr>\n",
       "    <tr>\n",
       "      <th>2</th>\n",
       "      <td>1952</td>\n",
       "      <td>5541329</td>\n",
       "      <td>180536</td>\n",
       "    </tr>\n",
       "    <tr>\n",
       "      <th>3</th>\n",
       "      <td>1953</td>\n",
       "      <td>5690012</td>\n",
       "      <td>194173</td>\n",
       "    </tr>\n",
       "    <tr>\n",
       "      <th>4</th>\n",
       "      <td>1954</td>\n",
       "      <td>5844177</td>\n",
       "      <td>208492</td>\n",
       "    </tr>\n",
       "    <tr>\n",
       "      <th>5</th>\n",
       "      <td>1955</td>\n",
       "      <td>6003709</td>\n",
       "      <td>223516</td>\n",
       "    </tr>\n",
       "    <tr>\n",
       "      <th>6</th>\n",
       "      <td>1956</td>\n",
       "      <td>6166191</td>\n",
       "      <td>241520</td>\n",
       "    </tr>\n",
       "    <tr>\n",
       "      <th>7</th>\n",
       "      <td>1957</td>\n",
       "      <td>6334115</td>\n",
       "      <td>260424</td>\n",
       "    </tr>\n",
       "    <tr>\n",
       "      <th>8</th>\n",
       "      <td>1958</td>\n",
       "      <td>6508091</td>\n",
       "      <td>280289</td>\n",
       "    </tr>\n",
       "    <tr>\n",
       "      <th>9</th>\n",
       "      <td>1959</td>\n",
       "      <td>6688393</td>\n",
       "      <td>301168</td>\n",
       "    </tr>\n",
       "  </tbody>\n",
       "</table>\n",
       "</div>"
      ],
      "text/plain": [
       "   year  population_gnrl_rural  population_gnrl_urban\n",
       "0  1950                5259623                 155176\n",
       "1  1951                5398130                 167554\n",
       "2  1952                5541329                 180536\n",
       "3  1953                5690012                 194173\n",
       "4  1954                5844177                 208492\n",
       "5  1955                6003709                 223516\n",
       "6  1956                6166191                 241520\n",
       "7  1957                6334115                 260424\n",
       "8  1958                6508091                 280289\n",
       "9  1959                6688393                 301168"
      ]
     },
     "execution_count": 47,
     "metadata": {},
     "output_type": "execute_result"
    }
   ],
   "source": [
    "pop = pd.read_csv(output_data.joinpath(\"POPULATION.csv\")) \n",
    "pop.head(10)"
   ]
  },
  {
   "cell_type": "code",
   "execution_count": 48,
   "id": "091ed71a",
   "metadata": {},
   "outputs": [
    {
     "data": {
      "text/html": [
       "<div>\n",
       "<style scoped>\n",
       "    .dataframe tbody tr th:only-of-type {\n",
       "        vertical-align: middle;\n",
       "    }\n",
       "\n",
       "    .dataframe tbody tr th {\n",
       "        vertical-align: top;\n",
       "    }\n",
       "\n",
       "    .dataframe thead th {\n",
       "        text-align: right;\n",
       "    }\n",
       "</style>\n",
       "<table border=\"1\" class=\"dataframe\">\n",
       "  <thead>\n",
       "    <tr style=\"text-align: right;\">\n",
       "      <th></th>\n",
       "      <th>year</th>\n",
       "      <th>population_gnrl_rural</th>\n",
       "      <th>population_gnrl_urban</th>\n",
       "      <th>households</th>\n",
       "    </tr>\n",
       "  </thead>\n",
       "  <tbody>\n",
       "    <tr>\n",
       "      <th>0</th>\n",
       "      <td>1950</td>\n",
       "      <td>5259623</td>\n",
       "      <td>155176</td>\n",
       "      <td>NaN</td>\n",
       "    </tr>\n",
       "    <tr>\n",
       "      <th>1</th>\n",
       "      <td>1951</td>\n",
       "      <td>5398130</td>\n",
       "      <td>167554</td>\n",
       "      <td>NaN</td>\n",
       "    </tr>\n",
       "    <tr>\n",
       "      <th>2</th>\n",
       "      <td>1952</td>\n",
       "      <td>5541329</td>\n",
       "      <td>180536</td>\n",
       "      <td>NaN</td>\n",
       "    </tr>\n",
       "    <tr>\n",
       "      <th>3</th>\n",
       "      <td>1953</td>\n",
       "      <td>5690012</td>\n",
       "      <td>194173</td>\n",
       "      <td>NaN</td>\n",
       "    </tr>\n",
       "    <tr>\n",
       "      <th>4</th>\n",
       "      <td>1954</td>\n",
       "      <td>5844177</td>\n",
       "      <td>208492</td>\n",
       "      <td>NaN</td>\n",
       "    </tr>\n",
       "  </tbody>\n",
       "</table>\n",
       "</div>"
      ],
      "text/plain": [
       "   year  population_gnrl_rural  population_gnrl_urban  households\n",
       "0  1950                5259623                 155176         NaN\n",
       "1  1951                5398130                 167554         NaN\n",
       "2  1952                5541329                 180536         NaN\n",
       "3  1953                5690012                 194173         NaN\n",
       "4  1954                5844177                 208492         NaN"
      ]
     },
     "execution_count": 48,
     "metadata": {},
     "output_type": "execute_result"
    }
   ],
   "source": [
    "# Merge the population and household data on 'year'\n",
    "df = pd.merge(pop, house, on='year', how='left')\n",
    "df.head()"
   ]
  },
  {
   "cell_type": "code",
   "execution_count": 49,
   "id": "1ccd8828",
   "metadata": {},
   "outputs": [],
   "source": [
    "# Calculate the population growth rate\n",
    "df['population'] = df['population_gnrl_rural'] + df['population_gnrl_urban']\n",
    "df['pop_growth'] = df['population'] / df['population'].shift(1)"
   ]
  },
  {
   "cell_type": "code",
   "execution_count": 50,
   "id": "5eb18552",
   "metadata": {},
   "outputs": [],
   "source": [
    "# Find the indices for the first and last years with observed household data\n",
    "first_obs_idx = df[df['households'].notnull()].index[0]\n",
    "last_obs_idx = df[df['households'].notnull()].index[-1]"
   ]
  },
  {
   "cell_type": "code",
   "execution_count": 51,
   "id": "9a690e0c",
   "metadata": {},
   "outputs": [],
   "source": [
    "# Forward extrapolation (for years after the last observed household data)\n",
    "for idx in range(last_obs_idx + 1, len(df)):\n",
    "    prev_idx = idx - 1\n",
    "    df.at[idx, 'households'] = df.at[prev_idx, 'households'] * df.at[idx, 'pop_growth']"
   ]
  },
  {
   "cell_type": "code",
   "execution_count": 52,
   "id": "d88c006c",
   "metadata": {},
   "outputs": [],
   "source": [
    "# Backward extrapolation (for years before the first observed household data)\n",
    "for idx in range(first_obs_idx - 1, -1, -1):\n",
    "    next_idx = idx + 1\n",
    "    df.at[idx, 'households'] = df.at[next_idx, 'households'] / df.at[next_idx, 'pop_growth']\n"
   ]
  },
  {
   "cell_type": "code",
   "execution_count": 53,
   "id": "b26fa506",
   "metadata": {},
   "outputs": [],
   "source": [
    "# Round to integer values and set as integer type\n",
    "df['households'] = df['households'].round().astype('Int64')"
   ]
  },
  {
   "cell_type": "code",
   "execution_count": 58,
   "id": "d394888d",
   "metadata": {},
   "outputs": [
    {
     "data": {
      "text/plain": [
       "<Axes: xlabel='year'>"
      ]
     },
     "execution_count": 58,
     "metadata": {},
     "output_type": "execute_result"
    },
    {
     "data": {
      "image/png": "[encoded data removed]",
      "text/plain": [
       "<Figure size 640x480 with 1 Axes>"
      ]
     },
     "metadata": {},
     "output_type": "display_data"
    }
   ],
   "source": [
    "df.plot(x = 'year', y='population')"
   ]
  },
  {
   "cell_type": "code",
   "execution_count": 71,
   "id": "3bd85498",
   "metadata": {},
   "outputs": [
    {
     "data": {
      "text/plain": [
       "<Axes: xlabel='year'>"
      ]
     },
     "execution_count": 71,
     "metadata": {},
     "output_type": "execute_result"
    },
    {
     "data": {
      "image/png": "[encoded data removed]",
      "text/plain": [
       "<Figure size 640x480 with 1 Axes>"
      ]
     },
     "metadata": {},
     "output_type": "display_data"
    }
   ],
   "source": [
    "df.plot(x = 'year', y='households')"
   ]
  },
  {
   "cell_type": "code",
   "execution_count": 60,
   "id": "22c2768f",
   "metadata": {},
   "outputs": [
    {
     "data": {
      "text/plain": [
       "<Axes: xlabel='year'>"
      ]
     },
     "execution_count": 60,
     "metadata": {},
     "output_type": "execute_result"
    },
    {
     "data": {
      "image/png": "[encoded data removed]",
      "text/plain": [
       "<Figure size 640x480 with 1 Axes>"
      ]
     },
     "metadata": {},
     "output_type": "display_data"
    }
   ],
   "source": [
    "df.plot(x = 'year', y='pop_growth')"
   ]
  },
  {
   "cell_type": "code",
   "execution_count": null,
   "id": "94e80690",
   "metadata": {},
   "outputs": [
    {
     "data": {
      "text/html": [
       "<div>\n",
       "<style scoped>\n",
       "    .dataframe tbody tr th:only-of-type {\n",
       "        vertical-align: middle;\n",
       "    }\n",
       "\n",
       "    .dataframe tbody tr th {\n",
       "        vertical-align: top;\n",
       "    }\n",
       "\n",
       "    .dataframe thead th {\n",
       "        text-align: right;\n",
       "    }\n",
       "</style>\n",
       "<table border=\"1\" class=\"dataframe\">\n",
       "  <thead>\n",
       "    <tr style=\"text-align: right;\">\n",
       "      <th></th>\n",
       "      <th>year</th>\n",
       "      <th>population_gnrl_rural</th>\n",
       "      <th>population_gnrl_urban</th>\n",
       "      <th>households</th>\n",
       "      <th>population</th>\n",
       "      <th>pop_growth</th>\n",
       "      <th>occrateinit_gnrl_occupancy</th>\n",
       "    </tr>\n",
       "  </thead>\n",
       "  <tbody>\n",
       "    <tr>\n",
       "      <th>count</th>\n",
       "      <td>151.000000</td>\n",
       "      <td>1.510000e+02</td>\n",
       "      <td>1.510000e+02</td>\n",
       "      <td>151.0</td>\n",
       "      <td>1.510000e+02</td>\n",
       "      <td>150.000000</td>\n",
       "      <td>151.0</td>\n",
       "    </tr>\n",
       "    <tr>\n",
       "      <th>mean</th>\n",
       "      <td>2025.000000</td>\n",
       "      <td>2.332505e+07</td>\n",
       "      <td>2.535029e+07</td>\n",
       "      <td>10925518.039735</td>\n",
       "      <td>4.867534e+07</td>\n",
       "      <td>1.019564</td>\n",
       "      <td>4.554984</td>\n",
       "    </tr>\n",
       "    <tr>\n",
       "      <th>std</th>\n",
       "      <td>43.734045</td>\n",
       "      <td>1.137344e+07</td>\n",
       "      <td>2.769305e+07</td>\n",
       "      <td>7544918.990048</td>\n",
       "      <td>3.279821e+07</td>\n",
       "      <td>0.010838</td>\n",
       "      <td>0.159968</td>\n",
       "    </tr>\n",
       "    <tr>\n",
       "      <th>min</th>\n",
       "      <td>1950.000000</td>\n",
       "      <td>5.259623e+06</td>\n",
       "      <td>1.551760e+05</td>\n",
       "      <td>1145649.0</td>\n",
       "      <td>5.414799e+06</td>\n",
       "      <td>1.001653</td>\n",
       "      <td>4.404917</td>\n",
       "    </tr>\n",
       "    <tr>\n",
       "      <th>25%</th>\n",
       "      <td>1987.500000</td>\n",
       "      <td>1.237665e+07</td>\n",
       "      <td>1.569422e+06</td>\n",
       "      <td>3229683.5</td>\n",
       "      <td>1.526479e+07</td>\n",
       "      <td>1.009197</td>\n",
       "      <td>4.404917</td>\n",
       "    </tr>\n",
       "    <tr>\n",
       "      <th>50%</th>\n",
       "      <td>2025.000000</td>\n",
       "      <td>2.355167e+07</td>\n",
       "      <td>1.353908e+07</td>\n",
       "      <td>10797247.0</td>\n",
       "      <td>4.756098e+07</td>\n",
       "      <td>1.017156</td>\n",
       "      <td>4.404917</td>\n",
       "    </tr>\n",
       "    <tr>\n",
       "      <th>75%</th>\n",
       "      <td>2062.500000</td>\n",
       "      <td>3.470930e+07</td>\n",
       "      <td>4.492061e+07</td>\n",
       "      <td>18385827.5</td>\n",
       "      <td>8.098805e+07</td>\n",
       "      <td>1.029742</td>\n",
       "      <td>4.726405</td>\n",
       "    </tr>\n",
       "    <tr>\n",
       "      <th>max</th>\n",
       "      <td>2100.000000</td>\n",
       "      <td>3.907048e+07</td>\n",
       "      <td>8.948691e+07</td>\n",
       "      <td>22293482.0</td>\n",
       "      <td>9.820094e+07</td>\n",
       "      <td>1.035522</td>\n",
       "      <td>4.726407</td>\n",
       "    </tr>\n",
       "  </tbody>\n",
       "</table>\n",
       "</div>"
      ],
      "text/plain": [
       "              year  population_gnrl_rural  population_gnrl_urban  \\\n",
       "count   151.000000           1.510000e+02           1.510000e+02   \n",
       "mean   2025.000000           2.332505e+07           2.535029e+07   \n",
       "std      43.734045           1.137344e+07           2.769305e+07   \n",
       "min    1950.000000           5.259623e+06           1.551760e+05   \n",
       "25%    1987.500000           1.237665e+07           1.569422e+06   \n",
       "50%    2025.000000           2.355167e+07           1.353908e+07   \n",
       "75%    2062.500000           3.470930e+07           4.492061e+07   \n",
       "max    2100.000000           3.907048e+07           8.948691e+07   \n",
       "\n",
       "            households    population  pop_growth  occrateinit_gnrl_occupancy  \n",
       "count            151.0  1.510000e+02  150.000000                       151.0  \n",
       "mean   10925518.039735  4.867534e+07    1.019564                    4.554984  \n",
       "std     7544918.990048  3.279821e+07    0.010838                    0.159968  \n",
       "min          1145649.0  5.414799e+06    1.001653                    4.404917  \n",
       "25%          3229683.5  1.526479e+07    1.009197                    4.404917  \n",
       "50%         10797247.0  4.756098e+07    1.017156                    4.404917  \n",
       "75%         18385827.5  8.098805e+07    1.029742                    4.726405  \n",
       "max         22293482.0  9.820094e+07    1.035522                    4.726407  "
      ]
     },
     "execution_count": 66,
     "metadata": {},
     "output_type": "execute_result"
    }
   ],
   "source": [
    "df['occrateinit_gnrl_occupancy'] = df['population'] / df['households']\n",
    "df.describe()"
   ]
  },
  {
   "cell_type": "code",
   "execution_count": 70,
   "id": "9fdb6153",
   "metadata": {},
   "outputs": [
    {
     "data": {
      "image/png": "[encoded data removed]",
      "text/plain": [
       "<Figure size 640x480 with 1 Axes>"
      ]
     },
     "metadata": {},
     "output_type": "display_data"
    }
   ],
   "source": [
    "import matplotlib.pyplot as plt\n",
    "\n",
    "ax = df.plot(x='year', y='occrateinit_gnrl_occupancy')\n",
    "plt.ylim(4, 5)  # Ajusta los valores mínimo y máximo del eje y\n",
    "plt.show()"
   ]
  },
  {
   "cell_type": "code",
   "execution_count": 72,
   "id": "13575028",
   "metadata": {},
   "outputs": [],
   "source": [
    "# Prepare the final DataFrame with the required columns\n",
    "df = df[['year', 'occrateinit_gnrl_occupancy']]"
   ]
  },
  {
   "cell_type": "code",
   "execution_count": 73,
   "id": "30864370",
   "metadata": {},
   "outputs": [],
   "source": [
    "df.to_csv(output_data.joinpath(\"occrateinit_gnrl_occupancy.csv\"), index=False)"
   ]
  }
 ],
 "metadata": {
  "kernelspec": {
   "display_name": "ssp_mng",
   "language": "python",
   "name": "python3"
  },
  "language_info": {
   "codemirror_mode": {
    "name": "ipython",
    "version": 3
   },
   "file_extension": ".py",
   "mimetype": "text/x-python",
   "name": "python",
   "nbconvert_exporter": "python",
   "pygments_lexer": "ipython3",
   "version": "3.11.13"
  }
 },
 "nbformat": 4,
 "nbformat_minor": 5
}
