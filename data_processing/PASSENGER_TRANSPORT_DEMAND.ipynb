{
 "cells": [
  {
   "cell_type": "markdown",
   "id": "09752e28",
   "metadata": {},
   "source": [
    "## Source\n",
    "\n",
    "Analysis and Scenario Development in Uganda’s Transport Sector  \n",
    "- Private and public: Table 4-3, page 43.  \n",
    "- Rail: Table 5-2, page 48.  \n",
    "- Water: Table 6-2, page 52.  \n",
    "- Aviation: Table 7-1, page 55.\n",
    "\n",
    "### Aviation computation\n",
    "\n",
    "Estimated Passenger-Kilometers (PKM) for International Aviation Departures in Uganda (2015–2018).\n",
    "\n",
    "**Data Source:**  \n",
    "* Number of domestic departing and arriving passengers per year (Table 7-1).  \n",
    "* Number of international departing passengers per year (Table 7-1).  \n",
    "* Assumption: Each international flight has an average travel distance of 2,500 km. And each domestic flight has an average travel distance of 300 km.\n",
    "\n",
    "**Formula:**  \n",
    "* PKM = Number of passengers × Average Distance per Departure (km)\n"
   ]
  },
  {
   "cell_type": "code",
   "execution_count": 1,
   "id": "99dccbe4",
   "metadata": {},
   "outputs": [],
   "source": [
    "import numpy as np\n",
    "import pandas as pd\n",
    "import os\n",
    "from utils.utils import EDAUtils, TransportUtils, GeneralUtils"
   ]
  },
  {
   "cell_type": "code",
   "execution_count": 2,
   "id": "d3d41b58",
   "metadata": {},
   "outputs": [],
   "source": [
    "%load_ext autoreload\n",
    "%autoreload 2"
   ]
  },
  {
   "cell_type": "code",
   "execution_count": 3,
   "id": "50fb22eb",
   "metadata": {},
   "outputs": [],
   "source": [
    "edau = EDAUtils()\n",
    "tu = TransportUtils()\n",
    "gu = GeneralUtils()"
   ]
  },
  {
   "cell_type": "code",
   "execution_count": 4,
   "id": "ef5a17ce",
   "metadata": {},
   "outputs": [],
   "source": [
    "# Set up paths\n",
    "CURRENT_DIR_PATH = os.getcwd()\n",
    "OUTPUT_DATA_DIR_PATH = os.path.join(CURRENT_DIR_PATH, \"output_data\")\n",
    "INPUT_DATA_DIR_PATH = os.path.join(CURRENT_DIR_PATH, \"input_data\")"
   ]
  },
  {
   "cell_type": "code",
   "execution_count": 5,
   "id": "a8a639f4",
   "metadata": {},
   "outputs": [
    {
     "data": {
      "text/html": [
       "<div>\n",
       "<style scoped>\n",
       "    .dataframe tbody tr th:only-of-type {\n",
       "        vertical-align: middle;\n",
       "    }\n",
       "\n",
       "    .dataframe tbody tr th {\n",
       "        vertical-align: top;\n",
       "    }\n",
       "\n",
       "    .dataframe thead th {\n",
       "        text-align: right;\n",
       "    }\n",
       "</style>\n",
       "<table border=\"1\" class=\"dataframe\">\n",
       "  <thead>\n",
       "    <tr style=\"text-align: right;\">\n",
       "      <th></th>\n",
       "      <th>year</th>\n",
       "      <th>population_gnrl_rural</th>\n",
       "      <th>population_gnrl_urban</th>\n",
       "    </tr>\n",
       "  </thead>\n",
       "  <tbody>\n",
       "    <tr>\n",
       "      <th>0</th>\n",
       "      <td>2015</td>\n",
       "      <td>27415805</td>\n",
       "      <td>7922107</td>\n",
       "    </tr>\n",
       "    <tr>\n",
       "      <th>1</th>\n",
       "      <td>2016</td>\n",
       "      <td>28126956</td>\n",
       "      <td>8404570</td>\n",
       "    </tr>\n",
       "    <tr>\n",
       "      <th>2</th>\n",
       "      <td>2017</td>\n",
       "      <td>28903581</td>\n",
       "      <td>8925631</td>\n",
       "    </tr>\n",
       "    <tr>\n",
       "      <th>3</th>\n",
       "      <td>2018</td>\n",
       "      <td>29672226</td>\n",
       "      <td>9464281</td>\n",
       "    </tr>\n",
       "    <tr>\n",
       "      <th>4</th>\n",
       "      <td>2019</td>\n",
       "      <td>30457624</td>\n",
       "      <td>10028890</td>\n",
       "    </tr>\n",
       "  </tbody>\n",
       "</table>\n",
       "</div>"
      ],
      "text/plain": [
       "   year  population_gnrl_rural  population_gnrl_urban\n",
       "0  2015               27415805                7922107\n",
       "1  2016               28126956                8404570\n",
       "2  2017               28903581                8925631\n",
       "3  2018               29672226                9464281\n",
       "4  2019               30457624               10028890"
      ]
     },
     "execution_count": 5,
     "metadata": {},
     "output_type": "execute_result"
    }
   ],
   "source": [
    "# Load population data\n",
    "POPULATION_DATA_PATH = os.path.join(OUTPUT_DATA_DIR_PATH, \"POPULATION.csv\")\n",
    "pop_df = pd.read_csv(POPULATION_DATA_PATH)\n",
    "\n",
    "# Filter for the years 2015 to 2050\n",
    "pop_df = pop_df[(pop_df['year'] >= 2015) & (pop_df['year'] <= 2050)]\n",
    "pop_df = pop_df.reset_index(drop=True)\n",
    "pop_df.head()"
   ]
  },
  {
   "cell_type": "code",
   "execution_count": 6,
   "id": "a47ad195",
   "metadata": {},
   "outputs": [
    {
     "data": {
      "text/html": [
       "<div>\n",
       "<style scoped>\n",
       "    .dataframe tbody tr th:only-of-type {\n",
       "        vertical-align: middle;\n",
       "    }\n",
       "\n",
       "    .dataframe tbody tr th {\n",
       "        vertical-align: top;\n",
       "    }\n",
       "\n",
       "    .dataframe thead th {\n",
       "        text-align: right;\n",
       "    }\n",
       "</style>\n",
       "<table border=\"1\" class=\"dataframe\">\n",
       "  <thead>\n",
       "    <tr style=\"text-align: right;\">\n",
       "      <th></th>\n",
       "      <th>year</th>\n",
       "      <th>population_gnrl_rural</th>\n",
       "      <th>population_gnrl_urban</th>\n",
       "      <th>pop_total</th>\n",
       "    </tr>\n",
       "  </thead>\n",
       "  <tbody>\n",
       "    <tr>\n",
       "      <th>0</th>\n",
       "      <td>2015</td>\n",
       "      <td>27415805</td>\n",
       "      <td>7922107</td>\n",
       "      <td>35337912</td>\n",
       "    </tr>\n",
       "    <tr>\n",
       "      <th>1</th>\n",
       "      <td>2016</td>\n",
       "      <td>28126956</td>\n",
       "      <td>8404570</td>\n",
       "      <td>36531526</td>\n",
       "    </tr>\n",
       "    <tr>\n",
       "      <th>2</th>\n",
       "      <td>2017</td>\n",
       "      <td>28903581</td>\n",
       "      <td>8925631</td>\n",
       "      <td>37829212</td>\n",
       "    </tr>\n",
       "    <tr>\n",
       "      <th>3</th>\n",
       "      <td>2018</td>\n",
       "      <td>29672226</td>\n",
       "      <td>9464281</td>\n",
       "      <td>39136507</td>\n",
       "    </tr>\n",
       "    <tr>\n",
       "      <th>4</th>\n",
       "      <td>2019</td>\n",
       "      <td>30457624</td>\n",
       "      <td>10028890</td>\n",
       "      <td>40486514</td>\n",
       "    </tr>\n",
       "  </tbody>\n",
       "</table>\n",
       "</div>"
      ],
      "text/plain": [
       "   year  population_gnrl_rural  population_gnrl_urban  pop_total\n",
       "0  2015               27415805                7922107   35337912\n",
       "1  2016               28126956                8404570   36531526\n",
       "2  2017               28903581                8925631   37829212\n",
       "3  2018               29672226                9464281   39136507\n",
       "4  2019               30457624               10028890   40486514"
      ]
     },
     "execution_count": 6,
     "metadata": {},
     "output_type": "execute_result"
    }
   ],
   "source": [
    "# Create pop_total column\n",
    "pop_df['pop_total'] = pop_df['population_gnrl_rural'] + pop_df['population_gnrl_urban']\n",
    "pop_df.head()"
   ]
  },
  {
   "cell_type": "code",
   "execution_count": 7,
   "id": "3e906f9d",
   "metadata": {},
   "outputs": [
    {
     "data": {
      "text/html": [
       "<div>\n",
       "<style scoped>\n",
       "    .dataframe tbody tr th:only-of-type {\n",
       "        vertical-align: middle;\n",
       "    }\n",
       "\n",
       "    .dataframe tbody tr th {\n",
       "        vertical-align: top;\n",
       "    }\n",
       "\n",
       "    .dataframe thead th {\n",
       "        text-align: right;\n",
       "    }\n",
       "</style>\n",
       "<table border=\"1\" class=\"dataframe\">\n",
       "  <thead>\n",
       "    <tr style=\"text-align: right;\">\n",
       "      <th></th>\n",
       "      <th>year</th>\n",
       "      <th>population_gnrl_rural</th>\n",
       "      <th>population_gnrl_urban</th>\n",
       "      <th>pop_total</th>\n",
       "    </tr>\n",
       "  </thead>\n",
       "  <tbody>\n",
       "    <tr>\n",
       "      <th>31</th>\n",
       "      <td>2046</td>\n",
       "      <td>38769171</td>\n",
       "      <td>28301495</td>\n",
       "      <td>67070666</td>\n",
       "    </tr>\n",
       "    <tr>\n",
       "      <th>32</th>\n",
       "      <td>2047</td>\n",
       "      <td>38877625</td>\n",
       "      <td>29165895</td>\n",
       "      <td>68043520</td>\n",
       "    </tr>\n",
       "    <tr>\n",
       "      <th>33</th>\n",
       "      <td>2048</td>\n",
       "      <td>38966634</td>\n",
       "      <td>30038289</td>\n",
       "      <td>69004923</td>\n",
       "    </tr>\n",
       "    <tr>\n",
       "      <th>34</th>\n",
       "      <td>2049</td>\n",
       "      <td>39030689</td>\n",
       "      <td>30913903</td>\n",
       "      <td>69944592</td>\n",
       "    </tr>\n",
       "    <tr>\n",
       "      <th>35</th>\n",
       "      <td>2050</td>\n",
       "      <td>39070478</td>\n",
       "      <td>31792509</td>\n",
       "      <td>70862987</td>\n",
       "    </tr>\n",
       "  </tbody>\n",
       "</table>\n",
       "</div>"
      ],
      "text/plain": [
       "    year  population_gnrl_rural  population_gnrl_urban  pop_total\n",
       "31  2046               38769171               28301495   67070666\n",
       "32  2047               38877625               29165895   68043520\n",
       "33  2048               38966634               30038289   69004923\n",
       "34  2049               39030689               30913903   69944592\n",
       "35  2050               39070478               31792509   70862987"
      ]
     },
     "execution_count": 7,
     "metadata": {},
     "output_type": "execute_result"
    }
   ],
   "source": [
    "pop_df.tail()"
   ]
  },
  {
   "cell_type": "code",
   "execution_count": 8,
   "id": "a5d6033f",
   "metadata": {},
   "outputs": [
    {
     "data": {
      "text/html": [
       "<div>\n",
       "<style scoped>\n",
       "    .dataframe tbody tr th:only-of-type {\n",
       "        vertical-align: middle;\n",
       "    }\n",
       "\n",
       "    .dataframe tbody tr th {\n",
       "        vertical-align: top;\n",
       "    }\n",
       "\n",
       "    .dataframe thead th {\n",
       "        text-align: right;\n",
       "    }\n",
       "</style>\n",
       "<table border=\"1\" class=\"dataframe\">\n",
       "  <thead>\n",
       "    <tr style=\"text-align: right;\">\n",
       "      <th></th>\n",
       "      <th>year</th>\n",
       "      <th>pop_total</th>\n",
       "    </tr>\n",
       "  </thead>\n",
       "  <tbody>\n",
       "    <tr>\n",
       "      <th>0</th>\n",
       "      <td>2015</td>\n",
       "      <td>35337912</td>\n",
       "    </tr>\n",
       "    <tr>\n",
       "      <th>1</th>\n",
       "      <td>2016</td>\n",
       "      <td>36531526</td>\n",
       "    </tr>\n",
       "    <tr>\n",
       "      <th>2</th>\n",
       "      <td>2017</td>\n",
       "      <td>37829212</td>\n",
       "    </tr>\n",
       "    <tr>\n",
       "      <th>3</th>\n",
       "      <td>2018</td>\n",
       "      <td>39136507</td>\n",
       "    </tr>\n",
       "    <tr>\n",
       "      <th>4</th>\n",
       "      <td>2019</td>\n",
       "      <td>40486514</td>\n",
       "    </tr>\n",
       "  </tbody>\n",
       "</table>\n",
       "</div>"
      ],
      "text/plain": [
       "   year  pop_total\n",
       "0  2015   35337912\n",
       "1  2016   36531526\n",
       "2  2017   37829212\n",
       "3  2018   39136507\n",
       "4  2019   40486514"
      ]
     },
     "execution_count": 8,
     "metadata": {},
     "output_type": "execute_result"
    }
   ],
   "source": [
    "# Keep only pop_total col\n",
    "trde_passenger_df = pop_df[['year', 'pop_total']].copy()\n",
    "trde_passenger_df.head()"
   ]
  },
  {
   "cell_type": "code",
   "execution_count": 9,
   "id": "15660b91",
   "metadata": {},
   "outputs": [
    {
     "data": {
      "text/html": [
       "<div>\n",
       "<style scoped>\n",
       "    .dataframe tbody tr th:only-of-type {\n",
       "        vertical-align: middle;\n",
       "    }\n",
       "\n",
       "    .dataframe tbody tr th {\n",
       "        vertical-align: top;\n",
       "    }\n",
       "\n",
       "    .dataframe thead th {\n",
       "        text-align: right;\n",
       "    }\n",
       "</style>\n",
       "<table border=\"1\" class=\"dataframe\">\n",
       "  <thead>\n",
       "    <tr style=\"text-align: right;\">\n",
       "      <th></th>\n",
       "      <th>year</th>\n",
       "      <th>gdp_mmm_usd</th>\n",
       "    </tr>\n",
       "  </thead>\n",
       "  <tbody>\n",
       "    <tr>\n",
       "      <th>0</th>\n",
       "      <td>1979</td>\n",
       "      <td>11.488563</td>\n",
       "    </tr>\n",
       "    <tr>\n",
       "      <th>1</th>\n",
       "      <td>1980</td>\n",
       "      <td>11.098871</td>\n",
       "    </tr>\n",
       "    <tr>\n",
       "      <th>2</th>\n",
       "      <td>1981</td>\n",
       "      <td>11.527176</td>\n",
       "    </tr>\n",
       "    <tr>\n",
       "      <th>3</th>\n",
       "      <td>1982</td>\n",
       "      <td>12.472981</td>\n",
       "    </tr>\n",
       "    <tr>\n",
       "      <th>4</th>\n",
       "      <td>1983</td>\n",
       "      <td>13.084033</td>\n",
       "    </tr>\n",
       "  </tbody>\n",
       "</table>\n",
       "</div>"
      ],
      "text/plain": [
       "   year  gdp_mmm_usd\n",
       "0  1979    11.488563\n",
       "1  1980    11.098871\n",
       "2  1981    11.527176\n",
       "3  1982    12.472981\n",
       "4  1983    13.084033"
      ]
     },
     "execution_count": 9,
     "metadata": {},
     "output_type": "execute_result"
    }
   ],
   "source": [
    "# Load gdp data\n",
    "gdp_df = pd.read_csv(os.path.join(OUTPUT_DATA_DIR_PATH, \"gdp_mmm_usd.csv\"))\n",
    "gdp_df.head()"
   ]
  },
  {
   "cell_type": "code",
   "execution_count": 10,
   "id": "ee823c1a",
   "metadata": {},
   "outputs": [
    {
     "data": {
      "text/html": [
       "<div>\n",
       "<style scoped>\n",
       "    .dataframe tbody tr th:only-of-type {\n",
       "        vertical-align: middle;\n",
       "    }\n",
       "\n",
       "    .dataframe tbody tr th {\n",
       "        vertical-align: top;\n",
       "    }\n",
       "\n",
       "    .dataframe thead th {\n",
       "        text-align: right;\n",
       "    }\n",
       "</style>\n",
       "<table border=\"1\" class=\"dataframe\">\n",
       "  <thead>\n",
       "    <tr style=\"text-align: right;\">\n",
       "      <th></th>\n",
       "      <th>year</th>\n",
       "      <th>pop_total</th>\n",
       "      <th>gdp_mmm_usd</th>\n",
       "    </tr>\n",
       "  </thead>\n",
       "  <tbody>\n",
       "    <tr>\n",
       "      <th>0</th>\n",
       "      <td>2015</td>\n",
       "      <td>35337912</td>\n",
       "      <td>79.03</td>\n",
       "    </tr>\n",
       "    <tr>\n",
       "      <th>1</th>\n",
       "      <td>2016</td>\n",
       "      <td>36531526</td>\n",
       "      <td>82.81</td>\n",
       "    </tr>\n",
       "    <tr>\n",
       "      <th>2</th>\n",
       "      <td>2017</td>\n",
       "      <td>37829212</td>\n",
       "      <td>85.41</td>\n",
       "    </tr>\n",
       "    <tr>\n",
       "      <th>3</th>\n",
       "      <td>2018</td>\n",
       "      <td>39136507</td>\n",
       "      <td>90.79</td>\n",
       "    </tr>\n",
       "    <tr>\n",
       "      <th>4</th>\n",
       "      <td>2019</td>\n",
       "      <td>40486514</td>\n",
       "      <td>96.64</td>\n",
       "    </tr>\n",
       "  </tbody>\n",
       "</table>\n",
       "</div>"
      ],
      "text/plain": [
       "   year  pop_total  gdp_mmm_usd\n",
       "0  2015   35337912        79.03\n",
       "1  2016   36531526        82.81\n",
       "2  2017   37829212        85.41\n",
       "3  2018   39136507        90.79\n",
       "4  2019   40486514        96.64"
      ]
     },
     "execution_count": 10,
     "metadata": {},
     "output_type": "execute_result"
    }
   ],
   "source": [
    "trde_passenger_df = trde_passenger_df.merge(gdp_df[[\"year\", \"gdp_mmm_usd\"]], on='year', how='left')\n",
    "trde_passenger_df.head()"
   ]
  },
  {
   "cell_type": "code",
   "execution_count": 11,
   "id": "6dba1360",
   "metadata": {},
   "outputs": [
    {
     "data": {
      "text/plain": [
       "{2015: 1731885200,\n",
       " 2016: 1763372300,\n",
       " 2017: 1899047200,\n",
       " 2018: 2130619000,\n",
       " 2019: 2130619000}"
      ]
     },
     "execution_count": 11,
     "metadata": {},
     "output_type": "execute_result"
    }
   ],
   "source": [
    "# raw inputs\n",
    "\n",
    "# 2019 values\n",
    "private_passenger_trde = 41.81e9\n",
    "public_passenger_trde  = 69.36e9\n",
    "\n",
    "rail_passenger_trde = {\n",
    "    2016: 342_230,\n",
    "    2017: 174_824,\n",
    "    2018: 473_757,\n",
    "    2019: 437_398,\n",
    "    2020: 160_672,\n",
    "\n",
    "}\n",
    "\n",
    "inland_water_passenger_trde = 17_252_769 # 2019 value\n",
    "\n",
    "# raw inputs\n",
    "domestic_passengers_arrivals = {\n",
    "    2015: 7634,\n",
    "    2016: 7350,\n",
    "    2017: 9539,\n",
    "    2018: 13798,\n",
    "    2019: 13798 # 2019 value assumed same as 2018\n",
    "}\n",
    "\n",
    "domestic_passengers_departures = {\n",
    "    2015: 7300,\n",
    "    2016: 6816,\n",
    "    2017: 9285,\n",
    "    2018: 12982,\n",
    "    2019: 12982 # 2019 value assumed same as 2018\n",
    "}\n",
    "\n",
    "international_passengers_departures = {\n",
    "    2015: 690962,\n",
    "    2016: 703649,\n",
    "    2017: 757360,\n",
    "    2018: 849034,\n",
    "    2019: 849034 # 2019 value assumed same as 2018\n",
    "}\n",
    "\n",
    "aviation_passenger_trde = tu.compute_passenger_km(domestic_passengers_arrivals, domestic_passengers_departures, international_passengers_departures)\n",
    "aviation_passenger_trde"
   ]
  },
  {
   "cell_type": "code",
   "execution_count": 12,
   "id": "84ed35bb",
   "metadata": {},
   "outputs": [],
   "source": [
    "base_year = 2019\n",
    "\n",
    "# Get base population and PKMs\n",
    "base_pop = trde_passenger_df.loc[trde_passenger_df['year'] == base_year, 'pop_total'].values[0]\n",
    "base_private_pkms = private_passenger_trde\n",
    "base_public_pkms = public_passenger_trde\n",
    "base_regional_pkms = (\n",
    "    rail_passenger_trde.get(base_year, 0)\n",
    "    + inland_water_passenger_trde\n",
    "    + aviation_passenger_trde.get(base_year, 0)\n",
    ")\n",
    "\n",
    "# Set GDP scaling factor\n",
    "gdp_scaling = trde_passenger_df.loc[trde_passenger_df['year'] == base_year, 'gdp_mmm_usd'].values[0]\n",
    "\n",
    "# Filter for years <= base year\n",
    "trde_passenger_df = trde_passenger_df[trde_passenger_df['year'] <= base_year].reset_index(drop=True)"
   ]
  },
  {
   "cell_type": "code",
   "execution_count": 13,
   "id": "73a9dbfb",
   "metadata": {},
   "outputs": [],
   "source": [
    "# Scale by pop and gdp\n",
    "trde_passenger_df['deminit_trde_private_and_public_passenger_km'] = (\n",
    "    (base_private_pkms + base_public_pkms)\n",
    "    * (trde_passenger_df['pop_total'] / base_pop)\n",
    "    * (trde_passenger_df['gdp_mmm_usd'] / gdp_scaling)\n",
    ")\n",
    "\n",
    "trde_passenger_df['deminit_trde_regional_passenger_km'] = (\n",
    "    base_regional_pkms\n",
    "    * (trde_passenger_df['pop_total'] / base_pop)\n",
    "    * (trde_passenger_df['gdp_mmm_usd'] / gdp_scaling)\n",
    ")"
   ]
  },
  {
   "cell_type": "code",
   "execution_count": 14,
   "id": "52187d7c",
   "metadata": {},
   "outputs": [
    {
     "data": {
      "text/html": [
       "<div>\n",
       "<style scoped>\n",
       "    .dataframe tbody tr th:only-of-type {\n",
       "        vertical-align: middle;\n",
       "    }\n",
       "\n",
       "    .dataframe tbody tr th {\n",
       "        vertical-align: top;\n",
       "    }\n",
       "\n",
       "    .dataframe thead th {\n",
       "        text-align: right;\n",
       "    }\n",
       "</style>\n",
       "<table border=\"1\" class=\"dataframe\">\n",
       "  <thead>\n",
       "    <tr style=\"text-align: right;\">\n",
       "      <th></th>\n",
       "      <th>year</th>\n",
       "      <th>pop_total</th>\n",
       "      <th>gdp_mmm_usd</th>\n",
       "      <th>deminit_trde_private_and_public_passenger_km</th>\n",
       "      <th>deminit_trde_regional_passenger_km</th>\n",
       "    </tr>\n",
       "  </thead>\n",
       "  <tbody>\n",
       "    <tr>\n",
       "      <th>0</th>\n",
       "      <td>2015</td>\n",
       "      <td>35337912</td>\n",
       "      <td>79.03</td>\n",
       "      <td>7.935114e+10</td>\n",
       "      <td>1.533424e+09</td>\n",
       "    </tr>\n",
       "    <tr>\n",
       "      <th>1</th>\n",
       "      <td>2016</td>\n",
       "      <td>36531526</td>\n",
       "      <td>82.81</td>\n",
       "      <td>8.595495e+10</td>\n",
       "      <td>1.661040e+09</td>\n",
       "    </tr>\n",
       "    <tr>\n",
       "      <th>2</th>\n",
       "      <td>2017</td>\n",
       "      <td>37829212</td>\n",
       "      <td>85.41</td>\n",
       "      <td>9.180288e+10</td>\n",
       "      <td>1.774049e+09</td>\n",
       "    </tr>\n",
       "    <tr>\n",
       "      <th>3</th>\n",
       "      <td>2018</td>\n",
       "      <td>39136507</td>\n",
       "      <td>90.79</td>\n",
       "      <td>1.009579e+11</td>\n",
       "      <td>1.950965e+09</td>\n",
       "    </tr>\n",
       "    <tr>\n",
       "      <th>4</th>\n",
       "      <td>2019</td>\n",
       "      <td>40486514</td>\n",
       "      <td>96.64</td>\n",
       "      <td>1.111700e+11</td>\n",
       "      <td>2.148309e+09</td>\n",
       "    </tr>\n",
       "  </tbody>\n",
       "</table>\n",
       "</div>"
      ],
      "text/plain": [
       "   year  pop_total  gdp_mmm_usd  deminit_trde_private_and_public_passenger_km  \\\n",
       "0  2015   35337912        79.03                                  7.935114e+10   \n",
       "1  2016   36531526        82.81                                  8.595495e+10   \n",
       "2  2017   37829212        85.41                                  9.180288e+10   \n",
       "3  2018   39136507        90.79                                  1.009579e+11   \n",
       "4  2019   40486514        96.64                                  1.111700e+11   \n",
       "\n",
       "   deminit_trde_regional_passenger_km  \n",
       "0                        1.533424e+09  \n",
       "1                        1.661040e+09  \n",
       "2                        1.774049e+09  \n",
       "3                        1.950965e+09  \n",
       "4                        2.148309e+09  "
      ]
     },
     "execution_count": 14,
     "metadata": {},
     "output_type": "execute_result"
    }
   ],
   "source": [
    "trde_passenger_df"
   ]
  },
  {
   "cell_type": "code",
   "execution_count": 15,
   "id": "77b6d117",
   "metadata": {},
   "outputs": [
    {
     "data": {
      "text/plain": [
       "<Axes: >"
      ]
     },
     "execution_count": 15,
     "metadata": {},
     "output_type": "execute_result"
    },
    {
     "data": {
      "image/png": "[encoded data removed]",
      "text/plain": [
       "<Figure size 640x480 with 1 Axes>"
      ]
     },
     "metadata": {},
     "output_type": "display_data"
    }
   ],
   "source": [
    "trde_passenger_df.deminit_trde_private_and_public_passenger_km.plot()"
   ]
  },
  {
   "cell_type": "code",
   "execution_count": 16,
   "id": "90806e87",
   "metadata": {},
   "outputs": [
    {
     "data": {
      "text/plain": [
       "<Axes: >"
      ]
     },
     "execution_count": 16,
     "metadata": {},
     "output_type": "execute_result"
    },
    {
     "data": {
      "image/png": "[encoded data removed]",
      "text/plain": [
       "<Figure size 640x480 with 1 Axes>"
      ]
     },
     "metadata": {},
     "output_type": "display_data"
    }
   ],
   "source": [
    "trde_passenger_df.deminit_trde_regional_passenger_km.plot()"
   ]
  },
  {
   "cell_type": "code",
   "execution_count": 17,
   "id": "99c27dfa",
   "metadata": {},
   "outputs": [],
   "source": [
    "trde_passenger_df[\"deminit_trde_private_and_public_per_capita_passenger_km\"] = trde_passenger_df[\"deminit_trde_private_and_public_passenger_km\"] / trde_passenger_df[\"pop_total\"]\n",
    "trde_passenger_df[\"deminit_trde_regional_per_capita_passenger_km\"] = trde_passenger_df[\"deminit_trde_regional_passenger_km\"] / trde_passenger_df[\"pop_total\"]"
   ]
  },
  {
   "cell_type": "code",
   "execution_count": 18,
   "id": "af818d27",
   "metadata": {},
   "outputs": [],
   "source": [
    "# Keep only deminit columns and year columns\n",
    "trde_passenger_df = trde_passenger_df[[\"year\", \"deminit_trde_private_and_public_per_capita_passenger_km\", \n",
    "         \"deminit_trde_regional_per_capita_passenger_km\"]]"
   ]
  },
  {
   "cell_type": "code",
   "execution_count": 19,
   "id": "e565ed4f",
   "metadata": {},
   "outputs": [
    {
     "data": {
      "text/html": [
       "<div>\n",
       "<style scoped>\n",
       "    .dataframe tbody tr th:only-of-type {\n",
       "        vertical-align: middle;\n",
       "    }\n",
       "\n",
       "    .dataframe tbody tr th {\n",
       "        vertical-align: top;\n",
       "    }\n",
       "\n",
       "    .dataframe thead th {\n",
       "        text-align: right;\n",
       "    }\n",
       "</style>\n",
       "<table border=\"1\" class=\"dataframe\">\n",
       "  <thead>\n",
       "    <tr style=\"text-align: right;\">\n",
       "      <th></th>\n",
       "      <th>year</th>\n",
       "      <th>deminit_trde_private_and_public_per_capita_passenger_km</th>\n",
       "      <th>deminit_trde_regional_per_capita_passenger_km</th>\n",
       "    </tr>\n",
       "  </thead>\n",
       "  <tbody>\n",
       "    <tr>\n",
       "      <th>0</th>\n",
       "      <td>2015</td>\n",
       "      <td>2245.495980</td>\n",
       "      <td>43.393178</td>\n",
       "    </tr>\n",
       "    <tr>\n",
       "      <th>1</th>\n",
       "      <td>2016</td>\n",
       "      <td>2352.897913</td>\n",
       "      <td>45.468671</td>\n",
       "    </tr>\n",
       "    <tr>\n",
       "      <th>2</th>\n",
       "      <td>2017</td>\n",
       "      <td>2426.772259</td>\n",
       "      <td>46.896259</td>\n",
       "    </tr>\n",
       "    <tr>\n",
       "      <th>3</th>\n",
       "      <td>2018</td>\n",
       "      <td>2579.635329</td>\n",
       "      <td>49.850267</td>\n",
       "    </tr>\n",
       "    <tr>\n",
       "      <th>4</th>\n",
       "      <td>2019</td>\n",
       "      <td>2745.852607</td>\n",
       "      <td>53.062340</td>\n",
       "    </tr>\n",
       "  </tbody>\n",
       "</table>\n",
       "</div>"
      ],
      "text/plain": [
       "   year  deminit_trde_private_and_public_per_capita_passenger_km  \\\n",
       "0  2015                                        2245.495980         \n",
       "1  2016                                        2352.897913         \n",
       "2  2017                                        2426.772259         \n",
       "3  2018                                        2579.635329         \n",
       "4  2019                                        2745.852607         \n",
       "\n",
       "   deminit_trde_regional_per_capita_passenger_km  \n",
       "0                                      43.393178  \n",
       "1                                      45.468671  \n",
       "2                                      46.896259  \n",
       "3                                      49.850267  \n",
       "4                                      53.062340  "
      ]
     },
     "execution_count": 19,
     "metadata": {},
     "output_type": "execute_result"
    }
   ],
   "source": [
    "trde_passenger_df.head()"
   ]
  },
  {
   "cell_type": "code",
   "execution_count": 20,
   "id": "38c87786",
   "metadata": {},
   "outputs": [
    {
     "data": {
      "text/html": [
       "<div>\n",
       "<style scoped>\n",
       "    .dataframe tbody tr th:only-of-type {\n",
       "        vertical-align: middle;\n",
       "    }\n",
       "\n",
       "    .dataframe tbody tr th {\n",
       "        vertical-align: top;\n",
       "    }\n",
       "\n",
       "    .dataframe thead th {\n",
       "        text-align: right;\n",
       "    }\n",
       "</style>\n",
       "<table border=\"1\" class=\"dataframe\">\n",
       "  <thead>\n",
       "    <tr style=\"text-align: right;\">\n",
       "      <th></th>\n",
       "      <th>year</th>\n",
       "      <th>deminit_trde_private_and_public_per_capita_passenger_km</th>\n",
       "      <th>deminit_trde_regional_per_capita_passenger_km</th>\n",
       "    </tr>\n",
       "  </thead>\n",
       "  <tbody>\n",
       "    <tr>\n",
       "      <th>0</th>\n",
       "      <td>2015</td>\n",
       "      <td>2245.495980</td>\n",
       "      <td>43.393178</td>\n",
       "    </tr>\n",
       "    <tr>\n",
       "      <th>1</th>\n",
       "      <td>2016</td>\n",
       "      <td>2352.897913</td>\n",
       "      <td>45.468671</td>\n",
       "    </tr>\n",
       "    <tr>\n",
       "      <th>2</th>\n",
       "      <td>2017</td>\n",
       "      <td>2426.772259</td>\n",
       "      <td>46.896259</td>\n",
       "    </tr>\n",
       "    <tr>\n",
       "      <th>3</th>\n",
       "      <td>2018</td>\n",
       "      <td>2579.635329</td>\n",
       "      <td>49.850267</td>\n",
       "    </tr>\n",
       "    <tr>\n",
       "      <th>4</th>\n",
       "      <td>2019</td>\n",
       "      <td>2745.852607</td>\n",
       "      <td>53.062340</td>\n",
       "    </tr>\n",
       "  </tbody>\n",
       "</table>\n",
       "</div>"
      ],
      "text/plain": [
       "   year  deminit_trde_private_and_public_per_capita_passenger_km  \\\n",
       "0  2015                                        2245.495980         \n",
       "1  2016                                        2352.897913         \n",
       "2  2017                                        2426.772259         \n",
       "3  2018                                        2579.635329         \n",
       "4  2019                                        2745.852607         \n",
       "\n",
       "   deminit_trde_regional_per_capita_passenger_km  \n",
       "0                                      43.393178  \n",
       "1                                      45.468671  \n",
       "2                                      46.896259  \n",
       "3                                      49.850267  \n",
       "4                                      53.062340  "
      ]
     },
     "execution_count": 20,
     "metadata": {},
     "output_type": "execute_result"
    }
   ],
   "source": [
    "trde_passenger_df.tail()"
   ]
  },
  {
   "cell_type": "code",
   "execution_count": 21,
   "id": "6b7afcf0",
   "metadata": {},
   "outputs": [
    {
     "data": {
      "text/html": [
       "<div>\n",
       "<style scoped>\n",
       "    .dataframe tbody tr th:only-of-type {\n",
       "        vertical-align: middle;\n",
       "    }\n",
       "\n",
       "    .dataframe tbody tr th {\n",
       "        vertical-align: top;\n",
       "    }\n",
       "\n",
       "    .dataframe thead th {\n",
       "        text-align: right;\n",
       "    }\n",
       "</style>\n",
       "<table border=\"1\" class=\"dataframe\">\n",
       "  <thead>\n",
       "    <tr style=\"text-align: right;\">\n",
       "      <th></th>\n",
       "      <th>year</th>\n",
       "      <th>deminit_trde_private_and_public_per_capita_passenger_km</th>\n",
       "      <th>deminit_trde_regional_per_capita_passenger_km</th>\n",
       "    </tr>\n",
       "  </thead>\n",
       "  <tbody>\n",
       "    <tr>\n",
       "      <th>0</th>\n",
       "      <td>2015</td>\n",
       "      <td>2245.495980</td>\n",
       "      <td>43.393178</td>\n",
       "    </tr>\n",
       "    <tr>\n",
       "      <th>1</th>\n",
       "      <td>2016</td>\n",
       "      <td>2352.897913</td>\n",
       "      <td>45.468671</td>\n",
       "    </tr>\n",
       "    <tr>\n",
       "      <th>2</th>\n",
       "      <td>2017</td>\n",
       "      <td>2426.772259</td>\n",
       "      <td>46.896259</td>\n",
       "    </tr>\n",
       "    <tr>\n",
       "      <th>3</th>\n",
       "      <td>2018</td>\n",
       "      <td>2579.635329</td>\n",
       "      <td>49.850267</td>\n",
       "    </tr>\n",
       "    <tr>\n",
       "      <th>4</th>\n",
       "      <td>2019</td>\n",
       "      <td>2745.852607</td>\n",
       "      <td>53.062340</td>\n",
       "    </tr>\n",
       "    <tr>\n",
       "      <th>...</th>\n",
       "      <td>...</td>\n",
       "      <td>...</td>\n",
       "      <td>...</td>\n",
       "    </tr>\n",
       "    <tr>\n",
       "      <th>81</th>\n",
       "      <td>2096</td>\n",
       "      <td>2745.852607</td>\n",
       "      <td>53.062340</td>\n",
       "    </tr>\n",
       "    <tr>\n",
       "      <th>82</th>\n",
       "      <td>2097</td>\n",
       "      <td>2745.852607</td>\n",
       "      <td>53.062340</td>\n",
       "    </tr>\n",
       "    <tr>\n",
       "      <th>83</th>\n",
       "      <td>2098</td>\n",
       "      <td>2745.852607</td>\n",
       "      <td>53.062340</td>\n",
       "    </tr>\n",
       "    <tr>\n",
       "      <th>84</th>\n",
       "      <td>2099</td>\n",
       "      <td>2745.852607</td>\n",
       "      <td>53.062340</td>\n",
       "    </tr>\n",
       "    <tr>\n",
       "      <th>85</th>\n",
       "      <td>2100</td>\n",
       "      <td>2745.852607</td>\n",
       "      <td>53.062340</td>\n",
       "    </tr>\n",
       "  </tbody>\n",
       "</table>\n",
       "<p>86 rows × 3 columns</p>\n",
       "</div>"
      ],
      "text/plain": [
       "    year  deminit_trde_private_and_public_per_capita_passenger_km  \\\n",
       "0   2015                                        2245.495980         \n",
       "1   2016                                        2352.897913         \n",
       "2   2017                                        2426.772259         \n",
       "3   2018                                        2579.635329         \n",
       "4   2019                                        2745.852607         \n",
       "..   ...                                                ...         \n",
       "81  2096                                        2745.852607         \n",
       "82  2097                                        2745.852607         \n",
       "83  2098                                        2745.852607         \n",
       "84  2099                                        2745.852607         \n",
       "85  2100                                        2745.852607         \n",
       "\n",
       "    deminit_trde_regional_per_capita_passenger_km  \n",
       "0                                       43.393178  \n",
       "1                                       45.468671  \n",
       "2                                       46.896259  \n",
       "3                                       49.850267  \n",
       "4                                       53.062340  \n",
       "..                                            ...  \n",
       "81                                      53.062340  \n",
       "82                                      53.062340  \n",
       "83                                      53.062340  \n",
       "84                                      53.062340  \n",
       "85                                      53.062340  \n",
       "\n",
       "[86 rows x 3 columns]"
      ]
     },
     "execution_count": 21,
     "metadata": {},
     "output_type": "execute_result"
    }
   ],
   "source": [
    "trde_passenger_df_extended = gu.extend_projection(trde_passenger_df, base_year + 1, 2100)\n",
    "trde_passenger_df_extended\n"
   ]
  },
  {
   "cell_type": "markdown",
   "id": "06e9c8ed",
   "metadata": {},
   "source": [
    "## Validation"
   ]
  },
  {
   "cell_type": "code",
   "execution_count": 22,
   "id": "d9d37952",
   "metadata": {},
   "outputs": [
    {
     "name": "stdout",
     "output_type": "stream",
     "text": [
      "No duplicated years found in the DataFrame.\n",
      "No duplicated rows found in the DataFrame.\n"
     ]
    }
   ],
   "source": [
    "# Check for duplicates\n",
    "gu.check_duplicates(trde_passenger_df_extended)"
   ]
  },
  {
   "cell_type": "code",
   "execution_count": 23,
   "id": "e612cf99",
   "metadata": {},
   "outputs": [
    {
     "data": {
      "text/html": [
       "<div>\n",
       "<style scoped>\n",
       "    .dataframe tbody tr th:only-of-type {\n",
       "        vertical-align: middle;\n",
       "    }\n",
       "\n",
       "    .dataframe tbody tr th {\n",
       "        vertical-align: top;\n",
       "    }\n",
       "\n",
       "    .dataframe thead th {\n",
       "        text-align: right;\n",
       "    }\n",
       "</style>\n",
       "<table border=\"1\" class=\"dataframe\">\n",
       "  <thead>\n",
       "    <tr style=\"text-align: right;\">\n",
       "      <th></th>\n",
       "      <th>deminit_trde_private_and_public_per_capita_passenger_km</th>\n",
       "      <th>deminit_trde_regional_per_capita_passenger_km</th>\n",
       "    </tr>\n",
       "  </thead>\n",
       "  <tbody>\n",
       "    <tr>\n",
       "      <th>0</th>\n",
       "      <td>90.416780</td>\n",
       "      <td>13.224175</td>\n",
       "    </tr>\n",
       "    <tr>\n",
       "      <th>1</th>\n",
       "      <td>90.835038</td>\n",
       "      <td>13.124486</td>\n",
       "    </tr>\n",
       "    <tr>\n",
       "      <th>2</th>\n",
       "      <td>90.835038</td>\n",
       "      <td>13.124486</td>\n",
       "    </tr>\n",
       "    <tr>\n",
       "      <th>3</th>\n",
       "      <td>90.835038</td>\n",
       "      <td>13.124486</td>\n",
       "    </tr>\n",
       "    <tr>\n",
       "      <th>4</th>\n",
       "      <td>90.835038</td>\n",
       "      <td>13.124486</td>\n",
       "    </tr>\n",
       "  </tbody>\n",
       "</table>\n",
       "</div>"
      ],
      "text/plain": [
       "   deminit_trde_private_and_public_per_capita_passenger_km  \\\n",
       "0                                          90.416780         \n",
       "1                                          90.835038         \n",
       "2                                          90.835038         \n",
       "3                                          90.835038         \n",
       "4                                          90.835038         \n",
       "\n",
       "   deminit_trde_regional_per_capita_passenger_km  \n",
       "0                                      13.224175  \n",
       "1                                      13.124486  \n",
       "2                                      13.124486  \n",
       "3                                      13.124486  \n",
       "4                                      13.124486  "
      ]
     },
     "execution_count": 23,
     "metadata": {},
     "output_type": "execute_result"
    }
   ],
   "source": [
    "og_df = pd.read_csv(os.path.join(INPUT_DATA_DIR_PATH, \"sisepuede_raw_global_inputs_uganda.csv\"))\n",
    "og_df = og_df[[\"deminit_trde_private_and_public_per_capita_passenger_km\", \n",
    "         \"deminit_trde_regional_per_capita_passenger_km\"]]\n",
    "og_df.head()"
   ]
  },
  {
   "cell_type": "code",
   "execution_count": 24,
   "id": "da749b5f",
   "metadata": {},
   "outputs": [
    {
     "data": {
      "text/plain": [
       "<Axes: >"
      ]
     },
     "execution_count": 24,
     "metadata": {},
     "output_type": "execute_result"
    },
    {
     "data": {
      "image/png": "[encoded data removed]",
      "text/plain": [
       "<Figure size 640x480 with 1 Axes>"
      ]
     },
     "metadata": {},
     "output_type": "display_data"
    }
   ],
   "source": [
    "pop_df[\"pop_total\"].plot()"
   ]
  },
  {
   "cell_type": "code",
   "execution_count": 25,
   "id": "3c654604",
   "metadata": {},
   "outputs": [
    {
     "data": {
      "image/png": "[encoded data removed]",
      "text/plain": [
       "<Figure size 1200x500 with 2 Axes>"
      ]
     },
     "metadata": {},
     "output_type": "display_data"
    }
   ],
   "source": [
    "edau.compare_variables(trde_passenger_df_extended,\n",
    "                       og_df,\n",
    "                       [\"deminit_trde_private_and_public_per_capita_passenger_km\",\n",
    "                        \"deminit_trde_regional_per_capita_passenger_km\"]\n",
    "                        )"
   ]
  },
  {
   "cell_type": "code",
   "execution_count": 26,
   "id": "69965aa6",
   "metadata": {},
   "outputs": [],
   "source": [
    "trde_passenger_df_extended.to_csv(os.path.join(OUTPUT_DATA_DIR_PATH, \"deminit_trde_per_capita_passenger_km.csv\"), index=False)"
   ]
  },
  {
   "cell_type": "code",
   "execution_count": null,
   "id": "513b63cb",
   "metadata": {},
   "outputs": [],
   "source": []
  }
 ],
 "metadata": {
  "kernelspec": {
   "display_name": "uganda_data_env",
   "language": "python",
   "name": "python3"
  },
  "language_info": {
   "codemirror_mode": {
    "name": "ipython",
    "version": 3
   },
   "file_extension": ".py",
   "mimetype": "text/x-python",
   "name": "python",
   "nbconvert_exporter": "python",
   "pygments_lexer": "ipython3",
   "version": "3.11.13"
  }
 },
 "nbformat": 4,
 "nbformat_minor": 5
}
